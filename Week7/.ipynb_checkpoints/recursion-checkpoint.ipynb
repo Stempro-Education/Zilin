{
 "cells": [
  {
   "cell_type": "markdown",
   "metadata": {},
   "source": [
    "# Recursion\n",
    "\n",
    "<b>What is recursion? Why we need recursion?</b>\n",
    "\n",
    "Everything is repeating itself.\n"
   ]
  },
  {
   "cell_type": "markdown",
   "metadata": {},
   "source": [
    "## Get Sum of List Number\n",
    "### Normal way"
   ]
  },
  {
   "cell_type": "code",
   "execution_count": 2,
   "metadata": {},
   "outputs": [
    {
     "name": "stdout",
     "output_type": "stream",
     "text": [
      "10\n"
     ]
    }
   ],
   "source": [
    "def get_sum(num_list):\n",
    "    s = 0\n",
    "    for i in num_list:\n",
    "        s = s + i\n",
    "    return s\n",
    "\n",
    "print(get_sum([1, 2, 3, 4]))"
   ]
  },
  {
   "cell_type": "markdown",
   "metadata": {},
   "source": [
    "### Recursion way"
   ]
  },
  {
   "cell_type": "code",
   "execution_count": 1,
   "metadata": {},
   "outputs": [
    {
     "name": "stdout",
     "output_type": "stream",
     "text": [
      "10\n"
     ]
    }
   ],
   "source": [
    "def get_sum(num_list):\n",
    "    if len(num_list) == 1:\n",
    "        return num_list[0]\n",
    "    else:\n",
    "        return num_list[0] + get_sum(num_list[1:])\n",
    "    \n",
    "print(get_sum([1, 2, 3, 4]))"
   ]
  },
  {
   "cell_type": "markdown",
   "metadata": {},
   "source": [
    "## There law of Recursion\n",
    "\n",
    "1. A recursive algorithm must have a base case.\n",
    "2. A recursive algorithm must change its state and move toward the base case.\n",
    "3. A recursive algorithm must call itself, recursively."
   ]
  },
  {
   "cell_type": "markdown",
   "metadata": {},
   "source": [
    "## Fibonacci"
   ]
  },
  {
   "cell_type": "code",
   "execution_count": 11,
   "metadata": {},
   "outputs": [
    {
     "name": "stdout",
     "output_type": "stream",
     "text": [
      "8\n"
     ]
    }
   ],
   "source": [
    "def fibonacci(n):\n",
    "    if n < 2:\n",
    "        return 1\n",
    "    return fibonacci(n-1) + fibonacci(n-2)\n",
    "\n",
    "print(fibonacci(5))"
   ]
  },
  {
   "cell_type": "markdown",
   "metadata": {},
   "source": [
    "### Non recursion solution"
   ]
  },
  {
   "cell_type": "code",
   "execution_count": 21,
   "metadata": {},
   "outputs": [
    {
     "name": "stdout",
     "output_type": "stream",
     "text": [
      "8\n"
     ]
    }
   ],
   "source": [
    "def fibonacci(n):\n",
    "    if n < 2:\n",
    "        return 1\n",
    "    n0 = 1\n",
    "    n1 = 1\n",
    "    for i in range(n-1):\n",
    "        cur = n0 + n1\n",
    "        n0 = n1\n",
    "        n1 = cur\n",
    "    return cur\n",
    "\n",
    "print(fibonacci(5))"
   ]
  },
  {
   "cell_type": "markdown",
   "metadata": {},
   "source": [
    "## Convert an integer to a string in any base\n",
    "\n",
    "Think about the 3 laws:\n",
    "\n",
    "<li>When recursion stop</li>\n",
    "<li>How the state change</li>\n",
    "<li>Call itself</li>"
   ]
  },
  {
   "cell_type": "code",
   "execution_count": 36,
   "metadata": {},
   "outputs": [
    {
     "name": "stdout",
     "output_type": "stream",
     "text": [
      "5AD\n"
     ]
    }
   ],
   "source": [
    "def get_chr(n):\n",
    "    if n < 10:\n",
    "        return chr(ord('0') + n)\n",
    "    else:\n",
    "        return chr(ord('A') + n - 10)\n",
    "\n",
    "def to_str(n, base):\n",
    "    if n < base:\n",
    "        return get_chr(n)\n",
    "    else:\n",
    "        return to_str(n // base, base) + get_chr(n % base)\n",
    "\n",
    "print(to_str(1453, 16))\n"
   ]
  },
  {
   "cell_type": "markdown",
   "metadata": {},
   "source": [
    "## Use stack to similar recursion"
   ]
  },
  {
   "cell_type": "code",
   "execution_count": 3,
   "metadata": {},
   "outputs": [
    {
     "name": "stdout",
     "output_type": "stream",
     "text": [
      "5AD\n"
     ]
    }
   ],
   "source": [
    "def get_chr(n):\n",
    "    if n < 10:\n",
    "        return chr(ord('0') + n)\n",
    "    else:\n",
    "        return chr(ord('A') + n - 10)\n",
    "    \n",
    "def to_str(n, base):\n",
    "    r_stack = []\n",
    "    print(2)\n",
    "    if n < 10:\n",
    "        return chr(ord('0') + n)\n",
    "    else:\n",
    "        return chr(ord('A') + n - 10)\n",
    "    \n",
    "def to_str(n, base):\n",
    "    r_stack = []\n",
    "    while n > 0:\n",
    "        if n < base:\n",
    "            r_stack.append(get_chr(n))\n",
    "        else:\n",
    "            r_stack.append(get_chr(n % base))\n",
    "        n = n // base\n",
    "    res = \"\"\n",
    "    while len(r_stack) > 0:\n",
    "        res = res + str(r_stack.pop())\n",
    "    return res\n",
    "\n",
    "print(to_str(1453, 16)) "
   ]
  },
  {
   "cell_type": "markdown",
   "metadata": {},
   "source": [
    "# Hanoi tower\n",
    "\n",
    "What is Hanoi tower?"
   ]
  },
  {
   "cell_type": "code",
   "execution_count": 6,
   "metadata": {},
   "outputs": [
    {
     "name": "stdout",
     "output_type": "stream",
     "text": [
      "moving disk from A to B\n",
      "moving disk from A to C\n",
      "moving disk from B to C\n",
      "moving disk from A to B\n",
      "moving disk from C to A\n",
      "moving disk from C to B\n",
      "moving disk from A to B\n"
     ]
    }
   ],
   "source": [
    "def move_disk(fp,tp):\n",
    "    print(\"moving disk from\", fp, \"to\", tp)\n",
    "\n",
    "def move_tower(height, from_pole, to_pole, with_pole):\n",
    "    if height >= 1:\n",
    "        move_tower(height - 1, from_pole, with_pole, to_pole)\n",
    "        move_disk(from_pole, to_pole)\n",
    "        move_tower(height - 1, with_pole, to_pole, from_pole)\n",
    "\n",
    "move_tower(3, \"A\", \"B\", \"C\")"
   ]
  },
  {
   "cell_type": "markdown",
   "metadata": {},
   "source": [
    "## Eight Queens\n",
    "\n",
    "What is eight queens question?"
   ]
  },
  {
   "cell_type": "code",
   "execution_count": 30,
   "metadata": {},
   "outputs": [
    {
     "name": "stdout",
     "output_type": "stream",
     "text": [
      "[[(1, 2), (2, 4), (3, 1), (4, 3)], [(1, 3), (2, 1), (3, 4), (4, 2)]]\n"
     ]
    }
   ],
   "source": [
    "def solve(board_size):\n",
    "    return solve_queens(board_size, board_size)\n",
    "\n",
    "def solve_queens(n, board_size):\n",
    "    if n == 0:\n",
    "        return [[]]\n",
    "    smaller_solutions = solve_queens(n-1, board_size)\n",
    "    solutions = []\n",
    "    for solution in smaller_solutions:\n",
    "        for column in range(1, board_size + 1):\n",
    "            if not under_attack(column , solution): \n",
    "                solutions.append(solution + [(n,column)])\n",
    "    return solutions\n",
    "\n",
    "def under_attack(column, existing_queens):\n",
    "    row = len(existing_queens)+1\n",
    "    for queen in existing_queens:\n",
    "        r,c = queen\n",
    "        if r == row:\n",
    "            return True\n",
    "        if c == column:\n",
    "            return True\n",
    "        if (column-c) == (row-r):\n",
    "            return True\n",
    "        if (column-c) == -(row-r):\n",
    "            return True\n",
    "    return False\n",
    "\n",
    "print(solve(4))"
   ]
  },
  {
   "cell_type": "markdown",
   "metadata": {},
   "source": [
    "Found better solution?"
   ]
  }
 ],
 "metadata": {
  "kernelspec": {
   "display_name": "Python 3",
   "language": "python",
   "name": "python3"
  },
  "language_info": {
   "codemirror_mode": {
    "name": "ipython",
    "version": 3
   },
   "file_extension": ".py",
   "mimetype": "text/x-python",
   "name": "python",
   "nbconvert_exporter": "python",
   "pygments_lexer": "ipython3",
   "version": "3.7.4"
  }
 },
 "nbformat": 4,
 "nbformat_minor": 2
}
