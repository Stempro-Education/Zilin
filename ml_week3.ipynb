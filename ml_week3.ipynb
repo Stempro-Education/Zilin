{
 "cells": [
  {
   "cell_type": "code",
   "execution_count": 1,
   "metadata": {},
   "outputs": [
    {
     "name": "stdout",
     "output_type": "stream",
     "text": [
      "Automatically created module for IPython interactive environment\n"
     ]
    }
   ],
   "source": [
    "print(__doc__)\n",
    "\n",
    "%matplotlib inline\n",
    "# Code source: Jaques Grobler\n",
    "# License: BSD 3 clause\n",
    "\n",
    "\n",
    "import matplotlib.pyplot as plt\n",
    "import numpy as np\n",
    "from sklearn import datasets, linear_model\n",
    "from sklearn.metrics import mean_squared_error, r2_score"
   ]
  },
  {
   "cell_type": "code",
   "execution_count": null,
   "metadata": {},
   "outputs": [],
   "source": []
  },
  {
   "cell_type": "code",
   "execution_count": 2,
   "metadata": {},
   "outputs": [],
   "source": [
    "traindata_X = [[10],[12],[20],[25],[18],[32],[40],[42]]\n",
    "traindata_y =[5,7.2,7,8,10,11,15,26]\n",
    "testdata_X = [[28],[60],[38]]\n",
    "testdata_y = [9,25,14]"
   ]
  },
  {
   "cell_type": "code",
   "execution_count": 3,
   "metadata": {},
   "outputs": [
    {
     "name": "stdout",
     "output_type": "stream",
     "text": [
      "Coefficients: \n",
      " [0.46712744]\n",
      "Intercept: \n",
      " -0.46979507699769485\n",
      "Mean squared error: 10.11\n"
     ]
    },
    {
     "data": {
      "image/png": "[encoded data removed]",
      "text/plain": [
       "<Figure size 432x288 with 1 Axes>"
      ]
     },
     "metadata": {
      "needs_background": "light"
     },
     "output_type": "display_data"
    }
   ],
   "source": [
    "# Create linear regression object\n",
    "regr = linear_model.LinearRegression()\n",
    "\n",
    "# Train the model using the training sets\n",
    "regr.fit(traindata_X, traindata_y)\n",
    "\n",
    "# Make predictions using the testing set\n",
    "testdata_y_pred = regr.predict(testdata_X)\n",
    "\n",
    "# The coefficients\n",
    "print('Coefficients: \\n', regr.coef_)\n",
    "print('Intercept: \\n', regr.intercept_)\n",
    "# The mean squared error\n",
    "print('Mean squared error: %.2f'\n",
    "      % mean_squared_error(testdata_y, testdata_y_pred))\n",
    "\n",
    "\n",
    "# Plot outputs\n",
    "plt.scatter(traindata_X, traindata_y,  color='red')\n",
    "plt.scatter(testdata_X, testdata_y,  color='black')\n",
    "\n",
    "list_x=[]\n",
    "list_y=[]\n",
    "for x in range(0,100):\n",
    "    y = regr.coef_ * x + regr.intercept_\n",
    "    list_x.append(x)\n",
    "    list_y.append(y)\n",
    "plt.plot(list_x, list_y, color='blue')  \n",
    "\n",
    "#plt.scatter(diabetes_X_test, diabetes_y_test,  color='black')\n",
    "\n",
    "#plt.plot(testdata_X, testdata_y_pred, color='blue', linewidth=3)\n",
    "\n",
    "#plt.xticks(())\n",
    "#plt.yticks(())\n",
    "\n",
    "plt.show()"
   ]
  },
  {
   "cell_type": "code",
   "execution_count": 4,
   "metadata": {},
   "outputs": [],
   "source": [
    "from sklearn.preprocessing import PolynomialFeatures"
   ]
  },
  {
   "cell_type": "code",
   "execution_count": 11,
   "metadata": {},
   "outputs": [],
   "source": [
    "polynomial_features= PolynomialFeatures(degree=4)\n",
    "x_poly = polynomial_features.fit_transform(traindata_X)\n",
    "testdata_x_poly = polynomial_features.fit_transform(testdata_X)"
   ]
  },
  {
   "cell_type": "code",
   "execution_count": 12,
   "metadata": {},
   "outputs": [
    {
     "name": "stdout",
     "output_type": "stream",
     "text": [
      "[[1.000000e+00 2.800000e+01 7.840000e+02 2.195200e+04 6.146560e+05]\n",
      " [1.000000e+00 6.000000e+01 3.600000e+03 2.160000e+05 1.296000e+07]\n",
      " [1.000000e+00 3.800000e+01 1.444000e+03 5.487200e+04 2.085136e+06]]\n"
     ]
    }
   ],
   "source": [
    "print(testdata_x_poly)"
   ]
  },
  {
   "cell_type": "code",
   "execution_count": 13,
   "metadata": {},
   "outputs": [],
   "source": [
    "model = linear_model.LinearRegression()\n",
    "model.fit(x_poly, traindata_y)\n",
    "\n",
    "testdata_y_poly_pred = model.predict(testdata_x_poly)"
   ]
  },
  {
   "cell_type": "code",
   "execution_count": 14,
   "metadata": {},
   "outputs": [
    {
     "name": "stdout",
     "output_type": "stream",
     "text": [
      "[  8.76887536 272.3124462   13.60601747]\n"
     ]
    }
   ],
   "source": [
    "print(testdata_y_poly_pred)"
   ]
  },
  {
   "cell_type": "code",
   "execution_count": 15,
   "metadata": {},
   "outputs": [
    {
     "name": "stdout",
     "output_type": "stream",
     "text": [
      "[ 0.00000000e+00 -3.32172393e+00  3.09099262e-01 -1.08423050e-02\n",
      "  1.29874293e-04]\n",
      "17.625590794981512\n"
     ]
    }
   ],
   "source": [
    "print(model.coef_)\n",
    "print(model.intercept_)"
   ]
  },
  {
   "cell_type": "code",
   "execution_count": 19,
   "metadata": {},
   "outputs": [
    {
     "data": {
      "text/plain": [
       "[<matplotlib.lines.Line2D at 0x1a1f402810>]"
      ]
     },
     "execution_count": 19,
     "metadata": {},
     "output_type": "execute_result"
    },
    {
     "data": {
      "image/png": "[encoded data removed]",
      "text/plain": [
       "<Figure size 432x288 with 1 Axes>"
      ]
     },
     "metadata": {
      "needs_background": "light"
     },
     "output_type": "display_data"
    }
   ],
   "source": [
    "list_poly_x=[]\n",
    "list_poly_y=[]\n",
    "for x in range(0,100):\n",
    "    y = model.coef_[4] * x**4 + model.coef_[3] * x**3+model.coef_[2] * x*x+model.coef_[1] * x   + model.intercept_\n",
    "    list_poly_x.append(x)\n",
    "    list_poly_y.append(y)\n",
    "\n",
    "    \n",
    "for x in range(0,100):\n",
    "    y = regr.coef_ * x + regr.intercept_\n",
    "    list_x.append(x)\n",
    "    list_y.append(y)\n",
    "    \n",
    "plt.plot(list_x, list_y, color='blue')      \n",
    "plt.scatter(traindata_X, traindata_y,  color='red')\n",
    "plt.scatter(testdata_X, testdata_y,  color='black')\n",
    "plt.plot(list_poly_x, list_poly_y, color='green')  \n"
   ]
  },
  {
   "cell_type": "code",
   "execution_count": 20,
   "metadata": {},
   "outputs": [
    {
     "name": "stdout",
     "output_type": "stream",
     "text": [
      "Mean squared error of line model: 10.11\n",
      "Mean squared error of second order polynomial model: 20387.88\n"
     ]
    }
   ],
   "source": [
    "print('Mean squared error of line model: %.2f'\n",
    "      % mean_squared_error(testdata_y, testdata_y_pred))\n",
    "print('Mean squared error of second order polynomial model: %.2f'\n",
    "      % mean_squared_error(testdata_y, testdata_y_poly_pred))"
   ]
  },
  {
   "cell_type": "code",
   "execution_count": null,
   "metadata": {},
   "outputs": [],
   "source": []
  },
  {
   "cell_type": "code",
   "execution_count": null,
   "metadata": {},
   "outputs": [],
   "source": []
  }
 ],
 "metadata": {
  "kernelspec": {
   "display_name": "Python 3",
   "language": "python",
   "name": "python3"
  },
  "language_info": {
   "codemirror_mode": {
    "name": "ipython",
    "version": 3
   },
   "file_extension": ".py",
   "mimetype": "text/x-python",
   "name": "python",
   "nbconvert_exporter": "python",
   "pygments_lexer": "ipython3",
   "version": "3.7.4"
  }
 },
 "nbformat": 4,
 "nbformat_minor": 2
}
