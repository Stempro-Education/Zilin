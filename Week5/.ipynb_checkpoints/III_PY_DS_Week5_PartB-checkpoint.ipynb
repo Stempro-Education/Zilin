{
 "cells": [
  {
   "cell_type": "markdown",
   "metadata": {},
   "source": [
    "<font size=6 bold=true>Jan 5, 2020 -- Part B\n",
    "<br><br>Excercise</font>\n",
    "\n",
    "<font size=5 color='Olive'>For the first 5 lessons, DS will be combined with Python due to insufficiencies of Concepts</font>"
   ]
  },
  {
   "cell_type": "code",
   "execution_count": 346,
   "metadata": {
    "ExecuteTime": {
     "end_time": "2020-01-05T18:01:49.757557Z",
     "start_time": "2020-01-05T18:01:49.753554Z"
    }
   },
   "outputs": [
    {
     "data": {
      "text/markdown": [
       "\n",
       "# 1. Flow Design: input, output\n",
       "# 2. Get the US college list and their websites\n",
       "# 3. Data preparation and sanity check\n",
       "# 4. Measurement: make sure data are as complete as possible\n",
       "# 5. Split tasks \n",
       "# 6. Merge and Pandas (from middle this week)\n"
      ],
      "text/plain": [
       "<IPython.core.display.Markdown object>"
      ]
     },
     "metadata": {},
     "output_type": "display_data"
    }
   ],
   "source": [
    "display(Markdown(\n",
    "\"\"\"\n",
    "# 1. Flow Design: input, output\n",
    "# 2. Get the US college list and their websites\n",
    "# 3. Data preparation and sanity check\n",
    "# 4. Measurement: make sure data are as complete as possible\n",
    "# 5. Split tasks \n",
    "# 6. Merge and Pandas (from middle this week)\n",
    "\"\"\"\n",
    "))"
   ]
  },
  {
   "cell_type": "code",
   "execution_count": 332,
   "metadata": {
    "ExecuteTime": {
     "end_time": "2020-01-05T17:46:14.196254Z",
     "start_time": "2020-01-05T17:46:14.190254Z"
    }
   },
   "outputs": [],
   "source": [
    "import re\n",
    "import spacy \n",
    "from spacy import displacy\n",
    "import en_core_web_sm\n",
    "from pathlib import Path\n",
    "from IPython.display import display, Markdown, Latex \n",
    "import sys\n",
    "import csv\n",
    "import pandas as pd\n",
    "import numpy as np\n",
    "import os\n",
    "from os import path\n",
    "from datetime import datetime\n",
    "from urllib.parse import urlparse, urljoin\n",
    "import requests\n",
    "import ntpath\n",
    "from bs4 import BeautifulSoup, Comment\n",
    "import time\n",
    "from pprint import pprint \n",
    "import shutil\n",
    "#!pip install tldextract\n",
    "import tldextract\n",
    "'''\n",
    "import sys\n",
    "sys.path.insert(0, os.path.abspath('C:/Coding/Get'))\n",
    "import CollegeContent as C\n",
    "'''"
   ]
  },
  {
   "cell_type": "code",
   "execution_count": 340,
   "metadata": {
    "ExecuteTime": {
     "end_time": "2020-01-05T18:00:13.550233Z",
     "start_time": "2020-01-05T18:00:13.544275Z"
    }
   },
   "outputs": [
    {
     "data": {
      "text/markdown": [
       "\n",
       "# 1. Flow Design: input, output\n"
      ],
      "text/plain": [
       "<IPython.core.display.Markdown object>"
      ]
     },
     "metadata": {},
     "output_type": "display_data"
    }
   ],
   "source": [
    "display(Markdown(\n",
    "\"\"\"\n",
    "# 1. Flow Design: input, output\n",
    "\"\"\"\n",
    "))"
   ]
  },
  {
   "cell_type": "code",
   "execution_count": null,
   "metadata": {},
   "outputs": [],
   "source": []
  },
  {
   "cell_type": "code",
   "execution_count": 341,
   "metadata": {
    "ExecuteTime": {
     "end_time": "2020-01-05T18:00:42.439409Z",
     "start_time": "2020-01-05T18:00:42.433444Z"
    }
   },
   "outputs": [
    {
     "data": {
      "text/markdown": [
       " \n",
       "# 2. Get the US college list and their websites \n"
      ],
      "text/plain": [
       "<IPython.core.display.Markdown object>"
      ]
     },
     "metadata": {},
     "output_type": "display_data"
    }
   ],
   "source": [
    "display(Markdown(\n",
    "\"\"\" \n",
    "# 2. Get the US college list and their websites \n",
    "\"\"\"\n",
    "))"
   ]
  },
  {
   "cell_type": "code",
   "execution_count": null,
   "metadata": {},
   "outputs": [],
   "source": []
  },
  {
   "cell_type": "code",
   "execution_count": 342,
   "metadata": {
    "ExecuteTime": {
     "end_time": "2020-01-05T18:00:51.994568Z",
     "start_time": "2020-01-05T18:00:51.989564Z"
    }
   },
   "outputs": [
    {
     "data": {
      "text/markdown": [
       " \n",
       "# 3. Data preparation and sanity check \n"
      ],
      "text/plain": [
       "<IPython.core.display.Markdown object>"
      ]
     },
     "metadata": {},
     "output_type": "display_data"
    }
   ],
   "source": [
    "display(Markdown(\n",
    "\"\"\" \n",
    "# 3. Data preparation and sanity check \n",
    "\"\"\"\n",
    "))"
   ]
  },
  {
   "cell_type": "code",
   "execution_count": null,
   "metadata": {},
   "outputs": [],
   "source": []
  },
  {
   "cell_type": "code",
   "execution_count": 343,
   "metadata": {
    "ExecuteTime": {
     "end_time": "2020-01-05T18:01:01.962803Z",
     "start_time": "2020-01-05T18:01:01.955839Z"
    }
   },
   "outputs": [
    {
     "data": {
      "text/markdown": [
       " \n",
       "# 4. Measurement: make sure data are as complete as possible \n"
      ],
      "text/plain": [
       "<IPython.core.display.Markdown object>"
      ]
     },
     "metadata": {},
     "output_type": "display_data"
    }
   ],
   "source": [
    "display(Markdown(\n",
    "\"\"\" \n",
    "# 4. Measurement: make sure data are as complete as possible \n",
    "\"\"\"\n",
    "))"
   ]
  },
  {
   "cell_type": "code",
   "execution_count": null,
   "metadata": {},
   "outputs": [],
   "source": []
  },
  {
   "cell_type": "code",
   "execution_count": 344,
   "metadata": {
    "ExecuteTime": {
     "end_time": "2020-01-05T18:01:08.243722Z",
     "start_time": "2020-01-05T18:01:08.238681Z"
    }
   },
   "outputs": [
    {
     "data": {
      "text/markdown": [
       " \n",
       "# 5. Split tasks \n"
      ],
      "text/plain": [
       "<IPython.core.display.Markdown object>"
      ]
     },
     "metadata": {},
     "output_type": "display_data"
    }
   ],
   "source": [
    "display(Markdown(\n",
    "\"\"\" \n",
    "# 5. Split tasks \n",
    "\"\"\"\n",
    "))"
   ]
  },
  {
   "cell_type": "code",
   "execution_count": null,
   "metadata": {},
   "outputs": [],
   "source": []
  },
  {
   "cell_type": "code",
   "execution_count": 347,
   "metadata": {
    "ExecuteTime": {
     "end_time": "2020-01-05T18:02:12.304935Z",
     "start_time": "2020-01-05T18:02:12.300014Z"
    }
   },
   "outputs": [
    {
     "data": {
      "text/markdown": [
       " \n",
       "# 6. Merge and Pandas (from middle this week)\n"
      ],
      "text/plain": [
       "<IPython.core.display.Markdown object>"
      ]
     },
     "metadata": {},
     "output_type": "display_data"
    }
   ],
   "source": [
    "display(Markdown(\n",
    "\"\"\" \n",
    "# 6. Merge and Pandas (from middle this week)\n",
    "\"\"\"\n",
    "))\n"
   ]
  },
  {
   "cell_type": "code",
   "execution_count": null,
   "metadata": {},
   "outputs": [],
   "source": []
  }
 ],
 "metadata": {
  "kernelspec": {
   "display_name": "Python 3",
   "language": "python",
   "name": "python3"
  },
  "language_info": {
   "codemirror_mode": {
    "name": "ipython",
    "version": 3
   },
   "file_extension": ".py",
   "mimetype": "text/x-python",
   "name": "python",
   "nbconvert_exporter": "python",
   "pygments_lexer": "ipython3",
   "version": "3.7.5"
  },
  "toc": {
   "base_numbering": 1,
   "nav_menu": {},
   "number_sections": true,
   "sideBar": true,
   "skip_h1_title": false,
   "title_cell": "Table of Contents",
   "title_sidebar": "Contents",
   "toc_cell": false,
   "toc_position": {
    "height": "calc(100% - 180px)",
    "left": "10px",
    "top": "150px",
    "width": "165px"
   },
   "toc_section_display": true,
   "toc_window_display": true
  }
 },
 "nbformat": 4,
 "nbformat_minor": 2
}
