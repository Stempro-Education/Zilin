{
 "cells": [
  {
   "cell_type": "code",
   "execution_count": 112,
   "metadata": {
    "ExecuteTime": {
     "end_time": "2020-01-05T18:07:21.894700Z",
     "start_time": "2020-01-05T18:07:21.890700Z"
    }
   },
   "outputs": [],
   "source": [
    "import numpy as np\n",
    "import pandas as pd\n",
    "from IPython.display import display, Markdown, Latex \n",
    "import re\n",
    "from pathlib import Path"
   ]
  },
  {
   "cell_type": "code",
   "execution_count": 111,
   "metadata": {
    "ExecuteTime": {
     "end_time": "2020-01-05T18:05:39.384034Z",
     "start_time": "2020-01-05T18:05:39.363000Z"
    }
   },
   "outputs": [
    {
     "data": {
      "text/markdown": [
       " # Pandas Preview: Merge "
      ],
      "text/plain": [
       "<IPython.core.display.Markdown object>"
      ]
     },
     "metadata": {},
     "output_type": "display_data"
    }
   ],
   "source": [
    "display(Markdown(\" # Pandas Preview: Merge \")) "
   ]
  },
  {
   "cell_type": "markdown",
   "metadata": {},
   "source": [
    "### Review Merge() method in the college crawl class"
   ]
  },
  {
   "cell_type": "code",
   "execution_count": null,
   "metadata": {},
   "outputs": [],
   "source": [
    "def Merge(self, merged_file_folder=None, isRemoveRawFile=False ): \n",
    "        if merged_file_folder==None:\n",
    "            merged_file_folder='./training'  \n",
    "        \n",
    "        elif not re.match(r'^\\.',merged_file_folder):\n",
    "            print('Please provide a destination folder for merged file. e.g., ./training')\n",
    "            return\n",
    "        #safely create file\n",
    "        Path(path.join(os.getcwd(), merged_file_folder)).mkdir(parents=True, exist_ok=True)\n",
    "        \n",
    "        merged_file=path.join(path.split(self.existingurlfile)[0], 'merged_'+path.split(self.existingurlfile)[1])\n",
    "            \n",
    "        #loaded files\n",
    "        files=[(path.join(self.save_to_folder, f), 1)  for f in os.listdir(self.save_to_folder) if re.match(r'^http.+\\d+.+csv$', f)]\n",
    "\n",
    "        if path.exists(merged_file):\n",
    "            files.append((merged_file, 0))\n",
    "\n",
    "        df_combined = pd.concat([pd.read_csv(f[0] , sep='\\t') for f in files])\n",
    "        #drop dups\n",
    "        df_combined.drop_duplicates(inplace=True)\n",
    "        df_combined.to_csv( merged_file, index=False, sep='\\t', encoding='utf-8')\n",
    "\n",
    "        if isRemoveRawFile:\n",
    "            for f in files:\n",
    "                if f[1]==1:\n",
    "                    os.remove(f[0])"
   ]
  },
  {
   "cell_type": "code",
   "execution_count": null,
   "metadata": {},
   "outputs": [],
   "source": []
  }
 ],
 "metadata": {
  "kernelspec": {
   "display_name": "Python 3",
   "language": "python",
   "name": "python3"
  },
  "language_info": {
   "codemirror_mode": {
    "name": "ipython",
    "version": 3
   },
   "file_extension": ".py",
   "mimetype": "text/x-python",
   "name": "python",
   "nbconvert_exporter": "python",
   "pygments_lexer": "ipython3",
   "version": "3.7.5"
  },
  "toc": {
   "base_numbering": 1,
   "nav_menu": {},
   "number_sections": true,
   "sideBar": true,
   "skip_h1_title": false,
   "title_cell": "Table of Contents",
   "title_sidebar": "Contents",
   "toc_cell": false,
   "toc_position": {
    "height": "calc(100% - 180px)",
    "left": "10px",
    "top": "150px",
    "width": "279.273px"
   },
   "toc_section_display": true,
   "toc_window_display": true
  }
 },
 "nbformat": 4,
 "nbformat_minor": 2
}
