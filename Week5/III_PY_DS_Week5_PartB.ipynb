{
 "cells": [
  {
   "cell_type": "markdown",
   "metadata": {},
   "source": [
    "<font size=6 bold=true>Jan 5, 2020 -- Part B\n",
    "<br><br>Excercise</font>\n",
    "\n",
    "<font size=5 color='Olive'>For the first 5 lessons, DS will be combined with Python due to insufficiencies of Concepts</font>"
   ]
  },
  {
   "cell_type": "code",
   "execution_count": 2,
   "metadata": {
    "ExecuteTime": {
     "end_time": "2020-01-05T18:01:49.757557Z",
     "start_time": "2020-01-05T18:01:49.753554Z"
    }
   },
   "outputs": [
    {
     "ename": "NameError",
     "evalue": "name 'Markdown' is not defined",
     "output_type": "error",
     "traceback": [
      "\u001b[0;31m---------------------------------------------------------------------------\u001b[0m",
      "\u001b[0;31mNameError\u001b[0m                                 Traceback (most recent call last)",
      "\u001b[0;32m<ipython-input-2-7590df1298eb>\u001b[0m in \u001b[0;36m<module>\u001b[0;34m\u001b[0m\n\u001b[0;32m----> 1\u001b[0;31m display(Markdown(\n\u001b[0m\u001b[1;32m      2\u001b[0m \"\"\"\n\u001b[1;32m      3\u001b[0m \u001b[0;31m# 1. Flow Design: input, output\u001b[0m\u001b[0;34m\u001b[0m\u001b[0;34m\u001b[0m\u001b[0;34m\u001b[0m\u001b[0m\n\u001b[1;32m      4\u001b[0m \u001b[0;31m# 2. Get the US college list and their websites\u001b[0m\u001b[0;34m\u001b[0m\u001b[0;34m\u001b[0m\u001b[0;34m\u001b[0m\u001b[0m\n\u001b[1;32m      5\u001b[0m \u001b[0;31m# 3. Data preparation and sanity check\u001b[0m\u001b[0;34m\u001b[0m\u001b[0;34m\u001b[0m\u001b[0;34m\u001b[0m\u001b[0m\n",
      "\u001b[0;31mNameError\u001b[0m: name 'Markdown' is not defined"
     ]
    }
   ],
   "source": [
    "display(Markdown(\n",
    "\"\"\"\n",
    "# 1. Flow Design: input, output\n",
    "# 2. Get the US college list and their websites\n",
    "# 3. Data preparation and sanity check\n",
    "# 4. Measurement: make sure data are as complete as possible\n",
    "# 5. Split tasks \n",
    "# 6. Merge and Pandas (from middle this week)\n",
    "\"\"\"\n",
    "))"
   ]
  },
  {
   "cell_type": "code",
   "execution_count": 1,
   "metadata": {
    "ExecuteTime": {
     "end_time": "2020-01-05T17:46:14.196254Z",
     "start_time": "2020-01-05T17:46:14.190254Z"
    }
   },
   "outputs": [
    {
     "data": {
      "text/plain": [
       "\"\\nimport sys\\nsys.path.insert(0, os.path.abspath('C:/Coding/Get'))\\nimport CollegeContent as C\\n\""
      ]
     },
     "execution_count": 1,
     "metadata": {},
     "output_type": "execute_result"
    }
   ],
   "source": [
    "import re\n",
    "#import spacy \n",
    "#from spacy import displacy\n",
    "#import en_core_web_sm\n",
    "from pathlib import Path\n",
    "from IPython.display import display, Markdown, Latex \n",
    "import sys\n",
    "import csv\n",
    "import pandas as pd\n",
    "import numpy as np\n",
    "import os\n",
    "from os import path\n",
    "from datetime import datetime\n",
    "from urllib.parse import urlparse, urljoin\n",
    "import requests\n",
    "import ntpath\n",
    "from bs4 import BeautifulSoup, Comment\n",
    "import time\n",
    "from pprint import pprint \n",
    "import shutil\n",
    "#!pip install tldextract\n",
    "import tldextract\n",
    "'''\n",
    "import sys\n",
    "sys.path.insert(0, os.path.abspath('C:/Coding/Get'))\n",
    "import CollegeContent as C\n",
    "'''"
   ]
  },
  {
   "cell_type": "code",
   "execution_count": 7,
   "metadata": {
    "ExecuteTime": {
     "end_time": "2020-01-05T18:00:13.550233Z",
     "start_time": "2020-01-05T18:00:13.544275Z"
    }
   },
   "outputs": [
    {
     "ename": "NameError",
     "evalue": "name 'base_domain' is not defined",
     "output_type": "error",
     "traceback": [
      "\u001b[0;31m---------------------------------------------------------------------------\u001b[0m",
      "\u001b[0;31mNameError\u001b[0m                                 Traceback (most recent call last)",
      "\u001b[0;32m<ipython-input-7-1d740e4485cf>\u001b[0m in \u001b[0;36m<module>\u001b[0;34m\u001b[0m\n\u001b[1;32m      2\u001b[0m \u001b[0mresponse\u001b[0m \u001b[0;34m=\u001b[0m \u001b[0mrequests\u001b[0m\u001b[0;34m.\u001b[0m\u001b[0mget\u001b[0m\u001b[0;34m(\u001b[0m\u001b[0murl\u001b[0m\u001b[0;34m,\u001b[0m \u001b[0mheaders\u001b[0m\u001b[0;34m=\u001b[0m\u001b[0;34m{\u001b[0m\u001b[0;34m'User-Agent'\u001b[0m\u001b[0;34m:\u001b[0m\u001b[0;34m'Mozilla/5.0'\u001b[0m\u001b[0;34m}\u001b[0m\u001b[0;34m)\u001b[0m\u001b[0;34m\u001b[0m\u001b[0;34m\u001b[0m\u001b[0m\n\u001b[1;32m      3\u001b[0m \u001b[0msoup\u001b[0m \u001b[0;34m=\u001b[0m \u001b[0mBeautifulSoup\u001b[0m\u001b[0;34m(\u001b[0m\u001b[0mresponse\u001b[0m\u001b[0;34m.\u001b[0m\u001b[0mtext\u001b[0m\u001b[0;34m)\u001b[0m\u001b[0;34m\u001b[0m\u001b[0;34m\u001b[0m\u001b[0m\n\u001b[0;32m----> 4\u001b[0;31m \u001b[0mprint\u001b[0m\u001b[0;34m(\u001b[0m\u001b[0mgetUList\u001b[0m\u001b[0;34m(\u001b[0m\u001b[0;34m)\u001b[0m\u001b[0;34m)\u001b[0m\u001b[0;34m\u001b[0m\u001b[0;34m\u001b[0m\u001b[0m\n\u001b[0m",
      "\u001b[0;32m<ipython-input-6-a87eb31e8862>\u001b[0m in \u001b[0;36mgetUList\u001b[0;34m(url)\u001b[0m\n\u001b[1;32m     14\u001b[0m                                 \u001b[0;32mif\u001b[0m  \u001b[0;34m(\u001b[0m\u001b[0mextract_uri_domain\u001b[0m\u001b[0;34m.\u001b[0m\u001b[0mdomain\u001b[0m\u001b[0;34m==\u001b[0m\u001b[0;34m''\u001b[0m\u001b[0;34m)\u001b[0m \u001b[0;32mand\u001b[0m \u001b[0mre\u001b[0m\u001b[0;34m.\u001b[0m\u001b[0mmatch\u001b[0m\u001b[0;34m(\u001b[0m\u001b[0;34mr'^\\/.*\\w$'\u001b[0m\u001b[0;34m,\u001b[0m \u001b[0mparsed_uri_path\u001b[0m\u001b[0;34m.\u001b[0m\u001b[0mpath\u001b[0m\u001b[0;34m)\u001b[0m \u001b[0;34m:\u001b[0m\u001b[0;34m\u001b[0m\u001b[0;34m\u001b[0m\u001b[0m\n\u001b[1;32m     15\u001b[0m                                     \u001b[0mabsolute_url\u001b[0m\u001b[0;34m=\u001b[0m\u001b[0murljoin\u001b[0m\u001b[0;34m(\u001b[0m\u001b[0murl_domain_path\u001b[0m\u001b[0;34m,\u001b[0m\u001b[0mparsed_uri_path\u001b[0m\u001b[0;34m.\u001b[0m\u001b[0mpath\u001b[0m\u001b[0;34m)\u001b[0m\u001b[0;34m\u001b[0m\u001b[0;34m\u001b[0m\u001b[0m\n\u001b[0;32m---> 16\u001b[0;31m                                 \u001b[0;32melif\u001b[0m \u001b[0mextract_uri_domain\u001b[0m\u001b[0;34m.\u001b[0m\u001b[0mdomain\u001b[0m\u001b[0;34m==\u001b[0m\u001b[0mbase_domain\u001b[0m\u001b[0;34m:\u001b[0m \u001b[0;31m# and re.match('^http', parsed_uri.scheme):\u001b[0m\u001b[0;34m\u001b[0m\u001b[0;34m\u001b[0m\u001b[0m\n\u001b[0m\u001b[1;32m     17\u001b[0m                                     \u001b[0;32mif\u001b[0m \u001b[0mre\u001b[0m\u001b[0;34m.\u001b[0m\u001b[0mmatch\u001b[0m\u001b[0;34m(\u001b[0m\u001b[0;34mr'^\\/\\/'\u001b[0m\u001b[0;34m,\u001b[0m \u001b[0mlink_url\u001b[0m\u001b[0;34m)\u001b[0m\u001b[0;34m:\u001b[0m\u001b[0;34m\u001b[0m\u001b[0;34m\u001b[0m\u001b[0m\n\u001b[1;32m     18\u001b[0m                                         \u001b[0mabsolute_url\u001b[0m\u001b[0;34m=\u001b[0m\u001b[0mself\u001b[0m\u001b[0;34m.\u001b[0m\u001b[0mscheme\u001b[0m\u001b[0;34m+\u001b[0m\u001b[0;34m':'\u001b[0m\u001b[0;34m+\u001b[0m\u001b[0mlink_url\u001b[0m\u001b[0;34m\u001b[0m\u001b[0;34m\u001b[0m\u001b[0m\n",
      "\u001b[0;31mNameError\u001b[0m: name 'base_domain' is not defined"
     ]
    }
   ],
   "source": [
    "url='https://www.university-list.net/us/universities-2000.htm'\n",
    "response = requests.get(url, headers={'User-Agent':'Mozilla/5.0'})\n",
    "soup = BeautifulSoup(response.text)  \n",
    "print(getUList())"
   ]
  },
  {
   "cell_type": "code",
   "execution_count": 48,
   "metadata": {},
   "outputs": [
    {
     "name": "stdout",
     "output_type": "stream",
     "text": [
      "['http://www.atsu.edu', 'http://www.acu.edu', 'http://www.abac.edu', 'http://www.academyart.edu', 'http://www.adams.edu', 'http://www.adelphi.edu', 'http://www.alfredadler.edu', 'http://www.adler.edu', 'http://adrian.edu', 'http://www.adu.edu', 'http://www.agnesscott.edu', 'http://www.aib.edu', 'http://www.afit.edu', 'http://www.maxwell.af.mil/units/au', 'http://www.aamu.edu', 'http://www.alasu.edu', 'http://www.akbible.edu', 'http://www.alaskapacific.edu', 'http://www.acphs.edu', 'http://www.amc.edu', 'http://www.asurams.edu', 'http://www.albertus.edu', 'http://www.albion.edu', 'http://www.albright.edu', 'http://www.alcorn.edu', 'http://www.ab.edu', 'http://www.alfred.edu', 'http://www.alc.edu', 'http://allegheny.edu', 'http://www.allencollege.edu', 'http://www.allenuniversity.edu', 'http://www.alliant.edu', 'http://www.alma.edu', 'http://www.alvernia.edu', 'http://www.alverno.edu', 'http://www.ambassador.edu', 'http://www.amberton.edu', 'http://www.aaart.edu', 'http://www.acaom.edu', 'http://www.ace.edu', 'http://www.theamericancollege.edu', 'http://www.act-sf.org', 'http://www.afi.com', 'http://www.aicag.edu', 'http://www.aiuniv.edu', 'http://www.aic.edu', 'http://www.aju.edu', 'http://www.amu.apus.edu', 'http://www.apu.apus.edu', 'http://www.american.edu', 'http://www.aupr.edu', 'http://www.amherst.edu', 'http://amridgeuniversity.edu', 'http://www.ambs.edu', 'http://www.andersonuniversity.edu', 'http://www.anderson.edu', 'http://www.ants.edu', 'http://www.andrews.edu', 'http://www.angelo.edu', 'http://www.annamaria.edu', 'http://www.antiochcollege.org', 'http://www.antiochmidwest.edu', 'http://www.antiochne.edu', 'http://www.antiochla.edu', 'http://www.antiochsb.edu', 'http://www.antiochseattle.edu', 'http://aoma.edu', 'http://www.abc.edu', 'http://www.appstate.edu', 'http://www.aquinas.edu', 'http://www.aquinascollege.edu', 'http://www.ai.edu', 'https://www.arcadia.edu', 'https://www.argosy.edu', 'http://arizonachristian.edu', 'http://www.asu.edu', 'https://campus.asu.edu/downtown', 'http://campus.asu.edu/polytechnic', 'http://campus.asu.edu/west', 'http://www.arkansasbaptist.edu', 'http://www.astate.edu', 'http://www.atu.edu', 'http://www.arlingtonbaptistcollege.edu', 'http://www.armstrong.edu', 'http://www.artacademy.edu', 'http://www.artcenter.edu', 'http://www.artinstitutes.edu/atlanta', 'http://www.artinstitutes.edu/denver', 'http://www.artinstitutes.edu/dallas', 'https://www.artinstitutes.edu/houston', 'http://www.artinstitutes.edu/pittsburgh', 'http://www.artinstitutes.edu/portland', 'http://www.artinstitutes.edu/seattle', 'http://asburyseminary.edu', 'http://www.asbury.edu', 'http://www.ashford.edu', 'https://www.ashland.edu', 'http://www.assumption.edu', 'http://www.athenaeum.edu', 'http://www.athens.edu', 'http://www.auburn.edu', 'http://www.aum.edu', 'http://www.augsburg.edu', 'http://www.augustana.edu', 'http://www.augie.edu', 'http://www.aurora.edu', 'http://www.austincollege.edu', 'http://www.austingrad.edu', 'http://www.apsu.edu', 'http://www.austinseminary.edu', 'http://www.avemaria.edu', 'http://www.averett.edu', 'http://www.avila.edu', 'http://www.apu.edu', 'http://www.babson.edu', 'http://www.bacone.edu', 'http://www.bw.edu', 'http://www.bsu.edu', 'http://www.baker.edu', 'http://www.bakeru.edu', 'http://www.bts.edu', 'https://www.bankstreet.edu', 'http://www.gobbc.edu', 'http://www.baptistcollege.edu', 'http://www.bchs.edu', 'http://bmats.edu', 'http://www.barclaycollege.edu', 'http://www.bard.edu', 'http://www.simons-rock.edu', 'http://www.barnard.edu', 'http://www.barry.edu', 'https://www.barton.edu', 'http://www.bastyr.edu', 'http://www.bates.edu', 'http://www.bauder.edu', 'http://www.baypath.edu', 'http://www.baystate.edu', 'http://www.bcm.edu', 'http://www.baylor.edu', 'http://www.beaconcollege.edu', 'http://www.becker.edu', 'http://www.belhaven.edu', 'http://www.bellarmine.edu', 'http://www.bellevuecollege.edu', 'http://www.bellevue.edu', 'http://www.bellincollege.edu', 'http://www.belmont.edu', 'http://belmontabbeycollege.edu', 'http://www.beloit.edu', 'http://www.bemidjistate.edu', 'http://www.benedict.edu', 'http://www.benedictine.edu', 'http://www.ben.edu', 'http://www.bfit.edu', 'http://www.bennett.edu', 'http://www.bennington.edu', 'http://www.bentley.edu', 'http://www.berea.edu', 'http://www.berkeleycollege.edu', 'https://www.berklee.edu', 'http://www.berry.edu', 'http://www.bethanylb.edu', 'http://www.bethanywv.edu', 'http://www.blc.edu', 'http://www.bethanyseminary.edu', 'http://www.bethelcollege.edu', 'http://www.bethelks.edu', 'http://www.bethel.edu', 'http://www.bethelu.edu', 'http://www.buc.edu', 'http://www.bethune.cookman.edu', 'http://www.beulah.edu', 'http://www.biblical.edu', 'http://www.biola.edu', 'http://www.bsc.edu', 'http://www.bismarckstate.edu', 'http://www.bhsu.edu', 'http://blackburn.edu', 'http://www.brcn.edu', 'http://www.bloomfield.edu', 'http://www.bloomu.edu', 'http://www.bmc.edu', 'http://www.bluefield.edu', 'http://bluefieldstate.edu', 'http://www.bluffton.edu', 'http://www.boisestate.edu', 'http://www.boricuacollege.edu', 'http://www.the-bac.edu', 'http://www.bc.edu', 'http://www.bostonconservatory.edu', 'http://www.bgsp.edu', 'http://www.bu.edu', 'http://www.bowdoin.edu', 'http://www.bowiestate.edu', 'http://www.bgsu.edu', 'http://www.bradley.edu', 'http://www.brandeis.edu', 'http://www.brandman.edu', 'http://www.brenau.edu', 'http://www.brescia.edu', 'http://www.brevard.edu', 'http://www.bpc.edu', 'http://www.briarcliff.edu', 'http://www.briarcliffe.edu', 'http://www.bridgewater.edu', 'http://www.bridgew.edu', 'http://www.byu.edu', 'http://byuh.edu', 'http://www.byui.edu', 'http://www.brite.edu', 'http://www.broward.edu', 'http://www.brown.edu', 'http://www.bryan.edu', 'http://www.bryanhealthcollege.edu', 'http://www.bryant.edu', 'http://www.brynathyn.edu', 'http://www.brynmawr.edu', 'http://www.bucknell.edu', 'http://www.bvu.edu', 'http://www.burlington.edu', 'https://www.butler.edu', 'http://www.cabarruscollege.edu', 'http://www.cabrini.edu', 'http://cairn.edu', 'http://www.caldwell.edu', 'http://www.calbaptist.edu', 'https://www.cca.edu', 'http://calarts.edu', 'http://www.ciis.edu', 'http://www.caltech.edu', 'http://www.callutheran.edu', 'http://www.csum.edu', 'http://www.cnsu.edu', 'http://www.calpoly.edu', 'http://www.cpp.edu', 'http://www.csub.edu', 'http://www.csuci.edu', 'http://www.csuchico.edu', 'http://www.csudh.edu', 'http://www.csueastbay.edu', 'http://www.fresnostate.edu', 'http://www.fullerton.edu', 'http://www.csulb.edu', 'http://www.calstatela.edu', 'https://csumb.edu', 'http://www.csun.edu', 'http://www.csus.edu', 'http://www.csusb.edu', 'http://www.csusm.edu', 'https://www.csustan.edu', 'http://www.calstate.edu', 'http://www.calu.edu', 'http://www.ccsj.edu', 'http://www.cbs.edu', 'http://www.calvary.edu', 'http://www.calvin.edu', 'https://www.cambridgecollege.edu', 'http://www.cameron.edu', 'http://www.campbell.edu', 'http://www.campbellsville.edu', 'http://www.canisius.edu', 'http://www.capella.edu', 'http://www.capital.edu', 'http://www.captechu.edu', 'http://www.stritch.edu', 'http://www.caribbean.edu', 'http://www.carleton.edu', 'http://www.albizu.edu', 'http://www.mia.albizu.edu', 'http://www.carlow.edu', 'http://www.cmu.edu', 'http://www.carroll.edu', 'http://www.carrollu.edu', 'http://www.cn.edu', 'https://www.carthage.edu', 'http://www.case.edu', 'http://www.castleton.edu', 'http://catawba.edu', 'http://www.ctu.edu', 'http://www.cua.edu', 'http://www.cazenovia.edu', 'http://www.cedarcrest.edu', 'http://www.cedarville.edu', 'http://www.centenarycollege.edu', 'http://www.centenary.edu', 'http://www.cbc.edu', 'http://www.cbts.edu', 'http://www.centralchristian.edu', 'http://www.cccb.edu', 'http://www.central.edu', 'http://www.ccsu.edu', 'http://www.centralmethodist.edu', 'http://www.cmich.edu', 'http://www.centralpenn.edu', 'http://www.centralstate.edu', 'http://www.cwu.edu', 'http://www.centre.edu', 'http://www.ceaprc.edu', 'http://www.csc.edu', 'http://www.chamberlain.edu', 'http://www.chaminade.edu', 'http://www.champlain.edu', 'http://www.chancelloru.edu', 'http://www.chapman.edu', 'http://www.cdrewu.edu', 'http://www.csuniv.edu', 'http://www.charteroak.edu', 'http://www.chatham.edu', 'http://www.chc.edu', 'http://www.cheyney.edu', 'http://www.thechicagoschool.edu', 'http://www.csu.edu', 'https://www.ctschicago.edu', 'http://www.chipola.edu', 'https://www.chowan.edu', 'http://www.cks.edu', 'http://www.christendom.edu', 'http://www.cbu.edu', 'http://www.cts.edu', 'http://cnu.edu', 'http://cdsp.edu', 'http://www.ccuniversity.edu', 'https://www.ccms.edu', 'http://www.citadel.edu', 'http://www.cityu.edu', 'http://www.cuny.edu', 'http://www.baruch.cuny.edu', 'http://www.brooklyn.cuny.edu', 'http://www.ccny.cuny.edu', 'http://www.csi.cuny.edu', 'http://www.gc.cuny.edu', 'http://www.hunter.cuny.edu', 'http://www.jjay.cuny.edu', 'http://www.lehman.cuny.edu', 'http://www.mec.cuny.edu', 'http://www.citytech.cuny.edu', 'http://www.qc.cuny.edu', 'http://www.york.cuny.edu', 'http://www.claflin.edu', 'http://www.claremont.edu', 'http://www.cgu.edu', 'http://www.cmc.edu', 'https://www.hmc.edu', 'http://www.kgi.edu', 'http://www.pitzer.edu', 'http://www.pomona.edu', 'http://www.scrippscollege.edu', 'http://cst.edu', 'http://www.clarion.edu', 'http://www.clarku.edu', 'http://www.cau.edu', 'http://www.clarke.edu', 'http://www.clarksoncollege.edu', 'http://www.clarkson.edu', 'http://www.clayton.edu', 'http://www.ccbbc.edu', 'http://www.clearwater.edu', 'http://www.cleary.edu', 'http://www.clemson.edu', 'http://www.cleveland.edu', 'http://www.cia.edu', 'http://www.cim.edu', 'http://www.csuohio.edu', 'http://www.coastal.edu', 'http://www.coe.edu', 'http://www.cogswell.edu', 'http://www.coker.edu', 'http://www.colby.edu', 'http://www.colby-sawyer.edu', 'http://www.cunisanjuan.edu', 'http://www.colgate.edu', 'http://www.collegeforcreativestudies.edu', 'http://www.cffp.edu', 'http://www.coa.edu', 'http://cbshouston.edu', 'http://www.cf.edu', 'http://www.cofc.edu', 'http://www.ccga.edu', 'http://www.holycross.edu', 'http://www.collegeofidaho.edu', 'http://www.menominee.edu', 'http://www.msj.edu', 'http://www.mountsaintvincent.edu', 'http://www.tcnj.edu', 'http://www.cnr.edu', 'http://www.cofo.edu', 'http://www.csbsju.edu', 'http://www.cse.edu', 'http://www.strose.edu', 'http://www.csj.edu', 'http://www.csm.edu', 'http://www.css.edu', 'http://www.csn.edu', 'http://www.wm.edu', 'http://www.wooster.edu', 'http://www.ccu.edu', 'http://www.coloradocollege.edu', 'http://www.coloradomesa.edu', 'http://www.mines.edu', 'http://www.colostate.edu', 'http://www.csupueblo.edu', 'http://www.coloradotech.edu', 'http://www.columbiacentral.edu', 'http://www.ccis.edu', 'http://www.columbiasc.edu', 'http://www.colum.edu', 'http://www.columbiacollege.edu', 'http://www.ccon.edu', 'http://www.ciu.edu', 'http://www.ctsnet.edu', 'http://www.columbia.edu', 'http://www.ccad.edu', 'http://www.columbusstate.edu', 'http://www.conception.edu', 'http://www.concord.edu', 'http://www.ccal.edu', 'http://www.concordia-ny.edu', 'https://www.concordiacollege.edu', 'http://www.concordia-ny.edu', 'http://www.csl.edu', 'http://www.ctsfw.edu', 'http://www.cuaa.edu', 'https://www.cuchicago.edu', 'http://www.cui.edu', 'http://www.cune.edu', 'http://www.cu-portland.edu', 'http://www.csp.edu', 'http://www.concordia.edu', 'https://www.cuw.edu', 'http://camel.conncoll.edu', 'http://cmpr.edu', 'http://www.converse.edu', 'http://www.csld.edu', 'http://cooper.edu', 'http://www.coppin.edu', 'https://www.corban.edu', 'http://www.cornellcollege.edu', 'http://www.cornell.edu', 'https://www.cornerstone.edu', 'http://www.cornish.edu', 'http://www.cottey.edu', 'http://www.covenant.edu', 'http://www.covenantseminary.edu', 'http://coxcollege.edu', 'http://cranbrookart.edu', 'http://www.creighton.edu', 'http://www.criswell.edu', 'http://www.crossroadscollege.edu', 'http://www.crc.edu', 'http://www.crown.edu', 'http://www.ciachef.edu', 'http://www.culver.edu', 'http://www.cumberland.edu', 'http://www.curry.edu', 'http://www.curtis.edu', 'http://www.daemen.edu', 'http://dsu.edu', 'http://www.dwu.edu', 'http://www.dbu.edu', 'http://www.dallas.edu', 'http://www.dts.edu', 'http://www.daltonstate.edu', 'http://www.dwc.edu', 'http://dartmouth.edu', 'http://www.davenport.edu', 'http://www.davidson.edu', 'http://www.davisny.edu', 'http://www.dewv.edu', 'http://www.daytonastate.edu', 'http://www.dean.edu', 'http://www.defiance.edu', 'http://www.desu.edu', 'http://www.delval.edu', 'http://www.deltastate.edu', 'http://denison.edu', 'http://www.denverseminary.edu', 'http://www.depaul.edu', 'http://www.depauw.edu', 'http://www.dmu.edu', 'http://www.desales.edu', 'http://www.devry.edu', 'http://www.add.devry.edu', 'http://www.devry.edu/locations/campuses/loc_arlingtoncampus.jsp', 'http://www.chi.devry.edu', 'http://www.atl.devry.edu', 'http://www.dal.devry.edu', 'http://www.kc.devry.edu', 'http://www.lb.devry.edu', 'http://www.orl.devry.edu', 'http://www.phx.devry.edu', 'http://www.pom.devry.edu', 'http://www.dickinson.edu', 'http://www.dickinsonstate.edu', 'http://www.dillard.edu', 'http://www.dwci.edu', 'http://www.dixie.edu', 'http://www.doane.edu', 'http://www.dc.edu', 'http://www.dhs.edu', 'http://www.dspt.edu', 'http://www.dom.edu', 'http://www.dominican.edu', 'http://www.donnelly.edu', 'http://www.dordt.edu', 'http://www.dowling.edu', 'http://www.drake.edu', 'http://www.drew.edu', 'http://www.drexel.edu', 'http://www.drury.edu', 'http://duke.edu', 'http://www.dunwoody.edu', 'http://www.duq.edu', 'http://www.dyc.edu', 'http://www.earlham.edu', 'http://www.ecu.edu', 'http://www.ecok.edu', 'http://www.esu.edu', 'http://www.etsu.edu', 'http://www.etbu.edu', 'http://www.eastwest.edu', 'http://www.easternct.edu', 'http://www.easternflorida.edu', 'http://www.eiu.edu', 'http://www.eku.edu', 'http://www.emu.edu', 'http://www.emich.edu', 'http://www.enc.edu', 'http://www.enmu.edu', 'https://www.eou.edu', 'http://www.eastern.edu', 'http://www.evms.edu', 'http://www.ewu.edu', 'http://www.eckerd.edu', 'http://www.ecpi.edu', 'http://www.eden.edu', 'http://www.edgewood.edu', 'http://www.edinboro.edu', 'http://www.edpuniversity.edu', 'http://www.ewc.edu', 'http://www.ecsu.edu', 'http://www.etown.edu', 'http://www.elmhurst.edu', 'http://www.elmira.edu', 'http://www.elms.edu', 'http://www.elon.edu', 'http://www.erau.edu', 'http://www.emerson.edu', 'http://www.ecs.edu', 'http://www.ec.edu', 'http://www.emmanuel.edu', 'http://www.emmaus.edu', 'http://www.emporia.edu', 'http://www.ehc.edu', 'http://www.emory.edu', 'http://www.endicott.edu', 'http://www.erikson.edu', 'http://www.erskine.edu', 'http://www.eap.edu', 'http://www.eureka.edu', 'http://www.evangel.edu', 'http://evangelical.edu', 'http://www.evergladesuniversity.edu', 'http://www.evergreen.edu', 'http://www.excelsior.edu', 'http://www.fairfield.edu', 'http://www.fdu.edu', 'http://www.fairmontstate.edu', 'http://www.faith.edu', 'http://fidm.edu', 'http://www.faulkner.edu', 'http://www.uncfsu.edu', 'http://www.felician.edu', 'http://www.ferris.edu', 'http://www.ferrum.edu', 'http://www.fielding.edu', 'http://www.finlandia.edu', 'http://www.fisher.edu', 'http://www.fisk.edu', 'http://www.fitchburgstate.edu', 'http://www.ftc.edu', 'http://www.flagler.edu', 'http://www.famu.edu', 'http://www.fau.edu', 'http://www.floridacollege.edu', 'http://www.fgc.edu', 'http://www.fgcu.edu', 'http://www.fit.edu', 'http://www.fiu.edu', 'http://www.fmuniv.edu', 'http://www.fnu.edu', 'http://www.flsouthern.edu', 'http://www.fsw.edu', 'http://www.fscj.edu', 'http://www.fsu.edu', 'http://www.fontbonne.edu', 'http://www.fordham.edu', 'http://www.forest.edu', 'http://www.fhsu.edu', 'http://www.fortlewis.edu', 'http://www.fvsu.edu', 'http://www.framingham.edu', 'http://www.fmarion.edu', 'http://fst.edu', 'http://www.franciscan.edu', 'http://www.taliesin.edu', 'http://www.fandm.edu', 'http://www.franklincollege.edu', 'http://www.franklinpierce.edu', 'http://www.franklin.edu', 'http://www.olin.edu', 'http://www.fhu.edu', 'http://www.fresno.edu', 'http://www.friends.edu', 'http://www.frontier.edu', 'http://www.frostburg.edu', 'http://fuller.edu', 'http://www.furman.edu', 'http://www.future.edu', 'http://www.gallaudet.edu', 'http://www.gannon.edu', 'http://www.gardner-webb.edu', 'http://www.garrett.edu', 'http://www.geneva.edu', 'http://www.georgefox.edu', 'http://www.gmu.edu', 'http://www.gwu.edu', 'http://virginia.gwu.edu', 'http://www.georgetowncollege.edu', 'http://www.georgetown.edu', 'http://www.gcsu.edu', 'http://www.ggc.edu', 'http://www.gatech.edu', 'http://www.gru.edu', 'http://www.georgiasouthern.edu', 'http://www.gsw.edu', 'http://www.gsu.edu', 'http://www.georgian.edu', 'http://www.gettysburg.edu', 'http://www.glenville.edu', 'http://www.globaluniversity.edu', 'http://www.gbs.edu', 'http://www.goddard.edu', 'http://www.ggbts.edu', 'http://www.ggu.edu', 'http://www.gbc.edu', 'http://www.barnesjewishcollege.edu', 'http://www.gonzaga.edu', 'http://www.goodwin.edu', 'http://www.gordonstate.edu', 'http://www.gordon.edu', 'http://www.gordonconwell.edu', 'http://www.goshen.edu', 'http://www.goucher.edu', 'http://www.govst.edu', 'http://www.gbcol.edu', 'http://www.grace.edu', 'https://www.graceuniversity.edu', 'http://www.graceland.edu', 'http://www.gial.edu', 'http://gtu.edu', 'http://www.gram.edu', 'http://www.gcu.edu', 'http://www.gvsu.edu', 'http://www.grandview.edu', 'http://www.granite.edu', 'http://www.gratz.edu', 'http://www.gbcnv.edu', 'http://www.glcc.edu', 'http://www.greenmtn.edu', 'http://www.greensboro.edu', 'http://www.greenville.edu', 'http://www.grinnell.edu', 'http://www.gcc.edu', 'http://www.guilford.edu', 'http://www.gulfcoast.edu', 'http://gustavus.edu', 'http://www.gmercyu.edu', 'http://www.hamilton.edu', 'http://www.hamline.edu', 'http://www.hsc.edu', 'http://www.hampshire.edu', 'http://www.hamptonu.edu', 'http://www.hlg.edu', 'http://www.hanover.edu', 'http://www.hsutx.edu', 'http://www.harding.edu', 'http://www.harrington.edu', 'http://www.hssu.edu', 'http://www.harrisburgu.edu', 'http://www.hartsem.edu', 'http://www.hartwick.edu', 'http://www.harvard.edu', 'http://www.haskell.edu', 'http://www.hastings.edu', 'https://www.haverford.edu', 'http://www.hpu.edu', 'http://www.hazelden.org', 'http://www.hebrewcollege.edu', 'http://www.htc.edu', 'http://huc.edu', 'http://www.heidelberg.edu', 'http://www.hchc.edu', 'http://www.hsu.edu', 'http://www.hendrix.edu', 'http://www.heritage.edu', 'https://www.herzing.edu', 'http://www.highpoint.edu', 'http://www.hilbert.edu', 'http://www.hillsdale.edu', 'http://www.hiram.edu', 'http://www.hws.edu', 'http://hsbc.edu', 'http://www.hodges.edu', 'http://www.hofstra.edu', 'https://www.hollins.edu', 'http://www.holyapostles.edu', 'http://www.hcc-nd.edu', 'http://www.holyfamily.edu', 'http://www.hnu.edu', 'http://www.hood.edu', 'http://www.hope.edu', 'http://www.hiu.edu', 'http://www.houghton.edu', 'http://www.hbu.edu', 'http://www.hputx.edu', 'http://www.howard.edu', 'http://www.hult.edu', 'http://www.humboldt.edu', 'http://www.humphreys.edu', 'http://www.huntingdon.edu', 'https://www.huntington.edu', 'http://www.husson.edu', 'http://htu.edu', 'http://icahn.mssm.edu', 'http://www.isu.edu', 'http://www.iliff.edu', 'http://www.ic.edu', 'http://www.ico.edu', 'https://www.artinstitutes.edu/chicago', 'http://www.artinstitutes.edu/schaumburg', 'http://www.iit.edu', 'http://illinoisstate.edu', 'http://www.iwu.edu', 'http://www.immaculata.edu', 'http://www.irsc.edu', 'http://www.indianatech.edu', 'http://www.indstate.edu', 'http://www.iub.edu', 'http://www.iue.edu', 'http://www.iuk.edu', 'http://www.iun.edu', 'http://www.iusb.edu', 'http://www.ius.edu', 'http://www.indiana.edu', 'http://www.iupuc.edu', 'http://www.ipfw.edu', 'http://www.iupui.edu', 'http://www.iup.edu', 'https://www.indwes.edu', 'http://www.icsw.edu', 'http://ipsciences.edu', 'http://www.iaia.edu', 'http://www.iwp.edu', 'http://www.itc.edu', 'http://www.iona.edu', 'http://www.iastate.edu', 'http://www.iw.edu', 'http://www.cityofhope.org/grad-school', 'http://www.ithaca.edu', 'http://www.jsums.edu', 'http://www.ju.edu', 'http://www.jsu.edu', 'http://www.jmu.edu', 'http://www.jarvis.edu', 'http://www.jchs.edu', 'http://www.jtsa.edu', 'http://www.jbu.edu', 'http://www.jcu.edu', 'http://www.jfku.edu', 'http://www.jmls.edu', 'https://www.jhu.edu', 'http://www.johnsonu.edu', 'http://www.johnsonu.edu/florida', 'http://www.jcsu.edu', 'http://www.jsc.edu', 'http://www.jwu.edu', 'http://www.jiu.edu', 'http://www.judson.edu', 'http://www.judsonu.edu', 'http://www.juilliard.edu', 'http://www.juniata.edu', 'http://www.kzoo.edu', 'http://www.kcai.edu', 'http://www.kcumb.edu', 'http://www.k-state.edu', 'http://www.salina.k-state.edu', 'http://www.kwu.edu', 'http://www.kaplanuniversity.edu', 'http://www.kean.edu', 'http://www.keene.edu', 'http://www.keiseruniversity.edu', 'http://www.kendall.edu', 'http://www.kcad.edu', 'http://www.kennesaw.edu', 'http://www.kenrick.edu', 'http://www.kent.edu', 'http://www.ashtabula.kent.edu', 'http://www.kent.edu/cpm', 'http://www.kent.edu/columbiana', 'http://www.kent.edu/geauga', 'http://www.kent.edu/stark', 'http://www.kent.edu/trumbull', 'http://www.kent.edu/tusc', 'http://www.kcu.edu', 'http://www.kmbc.edu', 'http://kysu.edu', 'http://www.kwc.edu', 'http://www.kenyon.edu', 'http://www.kc.edu', 'http://www.kettering.edu', 'http://keuka.edu', 'http://www.keystone.edu', 'http://www.king.edu', 'http://www.kings.edu', 'http://www.tkc.edu', 'http://www.ksi.edu', 'http://www.knox.edu', 'http://www.kutztown.edu', 'http://www.kuyper.edu', 'http://www.laroche.edu', 'http://www.lasalle.edu', 'http://lasierra.edu', 'http://www.laboure.edu', 'https://www.lafayette.edu', 'http://www.lagrange.edu', 'http://www.lcad.edu', 'http://www.lec.edu', 'http://lecom.edu', 'http://www.lakeforest.edu', 'http://www.lakeforestmba.edu', 'http://www.lssu.edu', 'http://www.lssc.edu', 'http://www.lakeland.edu', 'http://www.lakeviewcol.edu', 'http://www.lamar.edu', 'http://www.lbc.edu', 'http://www.lancasterseminary.edu', 'http://www.lander.edu', 'http://www.landmark.edu', 'http://www.lanecollege.edu', 'http://www.langston.edu', 'http://www.lasell.edu', 'http://www.ltu.edu', 'http://www.lawrence.edu', 'http://lemoyne.edu', 'http://www.lvc.edu', 'http://www.leeuniversity.edu', 'http://www.lmc.edu', 'http://www.lehigh.edu', 'http://www.loc.edu', 'http://www.lr.edu', 'http://www.lesley.edu', 'http://www.letu.edu', 'http://www.lclark.edu', 'http://www.lcsc.edu', 'http://www.lewisu.edu', 'http://www.lexingtoncollege.edu', 'http://www.liberty.edu', 'http://lifepacific.edu', 'http://www.life.edu', 'http://www.limcollege.edu', 'http://www.limestone.edu', 'http://www.lincolnchristian.edu', 'http://lincolncollege.edu', 'http://www.lincolncollegene.edu', 'http://www.lmunet.edu', 'http://www.lincolnu.edu', 'http://www.lincoln.edu', 'http://www.lindenwood.edu', 'http://www.lindsey.edu', 'http://www.linfield.edu', 'http://www.lipscomb.edu', 'http://www.livingstone.edu', 'http://www.lhup.edu', 'http://www.logan.edu', 'http://www.llu.edu', 'http://www.liu.edu', 'http://www.liu.edu/pharmacy', 'http://www.liu.edu/brentwood', 'http://www.liu.edu/brooklyn', 'http://www.liu.edu/cwpost', 'http://www.liu.edu/hudson', 'http://www.liu.edu/riverhead', 'http://www.longwood.edu', 'http://longy.edu', 'http://loras.edu', 'http://www.lacollege.edu', 'http://www.lsu.edu', 'http://www.lsua.edu', 'http://www.law.lsu.edu', 'http://www.lsuhsc.edu', 'http://www.lsuhscshreveport.edu/Education', 'http://www.lsus.edu', 'http://www.lsusystem.edu', 'http://www.latech.edu', 'http://www.lpts.edu', 'http://www.lourdes.edu', 'http://www.loyola.edu', 'http://www.lmu.edu', 'http://www.luc.edu', 'http://www.loyno.edu', 'http://www.lcu.edu', 'http://www.luther.edu', 'http://www.luthersem.edu', 'http://www.lstc.edu', 'http://www.ltsg.edu', 'http://ltsp.edu', 'http://www.lycoming.edu', 'http://www.lymeacademy.edu', 'http://www.lynchburg.edu', 'http://lyndonstate.edu', 'http://www.lynn.edu', 'http://www.lyon.edu', 'http://www.macalester.edu', 'http://www.mac.edu', 'http://www.madonna.edu', 'https://www.mum.edu', 'http://www.meca.edu', 'http://mainemaritime.edu', 'http://www.malone.edu', 'http://www.manchester.edu', 'http://www.mccks.edu', 'http://manhattan.edu', 'http://www.msmnyc.edu', 'http://www.mville.edu', 'http://www.mansfield.edu', 'http://www.mbu.edu', 'http://www.mariacollege.edu', 'http://www.marian.edu', 'http://www.marianuniversity.edu', 'http://www.marietta.edu', 'http://www.mcu.usmc.mil', 'http://www.marist.edu', 'http://www.marlboro.edu', 'http://www.mu.edu', 'http://www.mhu.edu', 'http://www.ketchum.edu', 'http://www.marshall.edu', 'http://www.mlc-wels.edu', 'http://www.martinmethodist.edu', 'http://www.martin.edu', 'http://www.mbc.edu', 'http://www.marygrove.edu', 'http://www.mica.edu', 'http://www.muih.edu', 'http://www.marylhurst.edu', 'http://www.marymountcalifornia.edu', 'http://www.mmm.edu', 'http://www.marymount.edu', 'http://www.maryvillecollege.edu', 'http://www.maryville.edu', 'http://www.marywood.edu', 'http://www.massart.edu', 'http://www.mcla.edu', 'http://www.mcphs.edu', 'http://web.mit.edu', 'http://www.maritime.edu', 'http://www.mslaw.edu', 'http://www.masters.edu', 'http://www.tms.edu', 'http://maui.hawaii.edu', 'http://www.mayo.edu/education', 'http://www.mayo.edu/mgs', 'http://www.mayo.edu/mms', 'http://www.mayo.edu/mshs', 'http://www.mayvillestate.edu', 'http://mccormick.edu', 'http://www.mcdaniel.edu', 'http://www.mckendree.edu', 'http://www.mcm.edu', 'http://www.mcneese.edu', 'http://www.mcpherson.edu', 'http://www.medaille.edu', 'http://www.mcw.edu', 'http://www.musc.edu', 'http://www.mmc.edu', 'http://mca.edu', 'http://www.memphisseminary.edu', 'http://www.menlo.edu', 'http://www.mercer.edu', 'http://www.mercy.edu', 'http://www.mchs.edu', 'http://www.mercycollege.edu', 'http://www.mercyhurst.edu', 'http://www.meredith.edu', 'http://www.merrimack.edu', 'http://www.messiah.edu', 'http://www.methodistcol.edu', 'http://www.mtso.edu', 'http://www.methodist.edu', 'http://www.mcny.edu', 'http://www.metrostate.edu', 'http://www.msudenver.edu', 'http://www.mghihp.edu', 'http://www.mdc.edu', 'http://www.artinstitutes.edu/miami', 'http://www.miamioh.edu', 'http://www.regionals.miamioh.edu', 'http://mispp.edu', 'http://www.msu.edu', 'http://www.mtu.edu', 'http://www.mabts.edu', 'http://www.macu.edu', 'http://www.macuniversity.edu', 'http://www.mnu.edu', 'http://www.midcontinent.edu', 'http://www.mga.edu', 'http://www.mtsa.edu', 'http://www.mtsu.edu', 'http://www.middlebury.edu', 'http://www.midlandu.edu', 'http://www.midstate.edu', 'http://www.midway.edu', 'http://www.mbts.edu', 'http://www.midwestern.edu', 'http://www.mwsu.edu', 'http://www.miles.edu', 'http://www.millercollege.edu', 'http://www.millersville.edu', 'http://www.milligan.edu', 'http://www.millikin.edu', 'http://www.mills.edu', 'http://www.millsaps.edu', 'http://www.miad.edu', 'http://www.msoe.edu', 'http://www.mnsu.edu', 'http://www.mnstate.edu', 'http://www.minotstateu.edu', 'http://mcad.edu', 'http://www.misericordia.edu', 'http://www.mc.edu', 'http://www.msstate.edu', 'http://www.muw.edu', 'http://www.mvsu.edu', 'http://www.mobap.edu', 'http://www.mssu.edu', 'http://www.missouristate.edu', 'http://www.mst.edu', 'http://www.moval.edu', 'http://www.missouriwestern.edu', 'http://www.mitchell.edu', 'http://www.molloy.edu', 'http://www.monmouthcollege.edu', 'http://www.monmouth.edu', 'http://www.monroecollege.edu', 'http://www.montana.edu', 'http://www.msubillings.edu', 'http://www.msun.edu', 'http://www.mtech.edu', 'http://www.montclair.edu', 'http://www.montreat.edu', 'http://www.montserrat.edu', 'http://www.moody.edu', 'http://www.moore.edu', 'http://www.moravian.edu', 'http://www.moreheadstate.edu', 'http://www.morehouse.edu', 'http://www.msm.edu', 'http://www.morgan.edu', 'http://www.morningside.edu', 'http://www.morris.edu', 'http://www.mtaloy.edu', 'https://www.mountangelabbey.org/seminary', 'http://www.mccn.edu', 'https://www.mtholyoke.edu', 'http://www.mountida.edu', 'http://www.mtmc.edu', 'http://www.mtmary.edu', 'http://www.mtmercy.edu', 'http://www.msmc.edu', 'http://www.msmu.edu', 'http://www.msmary.edu', 'http://www.mvnu.edu', 'http://www.mountwashington.edu', 'http://www.mountainstate.edu', 'http://www.muhlenberg.edu', 'http://www.multnomah.edu', 'http://www.murraystate.edu', 'http://www.muskingum.edu', 'http://www.naropa.edu', 'http://www.national.edu', 'http://www.ncnm.edu', 'http://www.ndu.edu', 'http://ngs.edu', 'http://www.nhu.edu', 'http://www.ni-u.edu', 'http://www.nlc.edu', 'http://www.nl.edu', 'http://www.nu.edu', 'http://www.nuhs.edu', 'http://www.navajotech.edu', 'http://www.nps.navy.mil', 'http://www.nbc.edu', 'http://www.naz.edu', 'http://nechristian.edu', 'http://www.methodistcollege.edu', 'https://www.nebrwesleyan.edu', 'http://www.neumann.edu', 'http://www.ncf.edu', 'http://www.nec.edu', 'http://www.necb.edu', 'http://www.neco.edu', 'http://necmusic.edu', 'http://www.artinstitutes.edu/boston', 'http://www.neit.edu', 'http://www.newhope.edu', 'http://www.njcu.edu', 'http://www.njit.edu', 'http://www.nmhu.edu', 'http://www.nmt.edu', 'http://www.nmsu.edu', 'http://www.nobts.edu', 'http://www.newschool.edu', 'http://www.nycc.edu', 'http://www.nyit.edu', 'http://www.nymc.edu', 'http://www.nyu.edu', 'http://www.newberry.edu', 'http://www.newbury.edu', 'http://newmanu.edu', 'http://newschoolarch.edu', 'http://www.niagara.edu', 'http://www.nichols.edu', 'http://www.nicholls.edu', 'http://www.nsu.edu', 'http://www.ncat.edu', 'http://www.nccu.edu', 'http://www.ncwc.edu', 'http://www.northcentral.edu', 'http://www.northcentralcollege.edu', 'https://www.ncsu.edu', 'http://www.ndsu.edu', 'http://www.ngu.edu', 'http://www.northpark.edu', 'http://www.ncu.edu', 'http://www.neomed.edu', 'http://www.neiu.edu', 'https://www.nes.edu', 'http://www.nsuok.edu', 'http://www.nsuok.edu/BrokenArrow.aspx', 'http://www.nsuok.edu/Muskogee.aspx', 'http://www.northeastern.edu', 'http://www.nau.edu', 'http://www.seminary.edu', 'http://www.niu.edu', 'http://www.nku.edu', 'http://www.marianas.edu', 'http://www.nmu.edu', 'http://www.nnmc.edu', 'http://www.northern.edu', 'http://www.northland.edu', 'http://www.nwcu.edu', 'http://www.nwfsc.edu', 'http://www.nwic.edu', 'http://www.nwmissouri.edu', 'http://www.nnu.edu', 'http://www.northwestu.edu', 'http://www.nwciowa.edu', 'http://www.nwhealth.edu', 'http://www.nwosu.edu', 'http://www.nsula.edu', 'http://www.northwestern.edu', 'http://www.northwood.edu', 'http://www.norwich.edu', 'http://www.notredamecollege.edu', 'http://www.ndm.edu', 'http://www.ndnu.edu', 'http://nds.edu', 'http://www.nova.edu', 'http://www.nyack.edu', 'http://www.oakhills.edu', 'http://www.oak.edu', 'http://www.oakland.edu', 'http://www.oakwood.edu', 'http://www.oberlin.edu', 'http://www.ost.edu', 'http://www.oxy.edu', 'http://www.olc.edu', 'http://www.oglethorpe.edu', 'http://www.ohiochristian.edu', 'http://www.ohiodominican.edu', 'http://www.onu.edu', 'http://www.osu.edu', 'http://www.lima.osu.edu', 'http://mansfield.osu.edu', 'http://osumarion.osu.edu', 'http://newark.osu.edu', 'http://www.ohio.edu', 'https://www.ohio.edu/eastern', 'http://www.ohio.edu/lancaster', 'http://www.ohio.edu/zanesville', 'http://www.ovu.edu', 'http://www.owu.edu', 'http://www.okbu.edu', 'http://www.oc.edu', 'http://www.okcu.edu', 'http://www.opsu.edu', 'http://www.okstate.edu', 'http://www.healthsciences.okstate.edu', 'http://www.osuit.edu', 'http://www.osuokc.edu', 'http://www.osu-tulsa.okstate.edu', 'http://www.okwu.edu', 'http://www.odu.edu', 'http://www.olivetcollege.edu', 'http://www.olivet.edu', 'http://www.olivetuniversity.edu', 'http://www.olympic.edu', 'http://www.oru.edu', 'http://ocac.edu', 'http://www.ohsu.edu', 'http://www.oit.edu', 'http://oregonstate.edu', 'http://www.otis.edu', 'http://www.ottawa.edu', 'http://www.otterbein.edu', 'http://www.obu.edu', 'http://www.olhcc.edu', 'http://www.ololcollege.edu', 'http://www.ollusa.edu', 'http://occ.edu', 'http://www.pace.edu', 'http://www.plu.edu', 'http://www.pnca.edu', 'http://www.pacificoaks.edu', 'http://www.psr.edu', 'http://www.puc.edu', 'http://www.pacificu.edu', 'http://www.pacifica.edu', 'http://www.paine.edu', 'http://www.pba.edu', 'http://www.palmbeachstate.edu', 'http://www.palmer.edu', 'http://www.paloaltou.edu', 'http://www.prgs.edu', 'http://www.park.edu', 'http://www.parker.edu', 'http://patten.edu', 'http://www.pqc.edu', 'http://www.paulsmiths.edu', 'http://www.peirce.edu', 'http://www.pencol.edu', 'http://pennstatelaw.psu.edu', 'http://pcad.edu', 'http://www.pacollege.edu', 'http://www.pct.edu', 'http://www.psu.edu', 'http://www.abington.psu.edu', 'http://www.aa.psu.edu', 'http://www.br.psu.edu', 'http://www.bk.psu.edu', 'http://www.brandywine.psu.edu', 'https://dickinsonlaw.psu.edu', 'http://www.ds.psu.edu', 'http://psbehrend.psu.edu', 'http://www.fe.psu.edu', 'http://www.sgps.psu.edu', 'http://www.ga.psu.edu', 'http://harrisburg.psu.edu', 'http://www.hazleton.psu.edu', 'http://www.lv.psu.edu', 'http://www.pennstatehershey.org', 'http://www.ma.psu.edu', 'http://www.nk.psu.edu', 'http://www.sl.psu.edu', 'http://www.shenango.psu.edu', 'http://www.wb.psu.edu', 'http://www.sn.psu.edu', 'http://www.yk.psu.edu', 'http://www.pensacolastate.edu', 'http://www.ptseminary.edu', 'http://www.pepperdine.edu', 'http://www.peru.edu', 'http://www.pfeiffer.edu', 'http://www.pcom.edu', 'http://www.philau.edu', 'http://www.philander.edu', 'http://www.pgu.edu', 'http://ptstulsa.edu', 'http://www.pulf.org', 'http://www.piedmont.edu', 'http://pillar.edu', 'http://www.pmc.edu', 'http://www.pittstate.edu', 'http://www.pts.edu', 'http://www.plymouth.edu', 'http://www.pointloma.edu', 'http://www.pointpark.edu', 'http://point.edu', 'http://www.polk.edu', 'http://www.psm.edu', 'http://www.pcj.edu', 'http://www.pucpr.edu', 'http://www.pdx.edu', 'http://www.post.edu', 'http://www.pvamu.edu', 'http://www.pratt.edu', 'http://www.prescott.edu', 'http://www.presentation.edu', 'http://www.ptsem.edu', 'http://www.princeton.edu', 'http://www.principiacollege.edu', 'http://www.presby.edu', 'http://www.providence.edu', 'http://www.purdue.edu', 'http://www.purduecal.edu', 'http://www.pnc.edu', 'https://polytechnic.purdue.edu/anderson', 'https://polytechnic.purdue.edu/columbus', 'https://polytechnic.purdue.edu/kokomo', 'https://polytechnic.purdue.edu/lafayette', 'https://polytechnic.purdue.edu/new-albany', 'https://polytechnic.purdue.edu/richmond', 'https://polytechnic.purdue.edu/south-bend', 'https://polytechnic.purdue.edu/vincennes', 'http://www.queens.edu', 'http://www.quincy.edu', 'http://www.quinnipiac.edu', 'http://www.radford.edu', 'http://www.ramapo.edu', 'http://www.randolphcollege.edu', 'http://www.rmc.edu', 'http://ranken.edu', 'http://www.rasmussen.edu', 'http://www.rrc.edu', 'http://www.reed.edu', 'http://www.rts.edu', 'http://www.regent.edu', 'http://www.regiscollege.edu', 'http://www.regis.edu', 'http://www.reinhardt.edu', 'http://www.rpi.edu', 'http://researchcollege.edu', 'http://resu.edu', 'http://www.ric.edu', 'http://www.risd.edu', 'http://www.rhodes.edu', 'http://www.riceinfo.rice.edu', 'http://richmont.edu', 'http://www.rider.edu', 'http://www.ringling.edu', 'http://www.ripon.edu', 'http://www.rivier.edu', 'http://www.roanoke.edu', 'http://www.rmu.edu', 'http://www.robertmorris.edu', 'http://www.roberts.edu', 'http://www.rc.edu', 'http://www.rit.edu', 'http://www.rockford.edu', 'http://www.rockhurst.edu', 'http://www.rocky.edu', 'http://www.rmcad.edu', 'http://www.rwu.edu', 'http://www.rsu.edu', 'http://www.rollins.edu', 'http://www.roosevelt.edu', 'http://www.rosalindfranklin.edu', 'http://www.rose-hulman.edu', 'http://www.roseman.edu', 'http://www.rosemont.edu', 'http://www.rowan.edu', 'http://www.rushu.rush.edu', 'http://www.rustcollege.edu', 'http://www.camden.rutgers.edu', 'http://www.rutgers.edu', 'http://www.newark.rutgers.edu', 'http://www.shms.edu', 'http://www.shsst.edu', 'http://www.sacredheart.edu', 'http://www.sage.edu', 'http://www.svsu.edu', 'http://www.sau.edu', 'http://www.sa.edu', 'http://www.anselm.edu', 'http://www.sacn.edu', 'http://www.staugustine.edu', 'http://www.st-aug.edu', 'http://www.sbu.edu', 'http://www.stkate.edu', 'http://www.sccky.edu', 'http://www.scs.edu', 'http://www.stcloudstate.edu', 'https://www.stedwards.edu', 'http://www.sfc.edu', 'http://www.sfmccon.edu', 'http://francis.edu', 'http://www.stgregoryseminary.edu', 'http://www.stgregorys.edu', 'http://www.sjfc.edu', 'http://www.sjvcs.edu', 'http://www.sjc.edu', 'http://www.stjohnscollegespringfield.edu', 'http://www.stjohnsem.edu', 'http://www.sjsboston.org', 'http://www.csbsju.edu', 'http://www.stjohns.edu', 'http://www.sjrstate.edu', 'http://www.sjasc.edu', 'http://www.saintjoe.edu', 'http://www.sjcny.edu', 'http://www.sjcme.edu', 'http://www.dunwoodie.edu', 'http://www.sju.edu', 'http://www.stlawu.edu', 'http://www.saintleo.edu', 'http://www.stlcop.edu', 'http://www.slu.edu', 'http://www.stlukescollege.edu', 'http://saintlukescollege.edu', 'http://www.stmartin.edu', 'http://www.stmarysem.edu', 'http://www.smwc.edu', 'https://www.saintmarys.edu', 'http://www.stmarys-ca.edu', 'http://www.smcm.edu', 'http://www.stmarys.edu', 'http://www.smumn.edu', 'https://www.stmarytx.edu', 'http://www.saintmeinrad.edu', 'http://www.smcvt.edu', 'http://www.snc.edu', 'http://www.stolaf.edu', 'http://www.stpatricksseminary.org', 'http://www.spst.edu', 'http://www.saintpeters.edu', 'http://www.spcollege.edu', 'http://www.stac.edu', 'http://www.stu.edu', 'http://www.stvincent.edu', 'http://www.svdp.edu', 'http://www.stvincentscollege.edu', 'http://www.sxu.edu', 'http://www.salem.edu', 'http://www.salemu.edu', 'http://www.salemstate.edu', 'http://www.salisbury.edu', 'http://www.skc.edu', 'http://www.salus.edu', 'http://www.salve.edu', 'http://www.shsu.edu', 'http://www.samford.edu', 'http://www.samuelmerritt.edu', 'http://sdcc.edu', 'http://www.sdsu.edu', 'http://www.sfai.edu', 'http://www.sfcm.edu', 'http://www.sfsu.edu', 'http://sfts.edu', 'http://www.sjcl.edu', 'http://www.sjsu.edu', 'http://www.sanjuanbautista.edu', 'http://www.scu.edu', 'http://www.sfcollege.edu', 'http://santafeuniversity.edu', 'http://www.sarahlawrence.edu', 'http://www.scad.edu', 'http://www.savannahstate.edu', 'http://www.saybrook.edu', 'http://www.sit.edu', 'http://www.saic.edu', 'http://www.sva.edu', 'http://www.schreiner.edu', 'http://www.scripps.edu', 'http://www.spu.edu', 'http://www.seattleu.edu', 'http://www.se-pr.edu', 'http://www.icseminary.edu', 'http://ssw.edu', 'http://www.seminolestate.edu', 'http://www.shu.edu', 'http://www.setonhill.edu', 'http://www.shawu.edu', 'http://www.shawnee.edu', 'http://www.su.edu', 'http://www.shepherd.edu', 'http://www.sherman.edu', 'http://www.shimer.edu', 'http://www.ship.edu', 'http://su.shorter.edu', 'http://www.siena.edu', 'http://www.sienaheights.edu', 'http://www.sierranevada.edu', 'http://www.sl.edu', 'http://www.simmons.edu', 'http://www.sintegleska.edu', 'http://simpsonu.edu', 'http://simpson.edu', 'https://sfseminary.edu', 'http://www.suagm.edu', 'http://www.suagm.edu/une', 'http://www.suagm.edu/umet', 'http://www.suagm.edu/turabo', 'http://sittingbull.edu', 'http://www.skidmore.edu', 'http://www.sru.edu', 'http://www.smith.edu', 'http://www.sofia.edu', 'http://www.soka.edu', 'http://www.sonoma.edu', 'http://www.scsu.edu', 'http://www.southcollegetn.edu', 'http://www.sdsmt.edu', 'http://www.sdstate.edu', 'http://sfbc.edu', 'http://www.southflorida.edu', 'http://www.sgsc.edu', 'http://www.stcl.edu', 'http://www.southuniversity.edu', 'http://www.semo.edu', 'http://www.sebts.edu', 'http://www.sebc.edu', 'http://www.seu.edu', 'http://www.southeastern.edu', 'http://www.se.edu', 'http://www1.southern.edu', 'http://www.saumag.edu', 'http://www.sbts.edu', 'http://www.sciarc.edu', 'http://www.scuhs.edu', 'http://www.sco.edu', 'http://www.southernct.edu', 'http://siu.edu', 'http://www.siue.edu', 'http://www.smu.edu', 'http://snu.edu', 'http://www.snhu.edu', 'http://www.sou.edu', 'http://www.subr.edu', 'http://suno.edu', 'http://www.susla.edu', 'http://www.sus.edu', 'http://www.suu.edu', 'http://www.svc.edu', 'http://svu.edu', 'http://www.swu.edu', 'http://www.sbuniv.edu', 'http://www.scnm.edu', 'http://www.smsu.edu', 'http://www.suva.edu', 'http://www.swau.edu', 'http://www.sagu.edu', 'http://www.swbts.edu', 'http://www.swcc.edu', 'http://swcu.edu', 'http://www.sckans.edu', 'http://swc.edu', 'http://www.swosu.edu', 'http://www.southwestern.edu', 'https://spalding.edu', 'http://www.spelman.edu', 'http://www.spertus.edu', 'http://www.arbor.edu', 'http://www.shc.edu', 'http://www.springfieldcollege.edu', 'http://www.stanford.edu', 'http://www.scf.edu', 'http://www.suny.edu', 'http://www.albany.edu', 'http://www.alfredstate.edu', 'http://www.binghamton.edu', 'http://www.buffalo.edu', 'http://suny.buffalostate.edu', 'http://www.brockport.edu', 'http://www.cortland.edu', 'http://www.fredonia.edu', 'http://www.geneseo.edu', 'http://www.newpaltz.edu', 'https://www.oldwestbury.edu', 'http://www.oneonta.edu', 'http://www.oswego.edu', 'http://www.plattsburgh.edu', 'http://www.potsdam.edu', 'http://www.purchase.edu', 'http://www.cobleskill.edu', 'http://www.morrisville.edu', 'http://www.esf.edu', 'http://www.sunyopt.edu', 'http://www.canton.edu', 'http://www.delhi.edu', 'http://www.downstate.edu', 'http://www.esc.edu', 'http://www.farmingdale.edu', 'http://www.fitnyc.edu', 'http://www.sunymaritime.edu', 'https://sunypoly.edu', 'http://www.stonybrook.edu', 'http://www.upstate.edu', 'http://www.sfasu.edu', 'http://www.stephens.edu', 'http://www.sterling.edu', 'http://www.sterlingcollege.edu', 'http://www.stetson.edu', 'http://www.stevens.edu', 'http://www.stevenson.edu', 'http://www.stillman.edu', 'http://www.stockton.edu', 'http://www.stonehill.edu', 'http://www.strayer.edu', 'http://www.suffolk.edu', 'http://www.sulross.edu', 'http://sullivan.edu', 'http://www.summitu.edu', 'http://www.susqu.edu', 'http://www.swarthmore.edu', 'http://www.sbc.edu', 'http://www.syracuse.edu', 'http://tabor.edu', 'http://www.talladega.edu', 'http://www.tarleton.edu', 'http://www.taylor.edu', 'http://www.tcmi.org', 'http://www.temple.edu', 'http://www.tnstate.edu', 'http://www.tntech.edu', 'http://www.twcnet.edu', 'http://www.tamiu.edu', 'http://www.tamu.edu', 'http://www.tamuct.edu', 'http://www.tamuc.edu', 'http://www.tamucc.edu', 'http://www.tamug.edu', 'http://www.tamhsc.edu', 'http://www.tamuk.edu', 'http://www.tamusa.edu', 'http://www.tamut.edu', 'http://www.txchiro.edu', 'http://www.tcu.edu', 'http://www.texascollege.edu', 'http://www.tlu.edu', 'http://www.tsu.edu', 'http://www.txstate.edu', 'http://www.ttu.edu', 'http://www.ttuhsc.edu', 'http://txwes.edu', 'http://www.twu.edu', 'http://www.thiel.edu', 'http://www.thomasaquinas.edu', 'http://www.thomasu.edu', 'http://www.thomas.edu', 'http://www.tesc.edu', 'http://www.jefferson.edu/university.html', 'http://www.cooley.edu', 'http://www.thomasmore.edu', 'http://www.thomasmorecollege.edu', 'http://www.thunderbird.edu', 'http://www.tiffin.edu', 'http://www.tfc.edu', 'http://www.tougaloo.edu', 'http://www.touro.edu', 'http://www.touro.edu/losangeles', 'http://www.tu.edu', 'http://tun.touro.edu', 'http://www.tuw.edu', 'http://www.towson.edu', 'http://www.ttic.edu', 'http://www.transy.edu', 'http://www.trevecca.edu', 'https://www.trident.edu', 'http://www.trine.edu', 'http://www.trinitybiblecollege.edu', 'http://www.trnty.edu', 'http://www.trincoll.edu', 'http://www.trinitycollegeqc.edu', 'http://www.tlsohio.edu', 'http://www.trinitydc.edu', 'http://www.trinitycollege.edu', 'http://www.tiu.edu', 'https://www.tlc.edu', 'http://www.trinity.edu', 'http://www.troy.edu', 'http://www.truett.edu', 'http://www.truman.edu', 'http://www.tufts.edu', 'http://www.tulane.edu', 'http://www.tm.edu', 'http://www.tusculum.edu', 'http://www.tuskegee.edu', 'http://www.uts.edu', 'https://www.usuhs.edu', 'http://www.unionky.edu', 'http://www.ucollege.edu', 'http://www.union.edu', 'http://www.uniongraduatecollege.edu', 'http://myunion.edu', 'http://www.upsem.edu', 'https://utsnyc.edu', 'http://www.uu.edu', 'http://www.usafa.edu', 'http://usacac.army.mil/organizations/cace/cgsc', 'http://www.carlisle.army.mil', 'http://www.uscga.edu', 'http://www.usmma.edu', 'http://www.usma.edu', 'http://www.usna.edu', 'http://www.usnwc.edu', 'https://ussa.edu', 'http://www.usuniversity.edu', 'http://united.edu', 'http://www.unitedseminary.edu', 'http://www.unity.edu', 'http://www.uaa.edu', 'http://www.ucb.edu.pr', 'http://www.uccaribe.edu', 'http://www.sagrado.edu', 'http://www.inter.edu', 'http://www.aguadilla.inter.edu', 'http://www.arecibo.inter.edu', 'http://www.br.inter.edu', 'http://bayamon.inter.edu', 'http://fajardo.inter.edu', 'http://www.guayama.inter.edu', 'http://www.metro.inter.edu', 'http://ponce.inter.edu', 'http://www.sg.inter.edu', 'http://www.derecho.inter.edu', 'http://www.optonet.inter.edu', 'http://www.pupr.edu', 'http://www.usmd.edu', 'http://www.uiu.edu', 'http://www.urbana.edu', 'http://www.ursinus.edu', 'http://www.ursuline.edu', 'http://www.usu.edu', 'http://www.uvu.edu', 'http://www.utica.edu', 'http://www.uat.edu', 'http://www.uakron.edu', 'http://www.ua.edu', 'http://www.uab.edu', 'http://www.uah.edu', 'http://www.alaska.edu', 'http://www.uaa.alaska.edu', 'http://www.uaf.edu', 'http://www.uas.alaska.edu', 'http://www.arizona.edu', 'http://www.uark.edu', 'http://uafs.edu', 'http://ualr.edu', 'http://www.uams.edu', 'http://www.uamont.edu', 'http://www.uapb.edu', 'http://www.uasys.edu', 'http://www.ubalt.edu', 'http://www.bridgeport.edu', 'http://www.berkeley.edu', 'http://ucdavis.edu', 'http://www.uchastings.edu', 'http://www.uci.edu', 'http://www.ucla.edu', 'http://www.ucmerced.edu', 'http://www.ucr.edu', 'http://www.ucsd.edu', 'http://www.ucsf.edu', 'http://www.ucsb.edu', 'http://www.ucsc.edu', 'http://www.ucop.edu', 'http://uca.edu', 'http://www.ucf.edu', 'http://www.ucmo.edu', 'http://www.uco.edu', 'http://www.ucwv.edu', 'http://www.uchicago.edu', 'http://www.uc.edu', 'http://www.ucblueash.edu', 'http://www.colorado.edu', 'http://www.uccs.edu', 'http://www.ucdenver.edu', 'http://www.cu.edu', 'http://uconn.edu', 'http://www.udallas.edu', 'http://www.udayton.edu', 'http://www.udel.edu', 'http://www.du.edu', 'http://www.udc.edu', 'http://www.udmercy.edu', 'http://www.dbq.edu', 'http://www.evansville.edu', 'http://www.findlay.edu', 'http://www.ufl.edu', 'http://www.uga.edu', 'http://www.ugf.edu', 'http://www.uog.edu', 'http://www.hartford.edu', 'http://hilo.hawaii.edu', 'http://manoa.hawaii.edu', 'http://www.hawaii.edu', 'http://www.uhwo.hawaii.edu', 'http://www.uh.edu', 'http://www.uhcl.edu', 'http://www.uhd.edu', 'http://www.uhv.edu', 'http://www.uidaho.edu', 'http://www.uic.edu', 'http://www.uis.edu', 'http://www.uillinois.edu', 'http://illinois.edu', 'http://www.uindy.edu', 'http://www.uiowa.edu', 'http://www.uj.edu', 'http://www.ku.edu', 'http://www.kumc.edu', 'http://www.uky.edu', 'http://laverne.edu', 'http://www.ulm.edu', 'http://www.louisiana.edu', 'http://www.louisville.edu', 'https://umaine.edu', 'http://www.uma.edu', 'http://www.umf.maine.edu', 'http://www.umfk.edu', 'http://machias.edu', 'http://www.umpi.edu', 'http://mainelaw.maine.edu', 'http://www.maine.edu', 'http://www.umary.edu', 'http://www.umhb.edu', 'http://www.umw.edu', 'http://www.umaryland.edu', 'http://www.umbc.edu', 'http://www.umd.edu', 'http://www.umes.edu', 'http://www.umuc.edu', 'http://www.umass.edu', 'http://www.umb.edu', 'http://www.umassd.edu', 'http://www.uml.edu', 'http://www.umassmed.edu', 'http://www.massachusetts.edu', 'http://www.umdnj.edu', 'http://www.memphis.edu', 'http://www.miami.edu', 'http://umich.edu', 'http://umdearborn.edu', 'http://www.umflint.edu', 'http://www.crk.umn.edu', 'http://www.d.umn.edu', 'http://www.morris.umn.edu', 'http://r.umn.edu', 'http://www.umn.edu', 'http://www.olemiss.edu', 'https://www.umc.edu', 'http://www.missouri.edu', 'http://www.umkc.edu', 'http://www.umsl.edu', 'http://www.umsystem.edu', 'http://umobile.edu', 'http://www.umt.edu', 'http://www.umwestern.edu', 'http://www.montevallo.edu', 'http://www.umo.edu', 'http://www.mountunion.edu', 'http://www.unk.edu', 'http://www.unl.edu', 'http://www.unmc.edu', 'http://www.unomaha.edu', 'http://www.nebraska.edu', 'http://www.unlv.edu', 'http://www.unr.edu', 'http://www.une.edu', 'http://www.unh.edu', 'http://manchester.unh.edu', 'http://law.unh.edu', 'http://www.newhaven.edu', 'http://www.unm.edu', 'http://www.uno.edu', 'https://www.una.edu', 'http://www.unca.edu', 'http://www.unc.edu', 'http://www.uncc.edu', 'http://www.uncg.edu', 'http://www.uncp.edu', 'http://www.uncsa.edu', 'http://www.uncw.edu', 'http://und.edu', 'http://www.unf.edu', 'http://ung.edu', 'http://www.unt.edu', 'http://www.untdallas.edu', 'http://www.unthsc.edu', 'http://www.unco.edu', 'http://www.uni.edu', 'http://www.unoh.edu', 'http://www.unwsp.edu', 'http://www.nd.edu', 'http://www.ou.edu', 'http://www.ouhsc.edu', 'http://www.ou.edu/tulsa', 'http://uoregon.edu', 'http://www.ozarks.edu', 'http://www.pacific.edu', 'http://www.upenn.edu', 'http://www.phoenix.edu', 'http://www.upike.edu', 'http://www.pitt.edu', 'http://www.upb.pitt.edu', 'http://www.upg.pitt.edu', 'http://www.upj.pitt.edu', 'http://www.up.edu', 'http://www.potomac.edu', 'http://www.uprag.edu', 'http://www.upra.edu', 'http://www.uprb.edu', 'http://www.uprc.edu', 'http://www.cayey.upr.edu', 'http://www.rcm.upr.edu', 'http://www.uprh.edu', 'http://www.uprm.edu', 'http://www.uprp.edu', 'http://www.uprrp.edu', 'http://www.upr.edu', 'http://www.uprutuado.edu', 'http://www.pugetsound.edu', 'http://www.redlands.edu', 'http://www.uri.edu', 'http://www.richmond.edu', 'http://www.rio.edu', 'http://www.rochester.edu', 'http://www.rockies.edu', 'http://www.stfrancis.edu', 'http://www.sf.edu', 'http://www.usj.edu', 'http://stmary.edu', 'http://www.sandiego.edu', 'http://www.usfca.edu', 'https://usao.edu', 'http://www.usciences.edu', 'http://www.scranton.edu', 'http://www.usiouxfalls.edu', 'http://www.usc.edu', 'http://usm.maine.edu', 'http://www.sc.edu', 'http://www.usca.edu', 'http://www.uscb.edu', 'http://www.sc.edu/about/system_and_campuses', 'http://www.uscupstate.edu', 'http://www.usd.edu', 'http://www.usf.edu', 'http://www.usfsp.edu', 'http://usfsm.edu', 'http://www.usm.edu', 'http://www.stthom.edu', 'http://www.stthomas.edu', 'http://www.usouthal.edu', 'http://www.usi.edu', 'http://www.ut.edu', 'http://www.utk.edu', 'http://www.utc.edu', 'http://www.uthsc.edu', 'http://www.utm.edu', 'http://www.tennessee.edu', 'http://www.uta.edu', 'http://www.utexas.edu', 'http://www.utb.edu', 'http://www.utdallas.edu', 'http://www.utep.edu', 'http://www.uth.edu', 'http://uthscsa.edu', 'http://www.uthct.edu', 'http://www.mdanderson.org', 'http://www.utmb.edu', 'http://www.utpa.edu', 'http://www.utpb.edu', 'http://www.utsa.edu', 'http://www.utsouthwestern.edu', 'http://www.utsystem.edu', 'http://www.uttyler.edu', 'http://www.uarts.edu', 'http://www.ucumberlands.edu', 'http://www.uiw.edu', 'http://www.sewanee.edu', 'http://www.usw.edu', 'http://www.utoledo.edu', 'http://utulsa.edu', 'http://www.utah.edu', 'http://www.valleyforge.edu', 'http://www.uvm.edu', 'http://www.uvi.edu', 'http://www.virginia.edu', 'http://www.uvawise.edu', 'http://www.washington.edu', 'http://www.uwb.edu', 'http://www.tacoma.uw.edu', 'http://www.uwa.edu', 'http://uwf.edu', 'http://www.westga.edu', 'http://www.uws.edu', 'http://www.uwest.edu', 'http://www.uwec.edu', 'http://www.uwgb.edu', 'http://www.uwlax.edu', 'http://www.wisc.edu', 'http://www.uwm.edu', 'http://www.uwosh.edu', 'http://www.uwp.edu', 'http://www.uwplatt.edu', 'http://www.uwrf.edu', 'http://www.uwsp.edu', 'http://www.uwstout.edu', 'http://www.uwsuper.edu', 'http://www.uwsa.edu', 'http://www.uww.edu', 'http://www.uwyo.edu', 'http://www.valdosta.edu', 'http://valenciacollege.edu', 'http://www.vcsu.edu', 'http://www.valpo.edu', 'http://www.vanderbilt.edu', 'http://www.vandercook.edu', 'http://www.vanguard.edu', 'http://www.vassar.edu', 'http://www.vaughn.edu', 'http://vcfa.edu', 'http://www.vermontlaw.edu', 'http://www.vtc.edu', 'http://www.villa.edu', 'http://www.villanova.edu', 'http://www.vinu.edu', 'http://www.vcu.edu', 'http://www.vmi.edu', 'http://www.vt.edu', 'http://www.vsu.edu', 'http://www.vuu.edu', 'http://www.vwc.edu', 'http://www.viterbo.edu', 'https://www.voorhees.edu', 'http://www.wabash.edu', 'http://www.wadecollege.edu', 'http://wagner.edu', 'http://www.wfu.edu', 'http://www.waldenu.edu', 'http://www.waldorf.edu', 'http://www.wallawalla.edu', 'http://www.walshcollege.edu', 'https://www.walsh.edu', 'http://www.warnerpacific.edu', 'http://warner.edu', 'http://www.warren-wilson.edu', 'http://www.wartburg.edu', 'http://www.wartburgseminary.edu', 'http://www.washburn.edu', 'http://www.washjeff.edu', 'http://www.wlu.edu', 'https://www.wau.edu', 'http://www.washcoll.edu', 'https://wsu.edu', 'https://spokane.wsu.edu', 'http://www.tricity.wsu.edu', 'http://www.vancouver.wsu.edu', 'http://www.wtu.edu', 'http://www.wustl.edu', 'http://www.watkins.edu', 'http://www.wbu.edu', 'http://www.wsc.edu', 'http://wayne.edu', 'http://www.waynesburg.edu', 'http://www.webb.edu', 'http://webber.edu', 'http://www.weber.edu', 'http://www.webster.edu', 'http://www.welch.edu', 'http://www.wellesley.edu', 'https://www.wells.edu', 'http://www.wit.edu', 'http://wesley.edu', 'http://www.wesleyseminary.edu', 'http://www.wesleyancollege.edu', 'http://www.wesleyan.edu', 'http://www.wcupa.edu', 'http://westcoastuniversity.edu', 'http://westliberty.edu', 'http://www.wtamu.edu', 'http://www.wvstateu.edu', 'http://www.wvu.edu', 'http://www.wvutech.edu', 'http://www.wvup.edu', 'http://www.wvwc.edu', 'http://www.wcu.edu', 'http://www.wcsu.edu', 'http://www.wgu.edu', 'http://indiana.wgu.edu', 'http://missouri.wgu.edu', 'http://tennessee.wgu.edu', 'http://texas.wgu.edu', 'http://washington.wgu.edu', 'http://www.wiu.edu', 'http://west.edu', 'http://www.wku.edu', 'http://www.wmich.edu', 'http://www.wnc.edu', 'http://www.wne.edu', 'http://wnmu.edu', 'http://www.wou.edu', 'http://www.westernseminary.edu', 'http://www.western.edu', 'http://www.wsulaw.edu', 'http://www.westernu.edu', 'http://www.wwu.edu', 'http://www.wsc.ma.edu', 'http://www.westminster.edu', 'http://www.westminster-mo.edu', 'http://www.westminstercollege.edu', 'http://www.wts.edu', 'http://wscal.edu', 'http://www.westmont.edu', 'http://www.wheaton.edu', 'http://wheatoncollege.edu', 'http://www.wju.edu', 'http://www.wheelock.edu', 'https://www.whitman.edu', 'http://www.whittier.edu', 'http://www.whitworth.edu', 'http://www.wichita.edu', 'http://www.widener.edu', 'http://www.wilberforce.edu', 'http://www.wileyc.edu', 'http://www.wilkes.edu', 'http://www.willamette.edu', 'http://www.wmcarey.edu', 'http://www.williamjames.edu', 'http://www.jessup.edu', 'http://www.jewell.edu', 'http://www.peace.edu', 'http://www.wmpenn.edu', 'http://www.wpunj.edu', 'http://www.williamwoods.edu', 'http://www.wbcoll.edu', 'http://www.williams.edu', 'http://www.wilmu.edu', 'http://www.wilmington.edu', 'http://www.wilson.edu', 'http://www.wingate.edu', 'http://www.winona.edu', 'http://www.wssu.edu', 'http://www.winthrop.edu', 'http://www.wlc.edu', 'http://wspp.edu', 'http://www.wittenberg.edu', 'http://www.wofford.edu', 'http://www.woninstitute.edu', 'http://woodbury.edu', 'http://www.whoi.edu', 'http://www.wpi.edu', 'http://www.worcester.edu', 'http://www.wi.edu', 'http://www.wright.edu', 'http://www.xavier.edu', 'http://www.xula.edu', 'http://www.yale.edu', 'http://www.yu.edu', 'http://www.york.edu', 'http://www.ycp.edu', 'http://www.yhc.edu', 'http://www.ysu.edu', 'https://www.zaytuna.edu', 'https://m.university-list.net/us/universities-2000.htm']\n"
     ]
    }
   ],
   "source": [
    "\n",
    "\n",
    "def getUList (url='http://www.university-list.net/us/universities-2000.htm'):\n",
    "    #url='https://www.university-list.net/us/universities-2000.htm'\n",
    "    myList=[]\n",
    "    response = requests.get(url, headers={'User-Agent':'Mozilla/5.0'})\n",
    "    soup=BeautifulSoup(response.text,  'lxml') #'html.parser')  \n",
    "    for link in soup.find_all('a'):  \n",
    "        if link.has_attr('href'): #and :\n",
    "            link_url=link['href']   \n",
    "            link_url=re.sub(r'[\\/_+!@#$?\\\\\\s]+$', '', link_url)\n",
    "            if re.match(r'^http', link_url):\n",
    "                myList.append(link_url)\n",
    "    return myList\n",
    "   \n",
    "print(getUList())"
   ]
  },
  {
   "cell_type": "code",
   "execution_count": 17,
   "metadata": {
    "ExecuteTime": {
     "end_time": "2020-01-05T18:00:42.439409Z",
     "start_time": "2020-01-05T18:00:42.433444Z"
    }
   },
   "outputs": [
    {
     "ename": "AttributeError",
     "evalue": "'Doctype' object has no attribute 'has_attr'",
     "output_type": "error",
     "traceback": [
      "\u001b[0;31m---------------------------------------------------------------------------\u001b[0m",
      "\u001b[0;31mAttributeError\u001b[0m                            Traceback (most recent call last)",
      "\u001b[0;32m<ipython-input-17-bf234fe0a1d1>\u001b[0m in \u001b[0;36m<module>\u001b[0;34m\u001b[0m\n\u001b[1;32m      6\u001b[0m \u001b[0;34m\u001b[0m\u001b[0m\n\u001b[1;32m      7\u001b[0m \u001b[0;32mfor\u001b[0m \u001b[0mlink\u001b[0m \u001b[0;32min\u001b[0m \u001b[0mBeautifulSoup\u001b[0m\u001b[0;34m(\u001b[0m\u001b[0mresponse\u001b[0m\u001b[0;34m,\u001b[0m \u001b[0mparse_only\u001b[0m\u001b[0;34m=\u001b[0m\u001b[0mSoupStrainer\u001b[0m\u001b[0;34m(\u001b[0m\u001b[0;34m'a'\u001b[0m\u001b[0;34m)\u001b[0m\u001b[0;34m)\u001b[0m\u001b[0;34m:\u001b[0m\u001b[0;34m\u001b[0m\u001b[0;34m\u001b[0m\u001b[0m\n\u001b[0;32m----> 8\u001b[0;31m     \u001b[0;32mif\u001b[0m \u001b[0mlink\u001b[0m\u001b[0;34m.\u001b[0m\u001b[0mhas_attr\u001b[0m\u001b[0;34m(\u001b[0m\u001b[0;34m'href'\u001b[0m\u001b[0;34m)\u001b[0m\u001b[0;34m:\u001b[0m\u001b[0;34m\u001b[0m\u001b[0;34m\u001b[0m\u001b[0m\n\u001b[0m\u001b[1;32m      9\u001b[0m         \u001b[0mprint\u001b[0m\u001b[0;34m(\u001b[0m\u001b[0mlink\u001b[0m\u001b[0;34m[\u001b[0m\u001b[0;34m'href'\u001b[0m\u001b[0;34m]\u001b[0m\u001b[0;34m)\u001b[0m\u001b[0;34m\u001b[0m\u001b[0;34m\u001b[0m\u001b[0m\n\u001b[1;32m     10\u001b[0m \u001b[0;34m\u001b[0m\u001b[0m\n",
      "\u001b[0;32m/opt/anaconda3/lib/python3.7/site-packages/bs4/element.py\u001b[0m in \u001b[0;36m__getattr__\u001b[0;34m(self, attr)\u001b[0m\n\u001b[1;32m    644\u001b[0m             raise AttributeError(\n\u001b[1;32m    645\u001b[0m                 \"'%s' object has no attribute '%s'\" % (\n\u001b[0;32m--> 646\u001b[0;31m                     self.__class__.__name__, attr))\n\u001b[0m\u001b[1;32m    647\u001b[0m \u001b[0;34m\u001b[0m\u001b[0m\n\u001b[1;32m    648\u001b[0m     \u001b[0;32mdef\u001b[0m \u001b[0moutput_ready\u001b[0m\u001b[0;34m(\u001b[0m\u001b[0mself\u001b[0m\u001b[0;34m,\u001b[0m \u001b[0mformatter\u001b[0m\u001b[0;34m=\u001b[0m\u001b[0;34m\"minimal\"\u001b[0m\u001b[0;34m)\u001b[0m\u001b[0;34m:\u001b[0m\u001b[0;34m\u001b[0m\u001b[0;34m\u001b[0m\u001b[0m\n",
      "\u001b[0;31mAttributeError\u001b[0m: 'Doctype' object has no attribute 'has_attr'"
     ]
    }
   ],
   "source": [
    "\n",
    "        \n"
   ]
  },
  {
   "cell_type": "code",
   "execution_count": null,
   "metadata": {},
   "outputs": [],
   "source": []
  },
  {
   "cell_type": "code",
   "execution_count": 342,
   "metadata": {
    "ExecuteTime": {
     "end_time": "2020-01-05T18:00:51.994568Z",
     "start_time": "2020-01-05T18:00:51.989564Z"
    }
   },
   "outputs": [
    {
     "data": {
      "text/markdown": [
       " \n",
       "# 3. Data preparation and sanity check \n"
      ],
      "text/plain": [
       "<IPython.core.display.Markdown object>"
      ]
     },
     "metadata": {},
     "output_type": "display_data"
    }
   ],
   "source": [
    "display(Markdown(\n",
    "\"\"\" \n",
    "# 3. Data preparation and sanity check \n",
    "\"\"\"\n",
    "))"
   ]
  },
  {
   "cell_type": "code",
   "execution_count": null,
   "metadata": {},
   "outputs": [],
   "source": []
  },
  {
   "cell_type": "code",
   "execution_count": 343,
   "metadata": {
    "ExecuteTime": {
     "end_time": "2020-01-05T18:01:01.962803Z",
     "start_time": "2020-01-05T18:01:01.955839Z"
    }
   },
   "outputs": [
    {
     "data": {
      "text/markdown": [
       " \n",
       "# 4. Measurement: make sure data are as complete as possible \n"
      ],
      "text/plain": [
       "<IPython.core.display.Markdown object>"
      ]
     },
     "metadata": {},
     "output_type": "display_data"
    }
   ],
   "source": [
    "display(Markdown(\n",
    "\"\"\" \n",
    "# 4. Measurement: make sure data are as complete as possible \n",
    "\"\"\"\n",
    "))"
   ]
  },
  {
   "cell_type": "code",
   "execution_count": null,
   "metadata": {},
   "outputs": [],
   "source": []
  },
  {
   "cell_type": "code",
   "execution_count": 344,
   "metadata": {
    "ExecuteTime": {
     "end_time": "2020-01-05T18:01:08.243722Z",
     "start_time": "2020-01-05T18:01:08.238681Z"
    }
   },
   "outputs": [
    {
     "data": {
      "text/markdown": [
       " \n",
       "# 5. Split tasks \n"
      ],
      "text/plain": [
       "<IPython.core.display.Markdown object>"
      ]
     },
     "metadata": {},
     "output_type": "display_data"
    }
   ],
   "source": [
    "display(Markdown(\n",
    "\"\"\" \n",
    "# 5. Split tasks \n",
    "\"\"\"\n",
    "))"
   ]
  },
  {
   "cell_type": "code",
   "execution_count": null,
   "metadata": {},
   "outputs": [],
   "source": []
  },
  {
   "cell_type": "code",
   "execution_count": 347,
   "metadata": {
    "ExecuteTime": {
     "end_time": "2020-01-05T18:02:12.304935Z",
     "start_time": "2020-01-05T18:02:12.300014Z"
    }
   },
   "outputs": [
    {
     "data": {
      "text/markdown": [
       " \n",
       "# 6. Merge and Pandas (from middle this week)\n"
      ],
      "text/plain": [
       "<IPython.core.display.Markdown object>"
      ]
     },
     "metadata": {},
     "output_type": "display_data"
    }
   ],
   "source": [
    "display(Markdown(\n",
    "\"\"\" \n",
    "# 6. Merge and Pandas (from middle this week)\n",
    "\"\"\"\n",
    "))\n"
   ]
  },
  {
   "cell_type": "code",
   "execution_count": null,
   "metadata": {},
   "outputs": [],
   "source": []
  }
 ],
 "metadata": {
  "kernelspec": {
   "display_name": "Python 3",
   "language": "python",
   "name": "python3"
  },
  "language_info": {
   "codemirror_mode": {
    "name": "ipython",
    "version": 3
   },
   "file_extension": ".py",
   "mimetype": "text/x-python",
   "name": "python",
   "nbconvert_exporter": "python",
   "pygments_lexer": "ipython3",
   "version": "3.7.4"
  },
  "toc": {
   "base_numbering": 1,
   "nav_menu": {},
   "number_sections": true,
   "sideBar": true,
   "skip_h1_title": false,
   "title_cell": "Table of Contents",
   "title_sidebar": "Contents",
   "toc_cell": false,
   "toc_position": {
    "height": "calc(100% - 180px)",
    "left": "10px",
    "top": "150px",
    "width": "165px"
   },
   "toc_section_display": true,
   "toc_window_display": true
  }
 },
 "nbformat": 4,
 "nbformat_minor": 2
}
