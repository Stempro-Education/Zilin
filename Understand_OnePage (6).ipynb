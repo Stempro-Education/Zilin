{
 "cells": [
  {
   "attachments": {},
   "cell_type": "markdown",
   "metadata": {},
   "source": [
    "### keywords:\n",
    "<br>Devtools (or similar)\n",
    "<br>webpage\n",
    "<br>bs4\n",
    "<br>requests\n",
    "<br>pandas\n",
    "<br>csv\n",
    "\n",
    "### Direct Connections:\n",
    "<br>Basics of Python Programming - Expressions, Variables, and Printing Output\n",
    "<br>Python Operators - Python Assignment Operator, Relational and Logical Operators, Short Circuit Operators\n",
    "<br>Python Data Structures In-depth - List, Set, Dictionary and Tuples\n",
    "<br>Built-in And User-Defined Modules\n",
    "<br>Advanced Use of Packages: NLTK, BS4, Tweepy, Scrapy, Tkinter, Pandas, Numpy etc. \n",
    "### Indirect Connections:\n",
    "<br>File --> AI\n",
    "<br>List --> DS"
   ]
  },
  {
   "cell_type": "code",
   "execution_count": null,
   "metadata": {},
   "outputs": [],
   "source": []
  },
  {
   "cell_type": "markdown",
   "metadata": {},
   "source": [
    "## chrome devtool \n",
    "or similar"
   ]
  },
  {
   "cell_type": "markdown",
   "metadata": {},
   "source": [
    "## Web Page\n",
    "<li>HTML — contain the main content of the page.</li>\n",
    "<li>CSS — add styling to make the page look nicer.</li>\n",
    "<li>JS — Javascript files add interactivity to web pages.</li>\n",
    "<li>Images — image formats, such as JPG and PNG allow web pages to show pictures.</li>"
   ]
  },
  {
   "cell_type": "markdown",
   "metadata": {},
   "source": [
    "<html>\n",
    "<head>\n",
    "</head>\n",
    "<body>\n",
    "<p>\n",
    "Caltech: NASA\n",
    "<a href=\"https://www.caltech.edu/\">Caltech</a>\n",
    "</p>\n",
    "<p>The Dean of Undergraduate Students Office fosters the academic and personal growth of undergraduate students through counseling and support. Students are encouraged to come see one of the Associate Deans about any matter, large or small. We are available to discuss academic concerns, personal well-being, community issues, or plans after Caltech. We work closely with faculty and other student affairs staff to help students overcome obstacles and achieve their goals.\n",
    "\n",
    "<br>One of the other important roles served by the Deans’ Office is that of helping students to observe and implement Caltech’s community standards. To that end, we play a supportive role to the Honor System, and are also responsible for the enforcement of Institute policies.\n",
    "\n",
    "<br>Finally, the office plans and implements New Student Orientation; is responsible for a number of student-centered grants and funding sources; and offers peer academic tutoring, among other support programs.\n",
    "\n",
    "<br>The staff is comprised of a faculty dean, Kevin Gilmartin; two associate deans, Lesley Nye—who is also the undergraduate accessibility coordinator--and Kristin Weyman; and support staff, Beth Larranaga and Sara Loredo.\n",
    "<a href=\"https://www.python.org\">Python</a> </p>\n",
    "</body></html>"
   ]
  },
  {
   "cell_type": "markdown",
   "metadata": {},
   "source": [
    "## Popular html tags\n",
    "<br>a and p are extremely common html tags. Here are a few others:\n",
    "\n",
    "<br>div — indicates a division, or area, of the page.\n",
    "<br>b — bolds any text inside.\n",
    "<br>i — italicizes any text inside.\n",
    "<br>table — creates a table.\n",
    "<br>form — creates an input form.\n",
    "<br>For a full list of tags, look <a href=\"https://www.w3schools.com/html/\">W3Schools</a> </p>."
   ]
  },
  {
   "cell_type": "markdown",
   "metadata": {},
   "source": [
    "## start\n",
    "\n",
    "do caltech"
   ]
  },
  {
   "cell_type": "code",
   "execution_count": null,
   "metadata": {
    "ExecuteTime": {
     "end_time": "2019-12-08T15:40:40.551087Z",
     "start_time": "2019-12-08T15:40:40.065068Z"
    }
   },
   "outputs": [],
   "source": [
    "import requests\n",
    "url=\"https://www.deans.caltech.edu/\"\n",
    "url='https://www.deans.caltech.edu/Grants_Funding'\n",
    "page = requests.get(url)\n",
    "\n",
    "page"
   ]
  },
  {
   "cell_type": "code",
   "execution_count": null,
   "metadata": {
    "ExecuteTime": {
     "end_time": "2019-12-08T15:40:50.768301Z",
     "start_time": "2019-12-08T15:40:50.763299Z"
    }
   },
   "outputs": [],
   "source": [
    "page.content"
   ]
  },
  {
   "cell_type": "code",
   "execution_count": null,
   "metadata": {
    "ExecuteTime": {
     "end_time": "2019-12-08T15:40:51.366939Z",
     "start_time": "2019-12-08T15:40:51.350940Z"
    }
   },
   "outputs": [],
   "source": [
    "from bs4 import BeautifulSoup\n",
    "soup = BeautifulSoup(page.content, 'html.parser')"
   ]
  },
  {
   "cell_type": "code",
   "execution_count": null,
   "metadata": {
    "ExecuteTime": {
     "end_time": "2019-12-08T15:40:51.711002Z",
     "start_time": "2019-12-08T15:40:51.697048Z"
    }
   },
   "outputs": [],
   "source": [
    "print(soup.prettify())"
   ]
  },
  {
   "cell_type": "code",
   "execution_count": null,
   "metadata": {
    "ExecuteTime": {
     "end_time": "2019-12-08T15:40:51.883361Z",
     "start_time": "2019-12-08T15:40:51.871364Z"
    }
   },
   "outputs": [],
   "source": [
    "list(soup.children)"
   ]
  },
  {
   "cell_type": "code",
   "execution_count": null,
   "metadata": {
    "ExecuteTime": {
     "end_time": "2019-12-08T15:40:52.034808Z",
     "start_time": "2019-12-08T15:40:52.029835Z"
    }
   },
   "outputs": [],
   "source": [
    "[type(item) for item in list(soup.children)]"
   ]
  },
  {
   "cell_type": "code",
   "execution_count": null,
   "metadata": {
    "ExecuteTime": {
     "end_time": "2019-12-08T15:40:52.185220Z",
     "start_time": "2019-12-08T15:40:52.183219Z"
    }
   },
   "outputs": [],
   "source": [
    "html = list(soup.children)[2]"
   ]
  },
  {
   "cell_type": "code",
   "execution_count": null,
   "metadata": {
    "ExecuteTime": {
     "end_time": "2019-12-08T15:40:52.391807Z",
     "start_time": "2019-12-08T15:40:52.344763Z"
    }
   },
   "outputs": [],
   "source": [
    "html"
   ]
  },
  {
   "cell_type": "code",
   "execution_count": null,
   "metadata": {
    "ExecuteTime": {
     "end_time": "2019-12-08T15:40:52.515287Z",
     "start_time": "2019-12-08T15:40:52.502283Z"
    }
   },
   "outputs": [],
   "source": [
    "list(html.children)"
   ]
  },
  {
   "cell_type": "code",
   "execution_count": null,
   "metadata": {
    "ExecuteTime": {
     "end_time": "2019-12-08T15:40:52.672380Z",
     "start_time": "2019-12-08T15:40:52.668375Z"
    }
   },
   "outputs": [],
   "source": [
    "body = list(html.children)[3]"
   ]
  },
  {
   "cell_type": "code",
   "execution_count": null,
   "metadata": {
    "ExecuteTime": {
     "end_time": "2019-12-08T15:40:52.872581Z",
     "start_time": "2019-12-08T15:40:52.831586Z"
    }
   },
   "outputs": [],
   "source": [
    "body"
   ]
  },
  {
   "cell_type": "code",
   "execution_count": null,
   "metadata": {
    "ExecuteTime": {
     "end_time": "2019-12-08T15:40:54.569007Z",
     "start_time": "2019-12-08T15:40:54.559021Z"
    }
   },
   "outputs": [],
   "source": [
    "list(body.children)"
   ]
  },
  {
   "cell_type": "code",
   "execution_count": null,
   "metadata": {
    "ExecuteTime": {
     "end_time": "2019-12-08T15:40:54.907541Z",
     "start_time": "2019-12-08T15:40:54.903538Z"
    }
   },
   "outputs": [],
   "source": [
    "p = list(body.children)[1]"
   ]
  },
  {
   "cell_type": "code",
   "execution_count": null,
   "metadata": {
    "ExecuteTime": {
     "end_time": "2019-12-08T15:40:55.308847Z",
     "start_time": "2019-12-08T15:40:55.303844Z"
    }
   },
   "outputs": [],
   "source": [
    "p"
   ]
  },
  {
   "cell_type": "markdown",
   "metadata": {},
   "source": [
    "### All at once "
   ]
  },
  {
   "cell_type": "code",
   "execution_count": null,
   "metadata": {
    "ExecuteTime": {
     "end_time": "2019-12-08T15:41:09.051657Z",
     "start_time": "2019-12-08T15:41:09.030684Z"
    }
   },
   "outputs": [],
   "source": [
    "soup = BeautifulSoup(page.content, 'html.parser')\n",
    "soup.find_all('p')"
   ]
  },
  {
   "cell_type": "code",
   "execution_count": null,
   "metadata": {
    "ExecuteTime": {
     "end_time": "2019-12-08T15:41:09.444662Z",
     "start_time": "2019-12-08T15:41:09.438651Z"
    }
   },
   "outputs": [],
   "source": [
    "soup.find_all('p')[0].get_text()"
   ]
  },
  {
   "cell_type": "code",
   "execution_count": null,
   "metadata": {
    "ExecuteTime": {
     "end_time": "2019-12-08T15:41:55.811185Z",
     "start_time": "2019-12-08T15:41:55.800192Z"
    }
   },
   "outputs": [],
   "source": [
    "soup.find_all('p')[1].get_text()"
   ]
  },
  {
   "cell_type": "code",
   "execution_count": null,
   "metadata": {
    "ExecuteTime": {
     "end_time": "2019-12-08T15:47:57.662190Z",
     "start_time": "2019-12-08T15:47:57.654194Z"
    }
   },
   "outputs": [],
   "source": [
    "divs=soup.find_all(class_=\"slide-menu__level-1__link\")[0].get_text().strip()\n",
    "divs"
   ]
  },
  {
   "cell_type": "code",
   "execution_count": null,
   "metadata": {
    "ExecuteTime": {
     "end_time": "2019-12-08T15:54:26.468013Z",
     "start_time": "2019-12-08T15:54:26.460001Z"
    }
   },
   "outputs": [],
   "source": [
    "soup.find_all('div', class_='slide-menu__level-1__item d-flex')[0].get_text().strip().replace('\\n', '').replace('  ', '')"
   ]
  },
  {
   "cell_type": "code",
   "execution_count": null,
   "metadata": {
    "ExecuteTime": {
     "end_time": "2019-12-08T15:55:42.008390Z",
     "start_time": "2019-12-08T15:55:42.004395Z"
    }
   },
   "outputs": [],
   "source": [
    "import pandas as pd\n",
    "text=[]"
   ]
  },
  {
   "cell_type": "code",
   "execution_count": null,
   "metadata": {
    "ExecuteTime": {
     "end_time": "2019-12-08T15:55:48.673806Z",
     "start_time": "2019-12-08T15:55:48.667802Z"
    }
   },
   "outputs": [],
   "source": [
    "for onedevi in soup.find_all('div', class_='slide-menu__level-1__item d-flex'):\n",
    "   text.append(onedevi.get_text().strip().replace('\\n', '').replace('  ', ''))"
   ]
  },
  {
   "cell_type": "code",
   "execution_count": null,
   "metadata": {
    "ExecuteTime": {
     "end_time": "2019-12-08T15:55:52.398632Z",
     "start_time": "2019-12-08T15:55:52.393632Z"
    }
   },
   "outputs": [],
   "source": [
    "text"
   ]
  },
  {
   "cell_type": "code",
   "execution_count": null,
   "metadata": {
    "ExecuteTime": {
     "end_time": "2019-12-08T16:02:17.206110Z",
     "start_time": "2019-12-08T16:02:17.203114Z"
    }
   },
   "outputs": [],
   "source": [
    "filename='texts.txt'\n",
    "df_text=pd.DataFrame(text, columns=['text'])"
   ]
  },
  {
   "cell_type": "code",
   "execution_count": null,
   "metadata": {
    "ExecuteTime": {
     "end_time": "2019-12-08T16:02:17.751130Z",
     "start_time": "2019-12-08T16:02:17.746138Z"
    }
   },
   "outputs": [],
   "source": [
    "df_text.to_csv(filename)"
   ]
  },
  {
   "cell_type": "code",
   "execution_count": null,
   "metadata": {
    "ExecuteTime": {
     "end_time": "2019-12-08T16:00:21.648246Z",
     "start_time": "2019-12-08T16:00:21.619481Z"
    }
   },
   "outputs": [],
   "source": [
    "filename='text.csv'\n",
    "import csv\n",
    "with open(filename, 'w', newline='') as csvfile:\n",
    "    writer = csv.writer(csvfile, delimiter=' ',quotechar='|', quoting=csv.QUOTE_MINIMAL)\n",
    "    for line in text:\n",
    "        writer.writerow([line]) "
   ]
  },
  {
   "cell_type": "code",
   "execution_count": null,
   "metadata": {},
   "outputs": [],
   "source": []
  }
 ],
 "metadata": {
  "kernelspec": {
   "display_name": "Python 3",
   "language": "python",
   "name": "python3"
  },
  "language_info": {
   "codemirror_mode": {
    "name": "ipython",
    "version": 3
   },
   "file_extension": ".py",
   "mimetype": "text/x-python",
   "name": "python",
   "nbconvert_exporter": "python",
   "pygments_lexer": "ipython3",
   "version": "3.7.5"
  },
  "toc": {
   "base_numbering": 1,
   "nav_menu": {},
   "number_sections": true,
   "sideBar": true,
   "skip_h1_title": false,
   "title_cell": "Table of Contents",
   "title_sidebar": "Contents",
   "toc_cell": false,
   "toc_position": {},
   "toc_section_display": true,
   "toc_window_display": true
  }
 },
 "nbformat": 4,
 "nbformat_minor": 2
}
