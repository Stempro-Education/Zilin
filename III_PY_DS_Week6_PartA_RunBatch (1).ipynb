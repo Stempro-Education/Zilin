{
 "cells": [
  {
   "cell_type": "code",
   "execution_count": 1,
   "metadata": {
    "ExecuteTime": {
     "end_time": "2020-01-12T16:45:51.593199Z",
     "start_time": "2020-01-12T16:45:51.588199Z"
    }
   },
   "outputs": [],
   "source": [
    "import pandas as pd\n",
    "from IPython.display import display, Markdown, Latex \n",
    "from pathlib import Path\n",
    "import sys\n",
    "import csv\n",
    "import pandas as pd\n",
    "import numpy as np\n",
    "import os\n",
    "from os import path\n",
    "from datetime import datetime\n",
    "from urllib.parse import urlparse, urljoin\n",
    "import requests\n",
    "import ntpath\n",
    "from bs4 import BeautifulSoup, Comment\n",
    "import time\n",
    "from pprint import pprint \n",
    "import shutil\n",
    "#!pip install tldextract\n",
    "import tldextract\n",
    "import multiprocessing\n",
    "from multiprocessing import Process, Queue, cpu_count\n",
    "import os\n",
    "from pprint import pprint\n",
    "from os import path, listdir \n",
    "pd.options.display.float_format = '{:,.2f}'.format \n",
    "pd.set_option('display.max_colwidth', -1)\n"
   ]
  },
  {
   "cell_type": "code",
   "execution_count": 2,
   "metadata": {
    "ExecuteTime": {
     "end_time": "2020-01-12T16:46:02.958096Z",
     "start_time": "2020-01-12T16:46:02.951135Z"
    }
   },
   "outputs": [
    {
     "data": {
      "text/markdown": [
       "\n",
       "# System Info: \n"
      ],
      "text/plain": [
       "<IPython.core.display.Markdown object>"
      ]
     },
     "metadata": {},
     "output_type": "display_data"
    },
    {
     "name": "stdout",
     "output_type": "stream",
     "text": [
      "{'active': 3379728384,\n",
      " 'available': 3392143360,\n",
      " 'free': 14622720,\n",
      " 'inactive': 3071213568,\n",
      " 'percent': 60.5,\n",
      " 'total': 8589934592,\n",
      " 'used': 4917534720,\n",
      " 'wired': 1537806336}\n",
      "\n",
      "#CPUs: 4\n"
     ]
    }
   ],
   "source": [
    "display(Markdown(\"\"\"\n",
    "# System Info: \n",
    "\"\"\"))\n",
    "import psutil\n",
    "from multiprocessing import Process, Queue, cpu_count\n",
    "from pprint import pprint\n",
    "# gives a single float value\n",
    "psutil.cpu_percent()\n",
    "# gives an object with many fields\n",
    "psutil.virtual_memory() \n",
    "# you can convert that object to a dictionary \n",
    "pprint(dict(psutil.virtual_memory()._asdict()))\n",
    "print('\\n#CPUs: {}'.format(cpu_count()))"
   ]
  },
  {
   "cell_type": "code",
   "execution_count": 3,
   "metadata": {
    "ExecuteTime": {
     "end_time": "2020-01-12T16:46:49.513843Z",
     "start_time": "2020-01-12T16:46:47.244848Z"
    }
   },
   "outputs": [
    {
     "data": {
      "text/markdown": [
       "\n",
       "# Load Module and Build Batch: \n"
      ],
      "text/plain": [
       "<IPython.core.display.Markdown object>"
      ]
     },
     "metadata": {},
     "output_type": "display_data"
    },
    {
     "ename": "ModuleNotFoundError",
     "evalue": "No module named 'CollegeContent'",
     "output_type": "error",
     "traceback": [
      "\u001b[0;31m---------------------------------------------------------------------------\u001b[0m",
      "\u001b[0;31mModuleNotFoundError\u001b[0m                       Traceback (most recent call last)",
      "\u001b[0;32m<ipython-input-3-e7948ae9bd53>\u001b[0m in \u001b[0;36m<module>\u001b[0;34m\u001b[0m\n\u001b[1;32m      3\u001b[0m \"\"\")) \n\u001b[1;32m      4\u001b[0m \u001b[0msys\u001b[0m\u001b[0;34m.\u001b[0m\u001b[0mpath\u001b[0m\u001b[0;34m.\u001b[0m\u001b[0minsert\u001b[0m\u001b[0;34m(\u001b[0m\u001b[0;36m0\u001b[0m\u001b[0;34m,\u001b[0m \u001b[0mos\u001b[0m\u001b[0;34m.\u001b[0m\u001b[0mpath\u001b[0m\u001b[0;34m.\u001b[0m\u001b[0mabspath\u001b[0m\u001b[0;34m(\u001b[0m\u001b[0;34m'C:/Coding/Get'\u001b[0m\u001b[0;34m)\u001b[0m\u001b[0;34m)\u001b[0m\u001b[0;34m\u001b[0m\u001b[0;34m\u001b[0m\u001b[0m\n\u001b[0;32m----> 5\u001b[0;31m \u001b[0;32mimport\u001b[0m \u001b[0mCollegeContent\u001b[0m \u001b[0;32mas\u001b[0m \u001b[0mCC\u001b[0m\u001b[0;34m\u001b[0m\u001b[0;34m\u001b[0m\u001b[0m\n\u001b[0m\u001b[1;32m      6\u001b[0m \u001b[0;31m#url='https://www.university-list.net/us/universities-2000.htm'\u001b[0m\u001b[0;34m\u001b[0m\u001b[0;34m\u001b[0m\u001b[0;34m\u001b[0m\u001b[0m\n",
      "\u001b[0;31mModuleNotFoundError\u001b[0m: No module named 'CollegeContent'"
     ]
    }
   ],
   "source": [
    "display(Markdown(\"\"\"\n",
    "# Load Module and Build Batch: \n",
    "\"\"\")) \n",
    "sys.path.insert(0, os.path.abspath('C:/Coding/Get'))\n",
    "import CollegeContent as CC\n",
    "#url='https://www.university-list.net/us/universities-2000.htm'"
   ]
  },
  {
   "cell_type": "code",
   "execution_count": null,
   "metadata": {},
   "outputs": [],
   "source": [
    "'''\n",
    "url='http://www.atsu.edu'\n",
    "name='A.T. Still University of Health Sciences'\n",
    "filename= 'A_100000.csv',\n",
    "urlfile='A_100000url.csv'  \n",
    "c=CC.CollegeCrawl(name, url,urlfile, filename, _gapInSecond=0, _maxPages=2, _urlCap=1000)\n",
    "c.GetallUrls()\n",
    "'''\n",
    "class Batch():\n",
    "    def __init__(self, _sourceFile=None, _gapInSecond=0, _maxPages=500, _urlCap=1000, _fromRow=0, _colleges=-1):\n",
    "        self.sourceFile=_sourceFile\n",
    "        self.gapInSecond=_gapInSecond\n",
    "        self.maxPages=_maxPages\n",
    "        self.urlCap=_urlCap\n",
    "        self.fromRow=_fromRow\n",
    "        self.colleges=_colleges\n",
    "        \n",
    "    def GetMasterFile(self, file='C:\\\\Coding\\\\utility_git\\\\Notebooks\\\\training\\\\ContentAqusition_All.csv'):\n",
    "        df_urls=pd.read_csv(self.sourceFile, names=['collegeId','url', 'name', 'filename','urlfile', 'urls', 'visitedurls',\\\n",
    "                                         'rejectedurls', 'filesizeinMB', 'randint'], sep=',', skiprows=1)\n",
    "        r,l=df_urls.shape\n",
    "        fromIndx,toIndx=0,0\n",
    "        \n",
    "        if self.fromRow>=r:\n",
    "            fromIndx=r-1\n",
    "        elif self.fromRow<0 or self.fromRow==None:\n",
    "            fromIndx=0\n",
    "        else:\n",
    "            fromIndx=self.fromRow\n",
    "            \n",
    "        if self.colleges<=0 or self.colleges==None:\n",
    "            toIndx=r\n",
    "        else:\n",
    "            toIndx=r if self.colleges+fromIndx>r else fromIndx+self.colleges\n",
    "             \n",
    "        return df_urls.iloc[fromIndx:toIndx]  \n",
    "\n",
    "    def Run(self):\n",
    "        df_urls=self.GetMasterFile() \n",
    "        k=0 \n",
    "        ls_sum=[]\n",
    "        n=0  \n",
    "         \n",
    "        for _, i in enumerate(df_urls.values): \n",
    "            collegeid,url, name, filename, urlfile, urls, visitedurls, rejectedurls,\\\n",
    "            filesizeinMB, randint=i[0],i[1],i[2],i[3],i[4],i[5],i[6],i[7],i[8],i[9] \n",
    "           \n",
    "            try:\n",
    "                c=CC.CollegeCrawl(name, url,urlfile, filename, _gapInSecond=self.gapInSecond, \\\n",
    "                                  _maxPages=self.maxPages, _capUrls=self.urlCap)\n",
    "                c.GetallUrls()\n",
    "                summary=c.Show_Summaries(show=False)\n",
    "            \n",
    "                if len(c.files)>0:\n",
    "                    c.Merge(isRemoveRawFile=True)\n",
    "                else:\n",
    "                    print('({}) {} : No files writen'.format(c.collegeName, c.rootUrl))\n",
    "\n",
    "                try:\n",
    "                    dataFile=path.join(c.saveToFolder, filename)\n",
    "                    fileSizeinMB=path.getsize(dataFile)/1024/1024\n",
    "                except: \n",
    "                    fileSizeinMB=0.0\n",
    "\n",
    "                zero=summary[summary['status_code']=='0']['url'].sum()\n",
    "                t00=summary[summary['status_code']=='200']['url'].sum()\n",
    "                full=summary['url'].sum()\n",
    "                ls_sum.append([collegeid, full,  t00, full-zero-t00, \"{0:.2f}\".format(fileSizeinMB)])  \n",
    "            except:\n",
    "                print('Error: {} --{}  '.format(urlfile,name))\n",
    "                pass \n",
    "        if ls_sum:\n",
    "            self.UpdateStats(ls_sum)\n",
    "        else:\n",
    "            print('No college data collected.')\n",
    "\n",
    "    def UpdateStats(self, ls_sum):\n",
    "        df_sum=pd.DataFrame(ls_sum, columns=['collegeid', 'urls', 'visitedurls', 'rejectedurls', 'filesizeinMB'])    \n",
    "        df_sum.to_csv(path.join(os.getcwd(), 'StagingFile.csv'), index = False)\n",
    "        #print(df_sum)\n",
    "        #print('#College Collected: {}'.len(ls_sum))\n",
    "'''\n",
    "b=Batch('C:\\\\Coding\\\\utility_git\\\\Notebooks\\\\training\\\\contentAqusition_Jason.csv',_maxPages=5, _fromRow=111, _colleges=3)\n",
    "dff=b.Run()\n",
    "'''    "
   ]
  },
  {
   "cell_type": "code",
   "execution_count": null,
   "metadata": {},
   "outputs": [],
   "source": [
    "if __name__ == \"__main__\":  # confirms that the code is under main function\n",
    "    folder='C:\\\\Coding\\\\utility_git\\\\Notebooks\\\\training\\\\' \n",
    "    files=[ path.join(folder,f) for f in listdir(folder) if re.match(r'^contentAqusition', f)]\n",
    "     \n",
    "    processes = []  \n",
    " \n",
    "    for f in files: \n",
    "        b=Batch(f,_maxPages=250, _fromRow=-1, _colleges=-1)\n",
    "        process = Process(target=b.Run())\n",
    "        processes.append(process)\n",
    "        process.start()\n",
    " \n",
    "    for process in processes:\n",
    "        process.join()"
   ]
  },
  {
   "cell_type": "code",
   "execution_count": null,
   "metadata": {
    "ExecuteTime": {
     "end_time": "2020-01-12T16:47:27.948992Z",
     "start_time": "2020-01-12T16:47:27.876992Z"
    }
   },
   "outputs": [],
   "source": [
    "folder='C:\\\\Coding\\\\utility_git\\\\Notebooks\\\\training\\\\' \n",
    "files=[ path.join(folder,f) for f in listdir(folder) if re.match(r'^contentAqusition', f) and 'All' not in f]"
   ]
  },
  {
   "cell_type": "code",
   "execution_count": null,
   "metadata": {},
   "outputs": [],
   "source": []
  }
 ],
 "metadata": {
  "kernelspec": {
   "display_name": "Python 3",
   "language": "python",
   "name": "python3"
  },
  "language_info": {
   "codemirror_mode": {
    "name": "ipython",
    "version": 3
   },
   "file_extension": ".py",
   "mimetype": "text/x-python",
   "name": "python",
   "nbconvert_exporter": "python",
   "pygments_lexer": "ipython3",
   "version": "3.7.4"
  },
  "toc": {
   "base_numbering": 1,
   "nav_menu": {},
   "number_sections": true,
   "sideBar": true,
   "skip_h1_title": false,
   "title_cell": "Table of Contents",
   "title_sidebar": "Contents",
   "toc_cell": false,
   "toc_position": {},
   "toc_section_display": true,
   "toc_window_display": true
  }
 },
 "nbformat": 4,
 "nbformat_minor": 2
}
