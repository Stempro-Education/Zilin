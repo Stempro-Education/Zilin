{
 "cells": [
  {
   "cell_type": "markdown",
   "metadata": {},
   "source": [
    "<font size=6 bold=true>Dec 29 -- Part B\n",
    "<br><br>Content Acquisition</font>\n",
    "\n",
    "<font size=5 color='Olive'>For the first 5 lessons, DS will be combined with Python due to insufficiencies of Concepts</font>"
   ]
  },
  {
   "cell_type": "code",
   "execution_count": 1,
   "metadata": {
    "ExecuteTime": {
     "end_time": "2019-12-29T19:51:47.437316Z",
     "start_time": "2019-12-29T19:51:40.471846Z"
    }
   },
   "outputs": [],
   "source": [
    "import re\n",
    "import sys\n",
    "import csv\n",
    "import pandas as pd\n",
    "import numpy as np\n",
    "import os\n",
    "from os import path\n",
    "from datetime import datetime\n",
    "from urllib.parse import urlparse, urljoin\n",
    "import requests\n",
    "import ntpath\n",
    "from bs4 import BeautifulSoup, Comment\n",
    "import time\n",
    "from pprint import pprint \n",
    "import shutil"
   ]
  },
  {
   "cell_type": "markdown",
   "metadata": {},
   "source": [
    "<h1>Object Oriented Programming: Define Classes</h1>"
   ]
  },
  {
   "cell_type": "markdown",
   "metadata": {},
   "source": []
  },
  {
   "cell_type": "code",
   "execution_count": 2,
   "metadata": {
    "ExecuteTime": {
     "end_time": "2019-12-29T19:51:47.459235Z",
     "start_time": "2019-12-29T19:51:47.440241Z"
    }
   },
   "outputs": [
    {
     "name": "stdout",
     "output_type": "stream",
     "text": [
      "College: Stanford avg gpa requirement is 3.0\n"
     ]
    },
    {
     "data": {
      "text/plain": [
       "3.0"
      ]
     },
     "execution_count": 2,
     "metadata": {},
     "output_type": "execute_result"
    }
   ],
   "source": [
    "class Describe_College(object):    \n",
    "    def __init__(self,col_name, avg_gpa, avg_act, avg_sat, addr): \n",
    "        self.col_name=col_name\n",
    "        self.avg_gpa=avg_gpa\n",
    "        self.avg_act=avg_act\n",
    "        self.avg_sat=avg_sat\n",
    "        self.addr=addr \n",
    "    def basic_info(self):\n",
    "        print(\"College: {} avg gpa requirement is {}\".format(self.col_name,self.avg_gpa))\n",
    "\n",
    "    def get_avggpa(self):\n",
    "        return self.avg_gpa\n",
    "\n",
    "c=Describe_College('Stanford', 3.0, 33.0, 1500, 'CA')\n",
    "c.basic_info()\n",
    "c.get_avggpa()"
   ]
  },
  {
   "cell_type": "code",
   "execution_count": 59,
   "metadata": {
    "ExecuteTime": {
     "end_time": "2019-12-30T02:46:42.116145Z",
     "start_time": "2019-12-30T02:46:42.075168Z"
    },
    "code_folding": []
   },
   "outputs": [],
   "source": [
    "'''\n",
    "    c=CollegeCrawl('University of Washington', 'https://www.washington.edu')\n",
    "    c.GetAllUrls()\n",
    "'''\n",
    "class CollegeCrawl():\n",
    "    Gap_Insecond=1\n",
    "    Max_Pages=15      \n",
    "    \"\"\"\n",
    "        collegename: name\n",
    "        rooturl: https://www.university.edu. Scheme and netloc need to be complete\n",
    "        prioritykeywords: ['apply','adimission'...] etc. if None then everth page \n",
    "        respectrobottxt: True\n",
    "    \"\"\"\n",
    "    def __init__(self,_collegename, _rooturl, \n",
    "                 _prioritykeywords=['apply', 'admission', 'application', 'deadline'], \n",
    "                 _url_file=None,                  \n",
    "                 _save_to_folder=None,\n",
    "                 _existingurlfile=None, #csv files that were visited in the past\n",
    "                 _respectrobottxt=True, \n",
    "                _headers={'User-Agent':'Mozilla/5.0'} ):\n",
    "        self.college=_collegename\n",
    "         \n",
    "        if urlparse(_rooturl).scheme==\"\":\n",
    "            print('URL needs to have scheme. Please try again.')\n",
    "            raise Exception('URL needs to have scheme')            \n",
    "            return\n",
    "        \n",
    "        self.rootUrl=_rooturl\n",
    "        self.base_domain=urlparse(self.rootUrl).netloc\n",
    "        self.scheme=urlparse(self.rootUrl).scheme\n",
    "        self.priorityKeywords=_prioritykeywords\n",
    "        self.respectRobottext=_respectrobottxt\n",
    "        if _save_to_folder==None or path.isdir(_save_to_folder)==False:\n",
    "            self.save_to_folder=os.getcwd()\n",
    "        else:\n",
    "            self.save_to_folder=_save_to_folder\n",
    "            \n",
    "        #to make it less \n",
    "        if _existingurlfile==None or path.exists(_existingurlfile)==False:            \n",
    "            self.existingurlfile=path.join(self.save_to_folder,re.sub(\"\\s+\", \"_\", self.college.strip()+'.csv'))\n",
    "        else:\n",
    "            self.existingurlfile=_existingurlfile\n",
    "        self.allurls={}\n",
    "        self.headers=_headers\n",
    "        self.files=[]\n",
    "            \n",
    "    '''simple description'''        \n",
    "    def __str__(self):\n",
    "        return '{}. Starting URL: {}'.format(self.college, self.rootUrl)\n",
    "    '''\n",
    "        load _existingurlfile: two columns -- Url and status_code\n",
    "        minimum assumptions: first two columns are url and status_code\n",
    "    '''\n",
    "    def Load_DiscoveredUrls(self, delimiter=',', hasHeader=False, header_names=['url', 'status_code']):   \n",
    "        if self.existingurlfile==None:\n",
    "            return {}\n",
    "        else:\n",
    "            if path.exists(self.existingurlfile) and re.sub('\\s+', '_', self.college) in ntpath.basename(self.existingurlfile):\n",
    "                df_urls=pd.read_csv(self.existingurlfile,  delimiter=delimiter).iloc[:, 0:2]   \n",
    "                header_row=list(df_urls.columns) \n",
    "            \n",
    "                if re.match('^http', header_row[0]):\n",
    "                    df_urls.columns=header_names\n",
    "                    df_urls=pd.concat([df_urls, pd.DataFrame([header_row], columns=header_names)])                \n",
    "                else: #event it is not, still assign the header_name\n",
    "                    df_urls.columns=header_names \n",
    "                \n",
    "                return dict(zip(df_urls['url'], df_urls['status_code'])) #format: url:status_code. i.e., url is the key\n",
    "                #another options is: df_urls.to_dict('list') #format of {url:[url1, url2...], status_code:[0, 200...]}\n",
    "            else:\n",
    "                return {}        \n",
    "            \n",
    "    \"\"\"\n",
    "        get all urls starting from rootUrl \n",
    "        headers={'User-Agent':'Mozilla/5.0'}\n",
    "        #Mozilla/5.0 (Windows NT 10.0; Win64; x64) AppleWebKit/537.36 (KHTML, like Gecko) Chrome/79.0.3945.88 Safari/537.36\n",
    "        #full list: https://www.whatismybrowser.com/guides/the-latest-user-agent/chrome\n",
    "        response= requests.get(url, headers=headers)\n",
    "        soup = BeautifulSoup(response.text)  \n",
    "        \n",
    "        it will first load which ever has alread visited \n",
    "\n",
    "    \"\"\"    \n",
    "    def GetAllUrls(self, headers=None, links_only=True): \n",
    "        #load existing urls if any\n",
    "        urls=self.Load_DiscoveredUrls() \n",
    "        \n",
    "        if len(urls)==0:\n",
    "            urls={self.rootUrl:0}  \n",
    "            unvisited=[self.rootUrl]\n",
    "        else:\n",
    "            unvisited=[url for url, status_code in urls.items() if status_code==0]\n",
    "            if not unvisited:\n",
    "                unvisited=[self.rootUrl]\n",
    "            \n",
    "        if headers==None: \n",
    "            if self.headers:\n",
    "                headers=self.headers\n",
    "            else: \n",
    "                 headers={'User-Agent':'Mozilla/5.0'}  \n",
    "                    \n",
    "        #get base_domain    \n",
    "        if self.base_domain==None:\n",
    "            self.base_domain=urlparse(unvisited[0]).netloc\n",
    "        if self.scheme==None:\n",
    "            self.scheme=urlparse(unvisited[0]).scheme\n",
    "     \n",
    "        pages_visited =0\n",
    "        try:  \n",
    "            while unvisited:        \n",
    "                pages_visited+=1\n",
    "                url=unvisited.pop()  \n",
    "                response=requests.get(url, headers=headers)     \n",
    "                status_code=response.status_code\n",
    "                urls[url]=status_code\n",
    "                 \n",
    "                if status_code==200:\n",
    "                    soup=BeautifulSoup(response.text, 'html.parser') \n",
    "                    for link in soup.find_all('a'): \n",
    "                        if link.has_attr('href'):\n",
    "                            url=link['href']       \n",
    "                            url=re.sub(r'[\\/_+!@#$?\\\\\\s]+$', '', url)\n",
    "                            parsed_uri = urlparse(url) \n",
    "                            absolute_url=''\n",
    "           \n",
    "                            if (parsed_uri.netloc=='') and (parsed_uri.scheme=='') and re.match(r'^\\/.*\\w$', parsed_uri.path) :\n",
    "                                absolute_url=urljoin(self.scheme+'://'+self.base_domain,parsed_uri.path)\n",
    "                            elif parsed_uri.netloc==self.base_domain and re.match('^http', parsed_uri.scheme):\n",
    "                                absolute_url=url\n",
    "                            elif parsed_uri.netloc==self.base_domain and parsed_uri.scheme==\"\" and re.match(r'^\\/.*\\w$', parsed_uri.path):\n",
    "                                absolute_url=self.scheme+'://'+parsed_uri.netloc+parsed_uri.path\n",
    "                            else:\n",
    "                                continue    \n",
    "                            if absolute_url!='' and absolute_url not in urls:   \n",
    "                                 urls[absolute_url]=0\n",
    "                  \n",
    "                    self.SaveToCsv_FromResponse(url, response)  \n",
    "              \n",
    "                if pages_visited>=self.Max_Pages:\n",
    "                    break \n",
    "             \n",
    "                unvisited=[name for name, code in urls.items() if code==0]    \n",
    "                #sorting rule: has keywords, short url, else\n",
    "                unvisited=sorted(unvisited, key=lambda item: (sum([w in item for w in self.priorityKeywords])*10+10)/len(item))\n",
    "                time.sleep(self.Gap_Insecond) #wait for few seconds. \n",
    "          \n",
    "        except: \n",
    "            print('url \"{}\" went wrong'.format(url))  \n",
    "            urls[url]=999\n",
    "                #not to consider failed pages. status_code 400s may need manual handling of they are high priority pages\n",
    "        finally: \n",
    "            self.allurls=urls\n",
    "            #csv_columns = ['url', 'status_code']  \n",
    "            #try:\n",
    "                #with open(self.existingurlfile, 'w', newline='', encoding='utf-8') as csvfile:\n",
    "                    #writer = csv.DictWriter(csvfile, fieldnames=csv_columns)\n",
    "                    #writer.writeheader()\n",
    "                    #for data in urls:\n",
    "                        #writer.writerow(data)\n",
    "            #except IOError:\n",
    "                #print(\"I/O error\")\n",
    "            self.Save_Summaries()\n",
    "            \n",
    "    \"\"\"\n",
    "        display summaries \n",
    "    \"\"\"\n",
    "    \n",
    "    def Save_Summaries(self): \n",
    "        if self.allurls:\n",
    "            df_urls=pd.DataFrame(list(c.allurls.items()), columns=['url', 'status_code'])\n",
    "            print('Summary for college ', self.college)\n",
    "            print('\\n')\n",
    "            print(df_urls.groupby('status_code').count().reset_index())\n",
    "            #save file as well  \n",
    "            try:\n",
    "                with open(self.existingurlfile, 'w', newline='', encoding='utf-8') as csvfile:\n",
    "                    writer = csv.writer(csvfile, delimiter=',', quoting=csv.QUOTE_MINIMAL)\n",
    "                    writer.writerow(['url','status_code'])\n",
    "                    for url, status_code in self.allurls.items():  \n",
    "                        writer.writerow([url, status_code])  \n",
    "            except IOError:\n",
    "                print('IO Error in saving summaries')\n",
    "                \n",
    "        if self.files:\n",
    "            print('\\nThe following {} file(s) are generated. '.format(len(self.files)))\n",
    "            pprint(self.files) \n",
    "    \"\"\"\n",
    "        read one page\n",
    "    \"\"\"\n",
    "    def Read_Oneurl(self, url):  \n",
    "        response=requests.get(url, self.headers)  \n",
    "        if response.status_code==200: \n",
    "            return self.Get_Pagetext(response)\n",
    "        else: \n",
    "            return [[None, None, None, None]]\n",
    "    \n",
    "    '''\n",
    "        used for filter()\n",
    "    '''\n",
    "    def Tag_Visible(self, element):\n",
    "        if element.parent.name in ['style', 'script', 'head', 'title', 'meta', '[document]']:\n",
    "            return False\n",
    "        if isinstance(element, Comment):\n",
    "            return False\n",
    "        return True \n",
    "\n",
    "    '''\n",
    "        get all text from page body\n",
    "    '''\n",
    "    def Get_Pagetext(self, response):\n",
    "        soup = BeautifulSoup(response.text, 'html.parser') #conent\n",
    "        texts = soup.findAll(text=True) \n",
    "        visible_texts = filter(self.Tag_Visible, texts)       \n",
    "\n",
    "        return [ [t.parent.name,   \n",
    "                 t.parent.previousSibling.name if t.parent.previousSibling!=None else None, \n",
    "                 t.nextSibling.name if t.nextSibling!=None else None,\n",
    "                 re.sub(r'[\\s+\\t]',' ',t) ]  for t in visible_texts if len(t.strip())>2] \n",
    "\n",
    "    \"\"\"\n",
    "        Save One Page\n",
    "        filename, if not None, should not be full name. use import ntpath ntpath.basename(\"a\\b\\c\")\n",
    "    \"\"\"\n",
    "    def SaveToCsv_FromUrl(self,url): # tab delimiter only \n",
    "        url=url.strip() \n",
    "        content=self.Read_Oneurl(url) #in format of (a,a,a,a)   \n",
    "        self.SaveToCsv(url, content)\n",
    "        #return SaveToCsv_FromResponse()\n",
    "    \n",
    "    '''\n",
    "        save from resonse. called in the initial loop\n",
    "    '''\n",
    "    def SaveToCsv_FromResponse(self, url, response):\n",
    "        content= self.Get_Pagetext(response)\n",
    "        self.SaveToCsv(url, content) \n",
    "        \n",
    "    '''\n",
    "        save to csv file and append it to self.files\n",
    "    '''    \n",
    "    def SaveToCsv(self, url, content):\n",
    "        filename=url.replace('.', '_dot_').replace('/', '_').replace(':', '_')+'_'+datetime.now().strftime(\"%m_%d_%Y_%H_%M_%S\")+'.csv'\n",
    "        fullname=path.join(self.save_to_folder, filename)\n",
    "        try:\n",
    "            with open(fullname, 'w', newline='', encoding='utf-8') as csvfile:\n",
    "                writer = csv.writer(csvfile, delimiter='\\t', quoting=csv.QUOTE_MINIMAL)\n",
    "                writer.writerow(['url', 'parent', 'ps', 'ns', 'text'])\n",
    "                for lll in content: \n",
    "                    lll.insert(0, url)\n",
    "                    writer.writerow(lll)  \n",
    "            self.files.append(fullname) \n",
    "        except IOError:\n",
    "            print('failed to save file.')\n",
    "            \n",
    "    '''\n",
    "        move file from one folder to another \n",
    "        pattern: regular expression\n",
    "    '''\n",
    "    def MoveFiles(self, destination_folder, source_folder=None,  pattern=None): \n",
    "        if source_folder==None:\n",
    "            source_folder=self.save_to_folder\n",
    "        if source_folder==None:\n",
    "            print('Please specify folder with the files. ')\n",
    "            return\n",
    "        if destination_folder==None or path.isdir(destination_folder)==False:\n",
    "            print('Need a valid destination folder')\n",
    "            \n",
    "        if pattern==None or pattern==\"\":\n",
    "            pattern=\"csv$\" \n",
    "        files = [f for f in os.listdir(self.save_to_folder) if re.match(pattern, f) and path.isfile(path.join(src, f))]\n",
    "        for f in files:\n",
    "            shutil.move(path.join(src, f), destination_folder)  \n",
    "            "
   ]
  },
  {
   "cell_type": "code",
   "execution_count": 13,
   "metadata": {
    "ExecuteTime": {
     "end_time": "2019-12-29T21:14:16.516644Z",
     "start_time": "2019-12-29T21:14:16.513116Z"
    }
   },
   "outputs": [],
   "source": [
    "c=CollegeCrawl('washington', 'https://www.washington.edu/studentlife/')"
   ]
  },
  {
   "cell_type": "code",
   "execution_count": 1,
   "metadata": {
    "ExecuteTime": {
     "end_time": "2020-01-04T22:54:39.475670Z",
     "start_time": "2020-01-04T22:54:39.406900Z"
    }
   },
   "outputs": [
    {
     "ename": "NameError",
     "evalue": "name 'CollegeCrawl' is not defined",
     "output_type": "error",
     "traceback": [
      "\u001b[1;31m---------------------------------------------------------------------------\u001b[0m",
      "\u001b[1;31mNameError\u001b[0m                                 Traceback (most recent call last)",
      "\u001b[1;32m<ipython-input-1-b3834bb9ae61>\u001b[0m in \u001b[0;36m<module>\u001b[1;34m\u001b[0m\n\u001b[1;32m----> 1\u001b[1;33m \u001b[0muom\u001b[0m\u001b[1;33m=\u001b[0m\u001b[0mCollegeCrawl\u001b[0m\u001b[1;33m(\u001b[0m\u001b[1;34m'michigan'\u001b[0m\u001b[1;33m,\u001b[0m \u001b[1;34m'https://umich.edu/'\u001b[0m\u001b[1;33m)\u001b[0m\u001b[1;33m\u001b[0m\u001b[1;33m\u001b[0m\u001b[0m\n\u001b[0m",
      "\u001b[1;31mNameError\u001b[0m: name 'CollegeCrawl' is not defined"
     ]
    }
   ],
   "source": [
    "uom=CollegeCrawl('michigan', 'https://umich.edu/')"
   ]
  },
  {
   "cell_type": "code",
   "execution_count": 14,
   "metadata": {
    "ExecuteTime": {
     "end_time": "2019-12-29T21:14:38.360617Z",
     "start_time": "2019-12-29T21:14:17.235665Z"
    }
   },
   "outputs": [
    {
     "name": "stdout",
     "output_type": "stream",
     "text": [
      "Summary for college  washington\n",
      "\n",
      "\n",
      "   status_code  url\n",
      "0            0  248\n",
      "1          200   16\n",
      "\n",
      "The following 16 file(s) are generated. \n",
      "['C:\\\\Coding\\\\utility_git\\\\Notebooks\\\\http___www_dot_washington_dot_edu_online_terms_12_29_2019_13_14_17.csv',\n",
      " 'C:\\\\Coding\\\\utility_git\\\\Notebooks\\\\http___www_dot_washington_dot_edu_online_terms_12_29_2019_13_14_18.csv',\n",
      " 'C:\\\\Coding\\\\utility_git\\\\Notebooks\\\\http___www_dot_washington_dot_edu_online_terms_12_29_2019_13_14_19.csv',\n",
      " 'C:\\\\Coding\\\\utility_git\\\\Notebooks\\\\http___www_dot_washington_dot_edu_online_terms_12_29_2019_13_14_21.csv',\n",
      " 'C:\\\\Coding\\\\utility_git\\\\Notebooks\\\\http___www_dot_washington_dot_edu_online_terms_12_29_2019_13_14_22.csv',\n",
      " 'C:\\\\Coding\\\\utility_git\\\\Notebooks\\\\http___www_dot_washington_dot_edu_online_terms_12_29_2019_13_14_24.csv',\n",
      " 'C:\\\\Coding\\\\utility_git\\\\Notebooks\\\\http___www_dot_washington_dot_edu_online_terms_12_29_2019_13_14_25.csv',\n",
      " 'C:\\\\Coding\\\\utility_git\\\\Notebooks\\\\http___hr_dot_uw_dot_edu_workplace-posters_12_29_2019_13_14_27.csv',\n",
      " 'C:\\\\Coding\\\\utility_git\\\\Notebooks\\\\http___www_dot_washington_dot_edu_online_terms_12_29_2019_13_14_28.csv',\n",
      " 'C:\\\\Coding\\\\utility_git\\\\Notebooks\\\\http___www_dot_washington_dot_edu_online_terms_12_29_2019_13_14_30.csv',\n",
      " 'C:\\\\Coding\\\\utility_git\\\\Notebooks\\\\http___www_dot_washington_dot_edu_online_terms_12_29_2019_13_14_31.csv',\n",
      " 'C:\\\\Coding\\\\utility_git\\\\Notebooks\\\\http___www_dot_washington_dot_edu_online_terms_12_29_2019_13_14_32.csv',\n",
      " 'C:\\\\Coding\\\\utility_git\\\\Notebooks\\\\http___www_dot_washington_dot_edu_online_terms_12_29_2019_13_14_34.csv',\n",
      " 'C:\\\\Coding\\\\utility_git\\\\Notebooks\\\\http___www_dot_washington_dot_edu_online_terms_12_29_2019_13_14_35.csv',\n",
      " 'C:\\\\Coding\\\\utility_git\\\\Notebooks\\\\http___www_dot_washington_dot_edu_online_terms_12_29_2019_13_14_37.csv',\n",
      " 'C:\\\\Coding\\\\utility_git\\\\Notebooks\\\\http___www_dot_washington_dot_edu_online_terms_12_29_2019_13_14_38.csv']\n"
     ]
    }
   ],
   "source": [
    " c.GetAllUrls()"
   ]
  },
  {
   "cell_type": "code",
   "execution_count": null,
   "metadata": {
    "ExecuteTime": {
     "end_time": "2019-12-29T16:03:01.658686Z",
     "start_time": "2019-12-29T16:03:01.655685Z"
    }
   },
   "outputs": [],
   "source": [
    " "
   ]
  },
  {
   "cell_type": "code",
   "execution_count": 69,
   "metadata": {
    "ExecuteTime": {
     "end_time": "2019-12-30T02:48:38.415434Z",
     "start_time": "2019-12-30T02:48:38.409431Z"
    }
   },
   "outputs": [],
   "source": [
    "def MoveFiles(  destination_folder=None, source_folder=None,  pattern=None): \n",
    "    if source_folder==None:\n",
    "        source_folder='C:\\\\Coding\\\\utility_git\\\\Notebooks'\n",
    "    if source_folder==None:\n",
    "        print('Please specify folder with the files. ')\n",
    "        return\n",
    "    if destination_folder==None or path.isdir(destination_folder)==False:\n",
    "        print('Need a valid destination folder')\n",
    "    save_to_folder='c:/coding/hw'\n",
    "    if pattern==None or pattern==\"\":\n",
    "        pattern='.*.csv$' \n",
    "    return [f for f in os.listdir(source_folder) if re.match(pattern, f)]\n",
    "    #files = [f for f in os.listdir(source_folder) if re.match(pattern, f) and path.isfile(path.source_folder(src, f))]\n",
    "    return files, save_to_folder, [f for f in os.listdir(source_folder)]\n",
    "    for f in files:\n",
    "        shutil.move(path.join(src, f), destination_folder)  \n",
    "            "
   ]
  },
  {
   "cell_type": "code",
   "execution_count": 70,
   "metadata": {
    "ExecuteTime": {
     "end_time": "2019-12-30T02:48:38.868459Z",
     "start_time": "2019-12-30T02:48:38.863426Z"
    }
   },
   "outputs": [
    {
     "name": "stdout",
     "output_type": "stream",
     "text": [
      "afd\n"
     ]
    }
   ],
   "source": [
    "a='http___hr_dot_uw_dot_edu_workplace-posters_12_29_2019_13_14_27.csv'\n",
    "if re.match(r'.*.csv$', a):\n",
    "    print('afd')"
   ]
  },
  {
   "cell_type": "code",
   "execution_count": 71,
   "metadata": {
    "ExecuteTime": {
     "end_time": "2019-12-30T02:48:39.677519Z",
     "start_time": "2019-12-30T02:48:39.672518Z"
    }
   },
   "outputs": [
    {
     "name": "stdout",
     "output_type": "stream",
     "text": [
      "Need a valid destination folder\n"
     ]
    },
    {
     "data": {
      "text/plain": [
       "['http___hr_dot_uw_dot_edu_workplace-posters_12_29_2019_13_14_27.csv',\n",
       " 'http___www_dot_washington_dot_edu_online_terms_12_29_2019_13_13_23.csv',\n",
       " 'http___www_dot_washington_dot_edu_online_terms_12_29_2019_13_13_24.csv',\n",
       " 'http___www_dot_washington_dot_edu_online_terms_12_29_2019_13_14_17.csv',\n",
       " 'http___www_dot_washington_dot_edu_online_terms_12_29_2019_13_14_18.csv',\n",
       " 'http___www_dot_washington_dot_edu_online_terms_12_29_2019_13_14_19.csv',\n",
       " 'http___www_dot_washington_dot_edu_online_terms_12_29_2019_13_14_21.csv',\n",
       " 'http___www_dot_washington_dot_edu_online_terms_12_29_2019_13_14_22.csv',\n",
       " 'http___www_dot_washington_dot_edu_online_terms_12_29_2019_13_14_24.csv',\n",
       " 'http___www_dot_washington_dot_edu_online_terms_12_29_2019_13_14_25.csv',\n",
       " 'http___www_dot_washington_dot_edu_online_terms_12_29_2019_13_14_28.csv',\n",
       " 'http___www_dot_washington_dot_edu_online_terms_12_29_2019_13_14_30.csv',\n",
       " 'http___www_dot_washington_dot_edu_online_terms_12_29_2019_13_14_31.csv',\n",
       " 'http___www_dot_washington_dot_edu_online_terms_12_29_2019_13_14_32.csv',\n",
       " 'http___www_dot_washington_dot_edu_online_terms_12_29_2019_13_14_34.csv',\n",
       " 'http___www_dot_washington_dot_edu_online_terms_12_29_2019_13_14_35.csv',\n",
       " 'http___www_dot_washington_dot_edu_online_terms_12_29_2019_13_14_37.csv',\n",
       " 'http___www_dot_washington_dot_edu_online_terms_12_29_2019_13_14_38.csv',\n",
       " 'uw.csv',\n",
       " 'WAColleges.csv',\n",
       " 'washington.csv']"
      ]
     },
     "execution_count": 71,
     "metadata": {},
     "output_type": "execute_result"
    }
   ],
   "source": [
    "MoveFiles()"
   ]
  },
  {
   "cell_type": "code",
   "execution_count": null,
   "metadata": {},
   "outputs": [],
   "source": []
  },
  {
   "cell_type": "code",
   "execution_count": 76,
   "metadata": {
    "ExecuteTime": {
     "end_time": "2019-12-30T03:51:31.747268Z",
     "start_time": "2019-12-30T03:51:31.744307Z"
    }
   },
   "outputs": [],
   "source": [
    "a={3,4,5, 3, 4}\n",
    "aset=set(a) "
   ]
  },
  {
   "cell_type": "code",
   "execution_count": 77,
   "metadata": {
    "ExecuteTime": {
     "end_time": "2019-12-30T03:51:42.963056Z",
     "start_time": "2019-12-30T03:51:42.958026Z"
    }
   },
   "outputs": [
    {
     "data": {
      "text/plain": [
       "{3, 4, 5}"
      ]
     },
     "execution_count": 77,
     "metadata": {},
     "output_type": "execute_result"
    }
   ],
   "source": [
    "a"
   ]
  },
  {
   "cell_type": "code",
   "execution_count": 78,
   "metadata": {
    "ExecuteTime": {
     "end_time": "2019-12-30T03:51:47.129426Z",
     "start_time": "2019-12-30T03:51:47.125415Z"
    }
   },
   "outputs": [
    {
     "data": {
      "text/plain": [
       "{3, 4, 5}"
      ]
     },
     "execution_count": 78,
     "metadata": {},
     "output_type": "execute_result"
    }
   ],
   "source": [
    "aset"
   ]
  },
  {
   "cell_type": "code",
   "execution_count": 79,
   "metadata": {
    "ExecuteTime": {
     "end_time": "2019-12-30T03:51:53.402198Z",
     "start_time": "2019-12-30T03:51:53.398166Z"
    }
   },
   "outputs": [
    {
     "data": {
      "text/plain": [
       "3"
      ]
     },
     "execution_count": 79,
     "metadata": {},
     "output_type": "execute_result"
    }
   ],
   "source": [
    "aset.pop()"
   ]
  },
  {
   "cell_type": "code",
   "execution_count": 80,
   "metadata": {
    "ExecuteTime": {
     "end_time": "2019-12-30T03:52:10.201762Z",
     "start_time": "2019-12-30T03:52:10.198731Z"
    }
   },
   "outputs": [],
   "source": [
    "alist=list(aset)"
   ]
  },
  {
   "cell_type": "code",
   "execution_count": 81,
   "metadata": {
    "ExecuteTime": {
     "end_time": "2019-12-30T03:52:14.695793Z",
     "start_time": "2019-12-30T03:52:14.690830Z"
    }
   },
   "outputs": [
    {
     "data": {
      "text/plain": [
       "[4, 5]"
      ]
     },
     "execution_count": 81,
     "metadata": {},
     "output_type": "execute_result"
    }
   ],
   "source": [
    "alist"
   ]
  },
  {
   "cell_type": "code",
   "execution_count": 82,
   "metadata": {
    "ExecuteTime": {
     "end_time": "2019-12-30T03:52:19.882579Z",
     "start_time": "2019-12-30T03:52:19.877322Z"
    }
   },
   "outputs": [
    {
     "data": {
      "text/plain": [
       "5"
      ]
     },
     "execution_count": 82,
     "metadata": {},
     "output_type": "execute_result"
    }
   ],
   "source": [
    "alist.pop()"
   ]
  },
  {
   "cell_type": "code",
   "execution_count": 83,
   "metadata": {
    "ExecuteTime": {
     "end_time": "2019-12-30T03:54:13.330937Z",
     "start_time": "2019-12-30T03:54:13.326158Z"
    }
   },
   "outputs": [
    {
     "name": "stdout",
     "output_type": "stream",
     "text": [
      "Help on built-in function pop:\n",
      "\n",
      "pop(index=-1, /) method of builtins.list instance\n",
      "    Remove and return item at index (default last).\n",
      "    \n",
      "    Raises IndexError if list is empty or index is out of range.\n",
      "\n"
     ]
    }
   ],
   "source": [
    "help(alist.pop)"
   ]
  },
  {
   "cell_type": "code",
   "execution_count": 91,
   "metadata": {
    "ExecuteTime": {
     "end_time": "2019-12-30T04:28:32.076217Z",
     "start_time": "2019-12-30T04:28:32.072185Z"
    }
   },
   "outputs": [],
   "source": [
    "mycard={'mit':2, 'u':3}\n",
    "ab={k: v for k, v in sorted(mycard.items(), key=lambda item: item[1])}"
   ]
  },
  {
   "cell_type": "code",
   "execution_count": 94,
   "metadata": {
    "ExecuteTime": {
     "end_time": "2019-12-30T04:29:47.891633Z",
     "start_time": "2019-12-30T04:29:47.887634Z"
    }
   },
   "outputs": [
    {
     "data": {
      "text/plain": [
       "['mit', 'u']"
      ]
     },
     "execution_count": 94,
     "metadata": {},
     "output_type": "execute_result"
    }
   ],
   "source": [
    "list(ab)"
   ]
  },
  {
   "cell_type": "code",
   "execution_count": null,
   "metadata": {},
   "outputs": [],
   "source": []
  },
  {
   "cell_type": "code",
   "execution_count": 89,
   "metadata": {
    "ExecuteTime": {
     "end_time": "2019-12-30T04:17:06.543803Z",
     "start_time": "2019-12-30T04:17:06.538839Z"
    }
   },
   "outputs": [
    {
     "name": "stdout",
     "output_type": "stream",
     "text": [
      "Help on built-in function sorted in module builtins:\n",
      "\n",
      "sorted(iterable, /, *, key=None, reverse=False)\n",
      "    Return a new list containing all items from the iterable in ascending order.\n",
      "    \n",
      "    A custom key function can be supplied to customize the sort order, and the\n",
      "    reverse flag can be set to request the result in descending order.\n",
      "\n"
     ]
    }
   ],
   "source": [
    "help(sorted)"
   ]
  },
  {
   "cell_type": "code",
   "execution_count": null,
   "metadata": {},
   "outputs": [],
   "source": [
    "{key:value for key, value in sorted()}"
   ]
  }
 ],
 "metadata": {
  "kernelspec": {
   "display_name": "Python 3",
   "language": "python",
   "name": "python3"
  },
  "language_info": {
   "codemirror_mode": {
    "name": "ipython",
    "version": 3
   },
   "file_extension": ".py",
   "mimetype": "text/x-python",
   "name": "python",
   "nbconvert_exporter": "python",
   "pygments_lexer": "ipython3",
   "version": "3.7.5"
  },
  "toc": {
   "base_numbering": 1,
   "nav_menu": {},
   "number_sections": true,
   "sideBar": true,
   "skip_h1_title": false,
   "title_cell": "Table of Contents",
   "title_sidebar": "Contents",
   "toc_cell": false,
   "toc_position": {
    "height": "calc(100% - 180px)",
    "left": "10px",
    "top": "150px",
    "width": "165px"
   },
   "toc_section_display": true,
   "toc_window_display": true
  }
 },
 "nbformat": 4,
 "nbformat_minor": 2
}
