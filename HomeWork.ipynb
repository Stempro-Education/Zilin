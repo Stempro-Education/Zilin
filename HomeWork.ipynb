{
 "cells": [
  {
   "cell_type": "markdown",
   "metadata": {},
   "source": [
    "<font size=6 bold=true>Dec 21 -- Part C\n",
    "<br><br>Data Structure</font>\n",
    "\n",
    "<font size=5 color='Olive'>For the first 5 lessons, DS will be combined with Python due to insufficiencies of Concepts</font>"
   ]
  },
  {
   "cell_type": "code",
   "execution_count": 1,
   "metadata": {
    "ExecuteTime": {
     "end_time": "2019-12-22T05:27:41.294420Z",
     "start_time": "2019-12-22T05:27:40.477399Z"
    }
   },
   "outputs": [],
   "source": [
    "import re\n",
    "import sys\n",
    "import os\n",
    "from os import path\n",
    "from datetime import datetime"
   ]
  },
  {
   "cell_type": "markdown",
   "metadata": {},
   "source": [
    "# Data types and functions. We were there. "
   ]
  },
  {
   "cell_type": "markdown",
   "metadata": {},
   "source": [
    "Numbers<br>\n",
    "String<br>\n",
    "List<br>\n",
    "Tuple<br>\n",
    "Set<br>\n",
    "Dictionary"
   ]
  },
  {
   "cell_type": "markdown",
   "metadata": {},
   "source": [
    "<br><font size=5>Functions Revisit</font>"
   ]
  },
  {
   "cell_type": "code",
   "execution_count": 2,
   "metadata": {
    "ExecuteTime": {
     "end_time": "2019-12-22T15:19:50.731585Z",
     "start_time": "2019-12-22T15:19:50.725580Z"
    }
   },
   "outputs": [],
   "source": [
    "#1: \n",
    "import os\n",
    "from datetime import datetime\n",
    "\n",
    "def generate_defaultfilename():\n",
    "    folder=os.getcwd()\n",
    "    filename=datetime.now().strftime(\"%b\")+'_'+datetime.now().strftime(\"%m_%d_%Y_%H_%M_%S\")+'.csv' \n",
    "    return path.join(folder, filename) \n",
    "\n",
    "#generate_defaultfilename()   "
   ]
  },
  {
   "cell_type": "code",
   "execution_count": 3,
   "metadata": {
    "ExecuteTime": {
     "end_time": "2019-12-22T15:20:27.990990Z",
     "start_time": "2019-12-22T15:20:27.984988Z"
    }
   },
   "outputs": [],
   "source": [
    "# 2\n",
    "def read_oneurl(url):  \n",
    "    response=requests.get(url)  \n",
    "    if response.status_code==200: \n",
    "        return get_pagetext(response)\n",
    "    else: \n",
    "        return [[None, None, None, None]]"
   ]
  },
  {
   "cell_type": "code",
   "execution_count": 4,
   "metadata": {
    "ExecuteTime": {
     "end_time": "2019-12-22T15:41:35.570710Z",
     "start_time": "2019-12-22T15:41:35.557698Z"
    }
   },
   "outputs": [
    {
     "data": {
      "text/html": [
       "<div>\n",
       "<style scoped>\n",
       "    .dataframe tbody tr th:only-of-type {\n",
       "        vertical-align: middle;\n",
       "    }\n",
       "\n",
       "    .dataframe tbody tr th {\n",
       "        vertical-align: top;\n",
       "    }\n",
       "\n",
       "    .dataframe thead th {\n",
       "        text-align: right;\n",
       "    }\n",
       "</style>\n",
       "<table border=\"1\" class=\"dataframe\">\n",
       "  <thead>\n",
       "    <tr style=\"text-align: right;\">\n",
       "      <th></th>\n",
       "      <th>InstitutionName</th>\n",
       "      <th>UnitID</th>\n",
       "      <th>ParentID</th>\n",
       "      <th>OPEID</th>\n",
       "      <th>InstitutionType</th>\n",
       "      <th>Address</th>\n",
       "      <th>City</th>\n",
       "      <th>State</th>\n",
       "      <th>HasHistory</th>\n",
       "    </tr>\n",
       "  </thead>\n",
       "  <tbody>\n",
       "    <tr>\n",
       "      <td>39</td>\n",
       "      <td>Central Washington University</td>\n",
       "      <td>148496</td>\n",
       "      <td>0</td>\n",
       "      <td>377100</td>\n",
       "      <td>Institution</td>\n",
       "      <td>400 East University Way</td>\n",
       "      <td>Ellensburg</td>\n",
       "      <td>WA</td>\n",
       "      <td>False</td>\n",
       "    </tr>\n",
       "    <tr>\n",
       "      <td>63</td>\n",
       "      <td>Eastern Washington University</td>\n",
       "      <td>148593</td>\n",
       "      <td>0</td>\n",
       "      <td>377500</td>\n",
       "      <td>Institution</td>\n",
       "      <td>526 5th Street</td>\n",
       "      <td>Cheney</td>\n",
       "      <td>WA</td>\n",
       "      <td>False</td>\n",
       "    </tr>\n",
       "    <tr>\n",
       "      <td>115</td>\n",
       "      <td>Kaiser Permanente Washington Residency in Prim...</td>\n",
       "      <td>216782</td>\n",
       "      <td>0</td>\n",
       "      <td>NaN</td>\n",
       "      <td>Site</td>\n",
       "      <td>5821 S. Sprague Court</td>\n",
       "      <td>Tacoma</td>\n",
       "      <td>WA</td>\n",
       "      <td>True</td>\n",
       "    </tr>\n",
       "    <tr>\n",
       "      <td>120</td>\n",
       "      <td>Lake Washington Institute of Technology</td>\n",
       "      <td>148803</td>\n",
       "      <td>0</td>\n",
       "      <td>537300</td>\n",
       "      <td>Institution</td>\n",
       "      <td>11605 132nd Avenue NE</td>\n",
       "      <td>Kirkland</td>\n",
       "      <td>WA</td>\n",
       "      <td>True</td>\n",
       "    </tr>\n",
       "    <tr>\n",
       "      <td>130</td>\n",
       "      <td>Montessori Center for Teacher Education - Wash...</td>\n",
       "      <td>216436</td>\n",
       "      <td>0</td>\n",
       "      <td>NaN</td>\n",
       "      <td>Institution</td>\n",
       "      <td>10723 NE 38th Place</td>\n",
       "      <td>Bellevue</td>\n",
       "      <td>WA</td>\n",
       "      <td>False</td>\n",
       "    </tr>\n",
       "    <tr>\n",
       "      <td>136</td>\n",
       "      <td>Montessori Schools of Washington</td>\n",
       "      <td>165699</td>\n",
       "      <td>0</td>\n",
       "      <td>NaN</td>\n",
       "      <td>Institution</td>\n",
       "      <td>1804 Puget Dr.</td>\n",
       "      <td>Everett</td>\n",
       "      <td>WA</td>\n",
       "      <td>False</td>\n",
       "    </tr>\n",
       "    <tr>\n",
       "      <td>138</td>\n",
       "      <td>Montessori Teacher Preparation of Washington</td>\n",
       "      <td>178970</td>\n",
       "      <td>0</td>\n",
       "      <td>NaN</td>\n",
       "      <td>Institution</td>\n",
       "      <td>318 3rd Avenue South</td>\n",
       "      <td>Kent</td>\n",
       "      <td>WA</td>\n",
       "      <td>False</td>\n",
       "    </tr>\n",
       "    <tr>\n",
       "      <td>220</td>\n",
       "      <td>University of Washington</td>\n",
       "      <td>149143</td>\n",
       "      <td>0</td>\n",
       "      <td>379800</td>\n",
       "      <td>Institution</td>\n",
       "      <td>P.O. Box 351230</td>\n",
       "      <td>Seattle</td>\n",
       "      <td>WA</td>\n",
       "      <td>False</td>\n",
       "    </tr>\n",
       "    <tr>\n",
       "      <td>228</td>\n",
       "      <td>Washington State University</td>\n",
       "      <td>149134</td>\n",
       "      <td>0</td>\n",
       "      <td>380000</td>\n",
       "      <td>Institution</td>\n",
       "      <td>French Administration Building</td>\n",
       "      <td>Pullman</td>\n",
       "      <td>WA</td>\n",
       "      <td>False</td>\n",
       "    </tr>\n",
       "    <tr>\n",
       "      <td>229</td>\n",
       "      <td>Washington State University-Spokane</td>\n",
       "      <td>238829</td>\n",
       "      <td>0</td>\n",
       "      <td>NaN</td>\n",
       "      <td>Site</td>\n",
       "      <td>310 N. Riverpoint Blvd_ P.O Box 1495</td>\n",
       "      <td>Spokane</td>\n",
       "      <td>WA</td>\n",
       "      <td>False</td>\n",
       "    </tr>\n",
       "    <tr>\n",
       "      <td>233</td>\n",
       "      <td>Western Washington University</td>\n",
       "      <td>149170</td>\n",
       "      <td>0</td>\n",
       "      <td>380200</td>\n",
       "      <td>Institution</td>\n",
       "      <td>516 High St</td>\n",
       "      <td>Bellingham</td>\n",
       "      <td>WA</td>\n",
       "      <td>False</td>\n",
       "    </tr>\n",
       "  </tbody>\n",
       "</table>\n",
       "</div>"
      ],
      "text/plain": [
       "                                       InstitutionName  UnitID  ParentID  \\\n",
       "39                       Central Washington University  148496         0   \n",
       "63                       Eastern Washington University  148593         0   \n",
       "115  Kaiser Permanente Washington Residency in Prim...  216782         0   \n",
       "120            Lake Washington Institute of Technology  148803         0   \n",
       "130  Montessori Center for Teacher Education - Wash...  216436         0   \n",
       "136                   Montessori Schools of Washington  165699         0   \n",
       "138       Montessori Teacher Preparation of Washington  178970         0   \n",
       "220                           University of Washington  149143         0   \n",
       "228                        Washington State University  149134         0   \n",
       "229                Washington State University-Spokane  238829         0   \n",
       "233                      Western Washington University  149170         0   \n",
       "\n",
       "      OPEID InstitutionType                               Address        City  \\\n",
       "39   377100     Institution               400 East University Way  Ellensburg   \n",
       "63   377500     Institution                        526 5th Street      Cheney   \n",
       "115     NaN            Site                 5821 S. Sprague Court      Tacoma   \n",
       "120  537300     Institution                 11605 132nd Avenue NE    Kirkland   \n",
       "130     NaN     Institution                   10723 NE 38th Place    Bellevue   \n",
       "136     NaN     Institution                        1804 Puget Dr.     Everett   \n",
       "138     NaN     Institution                  318 3rd Avenue South        Kent   \n",
       "220  379800     Institution                       P.O. Box 351230     Seattle   \n",
       "228  380000     Institution        French Administration Building     Pullman   \n",
       "229     NaN            Site  310 N. Riverpoint Blvd_ P.O Box 1495     Spokane   \n",
       "233  380200     Institution                           516 High St  Bellingham   \n",
       "\n",
       "    State  HasHistory  \n",
       "39     WA       False  \n",
       "63     WA       False  \n",
       "115    WA        True  \n",
       "120    WA        True  \n",
       "130    WA       False  \n",
       "136    WA       False  \n",
       "138    WA       False  \n",
       "220    WA       False  \n",
       "228    WA       False  \n",
       "229    WA       False  \n",
       "233    WA       False  "
      ]
     },
     "execution_count": 4,
     "metadata": {},
     "output_type": "execute_result"
    }
   ],
   "source": [
    "#3:  \n",
    "import pandas as pd\n",
    "df_coll=pd.read_csv('/Users/panyueli/HW/Zilin/WAColleges.csv')\n",
    " \n",
    "def get_universitylist(df_coll, namelike, state='WA'):\n",
    "    return df_coll[(df_coll['InstitutionName'].str.contains(namelike)) & (df_coll['State']==state)]\n",
    "\n",
    "get_universitylist(df_coll, namelike='Washington')"
   ]
  },
  {
   "cell_type": "code",
   "execution_count": 5,
   "metadata": {},
   "outputs": [
    {
     "name": "stdout",
     "output_type": "stream",
     "text": [
      "(2344.3333333333335, 3)\n"
     ]
    },
    {
     "data": {
      "text/plain": [
       "2.9166666666666665"
      ]
     },
     "execution_count": 5,
     "metadata": {},
     "output_type": "execute_result"
    }
   ],
   "source": [
    "import numpy\n",
    "def Calory(**data): \n",
    "    total=0\n",
    "    student=0\n",
    "    for students, calories in data.items(): \n",
    "        total += calories\n",
    "        student +=1\n",
    "    return total/student, student\n",
    "\n",
    "print(Calory(Zilin=3000, Wilson = 4000, MrMa = 33))\n",
    "\n",
    "a, b=Calory(Zilin=3000, Wilson = 4000, MrMa = 33)\n",
    "\n",
    "    \n",
    "num = [1,2,3,4,5,6]    \n",
    "sum(num)\n",
    "numpy.var(num)\n",
    "    \n",
    "\n",
    "\n"
   ]
  },
  {
   "cell_type": "code",
   "execution_count": 6,
   "metadata": {
    "ExecuteTime": {
     "end_time": "2019-12-22T15:45:09.936929Z",
     "start_time": "2019-12-22T15:45:09.931936Z"
    }
   },
   "outputs": [
    {
     "data": {
      "text/plain": [
       "3.3333333333333335"
      ]
     },
     "execution_count": 6,
     "metadata": {},
     "output_type": "execute_result"
    }
   ],
   "source": [
    "#4\n",
    "def avg_gpa(*reportcards):\n",
    "    n=len(reportcards)\n",
    "    total=0.0\n",
    "    for sub in reportcards:\n",
    "        total+=sub\n",
    "    return total/n if n>0 else 1\n",
    "\n",
    "avg_gpa(4,4,4,3,2,3)\n",
    "\n"
   ]
  },
  {
   "cell_type": "code",
   "execution_count": 7,
   "metadata": {
    "ExecuteTime": {
     "end_time": "2019-12-22T15:50:01.130980Z",
     "start_time": "2019-12-22T15:50:01.126978Z"
    }
   },
   "outputs": [
    {
     "name": "stdout",
     "output_type": "stream",
     "text": [
      "3.8050\n"
     ]
    }
   ],
   "source": [
    "#5\n",
    "\n",
    "def school_pga(**data): \n",
    "    total=0.0000\n",
    "    keys=0.0000\n",
    "    for key, value in data.items(): \n",
    "        total += value\n",
    "        keys +=1\n",
    "    return '{0:.4f}'.format(total/keys)\n",
    "print(school_pga(Zilin=3.95, Wilson = 3.66))"
   ]
  },
  {
   "cell_type": "markdown",
   "metadata": {},
   "source": [
    "# Object Oriented Programming: Define Classes"
   ]
  },
  {
   "cell_type": "markdown",
   "metadata": {},
   "source": []
  },
  {
   "cell_type": "code",
   "execution_count": 8,
   "metadata": {
    "ExecuteTime": {
     "end_time": "2019-12-23T17:49:52.020337Z",
     "start_time": "2019-12-23T17:49:52.010342Z"
    }
   },
   "outputs": [
    {
     "name": "stdout",
     "output_type": "stream",
     "text": [
      "College: Stanford avg gpa requirement is 3.0\n",
      "College: UW avg gpa requirement is 4.0\n"
     ]
    },
    {
     "data": {
      "text/plain": [
       "4.0"
      ]
     },
     "execution_count": 8,
     "metadata": {},
     "output_type": "execute_result"
    }
   ],
   "source": [
    "class Describe_College(object):    \n",
    "    def __init__(self,col_name, avg_gpa, avg_act, avg_sat, addr): \n",
    "        self.col_name=col_name\n",
    "        self.avg_gpa=avg_gpa\n",
    "        self.avg_act=avg_act\n",
    "        self.avg_sat=avg_sat\n",
    "        self.addr=addr \n",
    "    def basic_info(self):\n",
    "        print(\"College: {} avg gpa requirement is {}\".format(self.col_name,self.avg_gpa))\n",
    "\n",
    "    def get_avggpa(self):\n",
    "        return self.avg_gpa\n",
    "\n",
    "c=Describe_College('Stanford', 3.0, 33.0, 1500, 'CA')\n",
    "c.basic_info()\n",
    "c.get_avggpa()\n",
    "\n",
    "\n",
    "b=Describe_College('UW', 4.0, 36.0, 1600, 'WA')\n",
    "b.basic_info()\n",
    "b.get_avggpa()\n"
   ]
  },
  {
   "cell_type": "code",
   "execution_count": 17,
   "metadata": {
    "ExecuteTime": {
     "end_time": "2019-12-23T17:35:19.331618Z",
     "start_time": "2019-12-23T17:35:19.327659Z"
    }
   },
   "outputs": [],
   "source": [
    "import requests\n",
    "from bs4 import BeautifulSoup\n",
    "import re\n",
    "from urllib.parse import urlparse\n",
    "from bs4.element import Comment \n",
    "import urllib.request\n",
    "import sys\n",
    "import os\n",
    "from os import path\n",
    "from datetime import datetime\n",
    "import csv\n",
    "\n",
    "\n",
    "class CollegeCrawl(object):\n",
    "    gap_Insecond=5\n",
    "    max_Pages=150\n",
    "    allUrls=[]\n",
    "    visitedUrls=[]\n",
    "    rejectedUrls=[]\n",
    "    n_allUrls=0\n",
    "    n_sitedUrls=0\n",
    "    n_rejectedUrls=0\n",
    "    \n",
    "    \"\"\"\n",
    "        collegename: name\n",
    "        rooturl: www.university.edu\n",
    "        prioritykeywords: ['apply','adimission'...] etc. if None then everth page \n",
    "        respectrobottxt: True\n",
    "    \"\"\"\n",
    "    def __init__(self,_collegename, _rooturl, _prioritykeywords, _respectrobottxt=True):\n",
    "        self.college=_collegename\n",
    "        self.rootUrl=_rooturl\n",
    "        self.priorityKeywords=_prioritykeywords\n",
    "        self.respectRobottext=_respectrobottxt\n",
    "\n",
    "    \"\"\"\n",
    "        get all urls starting from rootUrl\n",
    "    \"\"\"\n",
    "    def get_pagetext(self, body):\n",
    "        soup = BeautifulSoup(body.text, 'html.parser')\n",
    "        texts = soup.findAll(text=True) \n",
    "        visible_texts = filter(self.tag_visible, texts) \n",
    "        \n",
    "        return [ [t.parent.name,   \n",
    "             t.parent.previousSibling.name if t.parent.previousSibling!=None else None, \n",
    "             t.nextSibling.name if t.nextSibling!=None else None,\n",
    "             re.sub(r'[\\s+\\t]',' ',t) ]  for t in visible_texts if len(t.strip())>2] \n",
    "\n",
    "\n",
    "    def tag_visible(self,element):\n",
    "        if element.parent.name in ['style', 'script', 'head', 'title', 'meta', '[document]']:\n",
    "            return False\n",
    "        if isinstance(element, Comment):\n",
    "            return False\n",
    "        return True \n",
    "    \n",
    "    def GetAllUrls(self):\n",
    "        response = requests.get(self.rootUrl, headers={'User-Agent':'Mozilla/5.0'})\n",
    "        unique_urls={self.rootUrl}\n",
    "        visited_urls=set()\n",
    "        unables=set()\n",
    "        while len(unique_urls)>len(visited_urls):\n",
    "            soup=BeautifulSoup(response.text, 'html.parser')\n",
    "            for link in soup.find_all('a'):\n",
    "                try:\n",
    "                    url=link['href']                \n",
    "                    parsed_uri = urlparse(url )\n",
    "                    if parsed_uri.netloc=='':\n",
    "                        absolute_url=base_url+url    \n",
    "                    elif parsed_uri.netloc==base_domain:\n",
    "                        absolute_url=url\n",
    "                    else:\n",
    "                        continue\n",
    "                        #netname = '{uri.scheme}://{uri.netloc}/'.format(uri=parsed_uri) \n",
    "                    clean=re.sub(r'[_+!@#$?\\\\\\s]+$', '', absolute_url)\n",
    "                    clean=''.join(clean[0:10])+(''.join(clean[11:])).replace('//', '/')\n",
    "                    clean=re.sub(r'[/\\s]$','', clean)\n",
    "                    unique_urls.add(clean)\n",
    "                    #unique_urls.add(re.sub(r'[_+!@#$?\\\\/^\\s]+$', '', absolute_url))                  \n",
    "                except:\n",
    "                    continue            \n",
    "            unvisited_url=(unique_urls-visited_urls-unables).pop()\n",
    "            visited_urls.add(unvisited_url)\n",
    "            response=requests.get(unvisited_url, headers={'User-Agent':'Mozilla/5.0'})\n",
    "            if links_only!=True and response.status_code=='200': #use a different routine to get text data from resonse. \n",
    "                handleOnePage(unvisited_url)\n",
    "            else:\n",
    "                unables.add(unvisited_url)  \n",
    "        return unique_urls\n",
    "    \n",
    "    \"\"\"\n",
    "        read one page\n",
    "    \"\"\"\n",
    "    def read_oneurl(self, url):  \n",
    "        response=requests.get(url)  \n",
    "        if response.status_code==200: \n",
    "             return self.get_pagetext(response)\n",
    "        else: \n",
    "            return [[None, None, None, None]]\n",
    "        \n",
    "    \"\"\"\n",
    "        Save One Page\n",
    "    \"\"\"\n",
    "    def Save_OnePage(self, url, format='csv', folder=None, filename=None):\n",
    "            url=url.strip()\n",
    "            content=self.read_oneurl(url) #in format of (a,a,a,a)\n",
    "\n",
    "            if folder==None:\n",
    "                folder=os.getcwd()\n",
    "            if path.isdir(folder)==False:\n",
    "                print('folder doesnot exist')\n",
    "\n",
    "            if filename==None:\n",
    "                filename=url.replace('.', '_dot_').replace('/', '_').replace(':', '_')+'_'+datetime.now().strftime(\"%m_%d_%Y_%H_%M_%S\")+'.csv'\n",
    "\n",
    "            fullname=path.join(folder, filename)\n",
    "            with open(fullname, 'w', newline='') as csvfile:\n",
    "                writer = csv.writer(csvfile, delimiter='\\t', quoting=csv.QUOTE_MINIMAL)\n",
    "                writer.writerow(['url', 'parent', 'ps', 'ns', 'text'])\n",
    "                for lll in content: \n",
    "                    lll.insert(0, url)\n",
    "                    writer.writerow(lll)  \n",
    "            return fullname   \n",
    "        \n",
    "    def getUrl():\n",
    "        return base_url\n",
    "    \"\"\"\n",
    "        Save summaries\n",
    "    \"\"\"\n",
    "    def Save_Summaries(self):\n",
    "        pass\n",
    "     "
   ]
  },
  {
   "cell_type": "code",
   "execution_count": 18,
   "metadata": {
    "ExecuteTime": {
     "end_time": "2019-12-23T17:50:05.327563Z",
     "start_time": "2019-12-23T17:50:05.322599Z"
    }
   },
   "outputs": [],
   "source": [
    "#isinstance(c,Describe_College)\n",
    "#id()"
   ]
  },
  {
   "cell_type": "code",
   "execution_count": 19,
   "metadata": {},
   "outputs": [
    {
     "name": "stdout",
     "output_type": "stream",
     "text": [
      "4867948976\n",
      "4867948976\n"
     ]
    }
   ],
   "source": [
    "name = 'zilin'\n",
    "print(id(name))\n",
    "name.capitalize\n",
    "print(id(name))"
   ]
  },
  {
   "cell_type": "code",
   "execution_count": null,
   "metadata": {},
   "outputs": [],
   "source": []
  },
  {
   "cell_type": "code",
   "execution_count": null,
   "metadata": {},
   "outputs": [],
   "source": []
  },
  {
   "cell_type": "code",
   "execution_count": null,
   "metadata": {},
   "outputs": [],
   "source": []
  },
  {
   "cell_type": "code",
   "execution_count": null,
   "metadata": {},
   "outputs": [],
   "source": []
  },
  {
   "cell_type": "code",
   "execution_count": null,
   "metadata": {},
   "outputs": [],
   "source": []
  },
  {
   "cell_type": "code",
   "execution_count": 20,
   "metadata": {},
   "outputs": [
    {
     "ename": "AttributeError",
     "evalue": "'CollegeCrawl' object has no attribute 'links_only'",
     "output_type": "error",
     "traceback": [
      "\u001b[0;31m---------------------------------------------------------------------------\u001b[0m",
      "\u001b[0;31mAttributeError\u001b[0m                            Traceback (most recent call last)",
      "\u001b[0;32m<ipython-input-20-36ead84691e7>\u001b[0m in \u001b[0;36m<module>\u001b[0;34m\u001b[0m\n\u001b[1;32m      4\u001b[0m \u001b[0;32mfor\u001b[0m \u001b[0mcollege\u001b[0m \u001b[0;32min\u001b[0m \u001b[0mrange\u001b[0m\u001b[0;34m(\u001b[0m\u001b[0mlen\u001b[0m\u001b[0;34m(\u001b[0m\u001b[0mlist1\u001b[0m\u001b[0;34m)\u001b[0m\u001b[0;34m)\u001b[0m\u001b[0;34m:\u001b[0m\u001b[0;34m\u001b[0m\u001b[0;34m\u001b[0m\u001b[0m\n\u001b[1;32m      5\u001b[0m     \u001b[0mb\u001b[0m\u001b[0;34m=\u001b[0m\u001b[0mCollegeCrawl\u001b[0m\u001b[0;34m(\u001b[0m\u001b[0mlist1\u001b[0m\u001b[0;34m[\u001b[0m\u001b[0mcollege\u001b[0m\u001b[0;34m]\u001b[0m\u001b[0;34m,\u001b[0m \u001b[0mlist2\u001b[0m\u001b[0;34m[\u001b[0m\u001b[0mcollege\u001b[0m\u001b[0;34m]\u001b[0m\u001b[0;34m,\u001b[0m \u001b[0;34m[\u001b[0m\u001b[0;34m'Education'\u001b[0m\u001b[0;34m,\u001b[0m \u001b[0;34m'Research'\u001b[0m\u001b[0;34m]\u001b[0m\u001b[0;34m)\u001b[0m\u001b[0;34m\u001b[0m\u001b[0;34m\u001b[0m\u001b[0m\n\u001b[0;32m----> 6\u001b[0;31m     \u001b[0mc\u001b[0m\u001b[0;34m=\u001b[0m\u001b[0mb\u001b[0m\u001b[0;34m.\u001b[0m\u001b[0mGetAllUrls\u001b[0m\u001b[0;34m(\u001b[0m\u001b[0;34m)\u001b[0m\u001b[0;34m\u001b[0m\u001b[0;34m\u001b[0m\u001b[0m\n\u001b[0m\u001b[1;32m      7\u001b[0m     \u001b[0;32mfor\u001b[0m \u001b[0murl\u001b[0m \u001b[0;32min\u001b[0m \u001b[0mlist\u001b[0m\u001b[0;34m(\u001b[0m\u001b[0mc\u001b[0m\u001b[0;34m[\u001b[0m\u001b[0;36m1\u001b[0m\u001b[0;34m]\u001b[0m\u001b[0;34m)\u001b[0m\u001b[0;34m:\u001b[0m\u001b[0;34m\u001b[0m\u001b[0;34m\u001b[0m\u001b[0m\n\u001b[1;32m      8\u001b[0m         \u001b[0mb\u001b[0m\u001b[0;34m.\u001b[0m\u001b[0mSave_OnePage\u001b[0m\u001b[0;34m(\u001b[0m\u001b[0murl\u001b[0m\u001b[0;34m)\u001b[0m\u001b[0;34m\u001b[0m\u001b[0;34m\u001b[0m\u001b[0m\n",
      "\u001b[0;32m<ipython-input-17-e1ce3db2266d>\u001b[0m in \u001b[0;36mGetAllUrls\u001b[0;34m(self)\u001b[0m\n\u001b[1;32m     83\u001b[0m             \u001b[0mvisited_urls\u001b[0m\u001b[0;34m.\u001b[0m\u001b[0madd\u001b[0m\u001b[0;34m(\u001b[0m\u001b[0munvisited_url\u001b[0m\u001b[0;34m)\u001b[0m\u001b[0;34m\u001b[0m\u001b[0;34m\u001b[0m\u001b[0m\n\u001b[1;32m     84\u001b[0m             \u001b[0mresponse\u001b[0m\u001b[0;34m=\u001b[0m\u001b[0mrequests\u001b[0m\u001b[0;34m.\u001b[0m\u001b[0mget\u001b[0m\u001b[0;34m(\u001b[0m\u001b[0munvisited_url\u001b[0m\u001b[0;34m,\u001b[0m \u001b[0mheaders\u001b[0m\u001b[0;34m=\u001b[0m\u001b[0;34m{\u001b[0m\u001b[0;34m'User-Agent'\u001b[0m\u001b[0;34m:\u001b[0m\u001b[0;34m'Mozilla/5.0'\u001b[0m\u001b[0;34m}\u001b[0m\u001b[0;34m)\u001b[0m\u001b[0;34m\u001b[0m\u001b[0;34m\u001b[0m\u001b[0m\n\u001b[0;32m---> 85\u001b[0;31m             \u001b[0;32mif\u001b[0m \u001b[0mself\u001b[0m\u001b[0;34m.\u001b[0m\u001b[0mlinks_only\u001b[0m\u001b[0;34m!=\u001b[0m\u001b[0;32mTrue\u001b[0m \u001b[0;32mand\u001b[0m \u001b[0mresponse\u001b[0m\u001b[0;34m.\u001b[0m\u001b[0mstatus_code\u001b[0m\u001b[0;34m==\u001b[0m\u001b[0;34m'200'\u001b[0m\u001b[0;34m:\u001b[0m \u001b[0;31m#use a different routine to get text data from resonse.\u001b[0m\u001b[0;34m\u001b[0m\u001b[0;34m\u001b[0m\u001b[0m\n\u001b[0m\u001b[1;32m     86\u001b[0m                 \u001b[0mhandleOnePage\u001b[0m\u001b[0;34m(\u001b[0m\u001b[0munvisited_url\u001b[0m\u001b[0;34m)\u001b[0m\u001b[0;34m\u001b[0m\u001b[0;34m\u001b[0m\u001b[0m\n\u001b[1;32m     87\u001b[0m             \u001b[0;32melse\u001b[0m\u001b[0;34m:\u001b[0m\u001b[0;34m\u001b[0m\u001b[0;34m\u001b[0m\u001b[0m\n",
      "\u001b[0;31mAttributeError\u001b[0m: 'CollegeCrawl' object has no attribute 'links_only'"
     ]
    }
   ],
   "source": [
    "list1 = ['MIT', 'UW', 'Wellesley', 'UCLA']\n",
    "list2 = ['http://www.mit.edu/', 'https://www.washington.edu/', 'https://www.wellesley.edu/', 'http://www.ucla.edu/']\n",
    "\n",
    "for college in range(len(list1)):\n",
    "    b=CollegeCrawl(list1[college], list2[college], ['Education', 'Research'])\n",
    "    c=b.GetAllUrls()\n",
    "    for url in list(c[1]):\n",
    "        b.Save_OnePage(url)\n"
   ]
  },
  {
   "cell_type": "code",
   "execution_count": null,
   "metadata": {},
   "outputs": [],
   "source": []
  },
  {
   "cell_type": "code",
   "execution_count": null,
   "metadata": {},
   "outputs": [],
   "source": [
    "import requests\n",
    "help(filter)\n"
   ]
  },
  {
   "cell_type": "code",
   "execution_count": null,
   "metadata": {},
   "outputs": [],
   "source": []
  },
  {
   "cell_type": "code",
   "execution_count": null,
   "metadata": {},
   "outputs": [],
   "source": []
  },
  {
   "cell_type": "code",
   "execution_count": null,
   "metadata": {},
   "outputs": [],
   "source": []
  },
  {
   "cell_type": "code",
   "execution_count": null,
   "metadata": {},
   "outputs": [],
   "source": []
  },
  {
   "cell_type": "code",
   "execution_count": null,
   "metadata": {},
   "outputs": [],
   "source": []
  }
 ],
 "metadata": {
  "kernelspec": {
   "display_name": "Python 3",
   "language": "python",
   "name": "python3"
  },
  "language_info": {
   "codemirror_mode": {
    "name": "ipython",
    "version": 3
   },
   "file_extension": ".py",
   "mimetype": "text/x-python",
   "name": "python",
   "nbconvert_exporter": "python",
   "pygments_lexer": "ipython3",
   "version": "3.7.4"
  },
  "toc": {
   "base_numbering": 1,
   "nav_menu": {},
   "number_sections": true,
   "sideBar": true,
   "skip_h1_title": false,
   "title_cell": "Table of Contents",
   "title_sidebar": "Contents",
   "toc_cell": false,
   "toc_position": {
    "height": "calc(100% - 180px)",
    "left": "10px",
    "top": "150px",
    "width": "165px"
   },
   "toc_section_display": true,
   "toc_window_display": true
  }
 },
 "nbformat": 4,
 "nbformat_minor": 2
}
