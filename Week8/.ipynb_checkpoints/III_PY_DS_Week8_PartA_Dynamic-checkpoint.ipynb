{
 "cells": [
  {
   "cell_type": "code",
   "execution_count": 50,
   "metadata": {
    "ExecuteTime": {
     "end_time": "2020-02-02T17:17:04.520700Z",
     "start_time": "2020-02-02T17:17:04.515699Z"
    }
   },
   "outputs": [],
   "source": [
    "from IPython.display import display, Markdown\n",
    "import pandas as pd\n",
    "import numpy as np\n",
    "import sys\n",
    "from os import path, listdir\n",
    "import warnings \n",
    "import warnings\n",
    "warnings.simplefilter(\"ignore\")"
   ]
  },
  {
   "cell_type": "code",
   "execution_count": 56,
   "metadata": {
    "ExecuteTime": {
     "end_time": "2020-02-02T17:22:43.394510Z",
     "start_time": "2020-02-02T17:22:43.390501Z"
    }
   },
   "outputs": [
    {
     "data": {
      "text/markdown": [
       "\n",
       "# Fetch Dynamic Page\n",
       "<font size=4 color='red'><b>Please don't try with US News Compass before we piece together our models</b></font>\n",
       "<br> \n",
       "## To access search result, you will need to login to US News Compass\n"
      ],
      "text/plain": [
       "<IPython.core.display.Markdown object>"
      ]
     },
     "metadata": {},
     "output_type": "display_data"
    }
   ],
   "source": [
    "display(Markdown(\n",
    "\"\"\"\n",
    "# Fetch Dynamic Page\n",
    "<font size=4 color='red'><b>Please don't try with US News Compass before we piece together our models</b></font>\n",
    "<br> \n",
    "## To access search result, you will need to login to US News Compass\n",
    "\"\"\"\n",
    "))"
   ]
  },
  {
   "cell_type": "code",
   "execution_count": 79,
   "metadata": {
    "ExecuteTime": {
     "end_time": "2020-02-02T17:44:50.778355Z",
     "start_time": "2020-02-02T17:44:50.765364Z"
    }
   },
   "outputs": [
    {
     "data": {
      "text/plain": [
       "'\\nnews=USNewsCompass()\\nnews.CreatAuthenticatedSession()\\n'"
      ]
     },
     "execution_count": 79,
     "metadata": {},
     "output_type": "execute_result"
    }
   ],
   "source": [
    "import requests\n",
    "from lxml import html\n",
    "import getpass\n",
    "\n",
    "\n",
    "class USNewsCompass():\n",
    "    def __init__(self, username = \"admin@stempro.org\", loginUrl=\"https://secure.usnews.com/member/login\", \n",
    "                destinationUrl=[\"https://premium.usnews.com/best-colleges/search\",], \n",
    "                reallyWantToTry=False):\n",
    "        self.UserName=username\n",
    "        self.Password=getpass.getpass()\n",
    "        self.LOGIN_URL =loginUrl\n",
    "        self.urls =destinationUrl\n",
    "        self.toProceed=reallyWantToTry\n",
    "\n",
    "    def CreatAuthenticatedSession(self):\n",
    "        if self.toProceed==False:\n",
    "            display((Markdown(\"### <font color='orange'> Try other sites </font>\")))\n",
    "            print('Hold-on for now. We will do this in a few weeks.')\n",
    "            return\n",
    "        session_requests = requests.session()\n",
    "         \n",
    "        result = session_requests.get(self.LOGIN_URL)\n",
    "        tree = html.fromstring(result.text)\n",
    "        #may embed hidden token. Looks not the case for now. \n",
    "        #authenticity_token = list(set(tree.xpath(\"//input[@name='csrfmiddlewaretoken']/@value\")))[0]\n",
    "\n",
    "        # Create payload\n",
    "        payload = {\n",
    "            \"username\": USERNAME, \n",
    "            \"password\": PASSWORD, \n",
    "            #\"csrfmiddlewaretoken\": authenticity_token\n",
    "        }\n",
    "\n",
    "        # Perform login\n",
    "        result = session_requests.post(self.LOGIN_URL, data = payload, headers = dict(referer = self.LOGIN_URL))\n",
    "\n",
    "        # Scrape urls\n",
    "        if isinstance(self.urls, list) ==True and len(self.urls)>0:\n",
    "            for url in self.urls:\n",
    "                result = session_requests.get(url, headers = dict(referer = url))\n",
    "                print(result.status_code)\n",
    "\"\"\"\n",
    "news=USNewsCompass()\n",
    "news.CreatAuthenticatedSession()\n",
    "\"\"\""
   ]
  },
  {
   "cell_type": "code",
   "execution_count": 80,
   "metadata": {
    "ExecuteTime": {
     "end_time": "2020-02-02T17:45:00.396330Z",
     "start_time": "2020-02-02T17:45:00.392333Z"
    }
   },
   "outputs": [
    {
     "data": {
      "text/markdown": [
       "\n",
       "# Handle sites with dynamic loading\n",
       "## selenium and chrome driver\n"
      ],
      "text/plain": [
       "<IPython.core.display.Markdown object>"
      ]
     },
     "metadata": {},
     "output_type": "display_data"
    }
   ],
   "source": [
    "display(Markdown(\n",
    "\"\"\"\n",
    "# Handle sites with dynamic loading\n",
    "## selenium and chrome driver\n",
    "\"\"\"))"
   ]
  },
  {
   "cell_type": "code",
   "execution_count": 100,
   "metadata": {
    "ExecuteTime": {
     "end_time": "2020-02-02T18:18:33.602872Z",
     "start_time": "2020-02-02T18:18:33.586882Z"
    }
   },
   "outputs": [],
   "source": [
    "import time\n",
    "from selenium import webdriver\n",
    "from selenium.webdriver.chrome.options import Options\n",
    "from selenium.webdriver.common.action_chains import ActionChains\n",
    "from selenium.webdriver.common.keys import Keys\n",
    "#https://sites.google.com/a/chromium.org/chromedriver/downloads\n",
    "\n",
    "class CrawlDynamicpages():\n",
    "    def __init__(self, parentUrls= ['https://www.reddit.com/r/coronationstreet/',], \n",
    "                chromePath='C:\\\\Coding\\\\utility_git\\\\chromedriver_win32\\\\chromedriver.exe', maxUrls=2):\n",
    "        self.parentUrls=parentUrls\n",
    "        self.chromePath=chromePath\n",
    "        self.maxUrls=maxUrls\n",
    "    def FetchContent(self, sleepTimeSeconds=5): \n",
    "        chrome_options = webdriver.ChromeOptions()\n",
    "        chrome_options.add_argument(\"--disable-notifications\")\n",
    "        resultlist=[]\n",
    "        if isinstance(self.parentUrls, str)==True:\n",
    "            self.parentUrls=[self.parentUrls]\n",
    "            \n",
    "        if isinstance(self.parentUrls, list)==True and len(self.parentUrls)>0:\n",
    "            clickCount=0\n",
    "            for link in self.parentUrls: \n",
    "                driver = webdriver.Chrome(chromepath, chrome_options=chrome_options) \n",
    "                driver.get(link)\n",
    "                actions = ActionChains(driver)\n",
    "                while self.maxUrls==-1 or clickCount<self.maxUrls: \n",
    "                    actions.send_keys(Keys.SPACE).perform()\n",
    "                    time.sleep(sleepTimeSeconds)                    \n",
    "                    clickCount+=1  \n",
    "                    for item in driver.find_elements_by_css_selector(\".h4\"):\n",
    "                        resultlist.append([item.text])\n",
    "                driver.quit()\n",
    "        \n",
    "        dfResult=pd.DataFrame(resultlist, columns=['Content'])\n",
    "        return dfResult\n",
    "    \"\"\"\n",
    "    dn=CrawlDynamicpages()\n",
    "    dn.FetchContent()\n",
    "    \"\"\""
   ]
  },
  {
   "cell_type": "code",
   "execution_count": null,
   "metadata": {
    "ExecuteTime": {
     "end_time": "2020-02-02T05:21:40.736090Z",
     "start_time": "2020-02-02T05:21:32.636882Z"
    }
   },
   "outputs": [],
   "source": [
    " "
   ]
  }
 ],
 "metadata": {
  "kernelspec": {
   "display_name": "Python 3",
   "language": "python",
   "name": "python3"
  },
  "language_info": {
   "codemirror_mode": {
    "name": "ipython",
    "version": 3
   },
   "file_extension": ".py",
   "mimetype": "text/x-python",
   "name": "python",
   "nbconvert_exporter": "python",
   "pygments_lexer": "ipython3",
   "version": "3.7.4"
  },
  "toc": {
   "base_numbering": 1,
   "nav_menu": {},
   "number_sections": true,
   "sideBar": true,
   "skip_h1_title": false,
   "title_cell": "Table of Contents",
   "title_sidebar": "Contents",
   "toc_cell": false,
   "toc_position": {
    "height": "calc(100% - 180px)",
    "left": "10px",
    "top": "150px",
    "width": "165px"
   },
   "toc_section_display": true,
   "toc_window_display": true
  }
 },
 "nbformat": 4,
 "nbformat_minor": 2
}
