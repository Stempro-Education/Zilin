{
 "cells": [
  {
   "cell_type": "markdown",
   "metadata": {},
   "source": [
    "# Tree\n",
    "\n",
    "<b>What is tree?</b>\n",
    "Root, branches, leaves, top -> down\n",
    "\n",
    "File system is a tree\n",
    "<img src=\"imgs/unix.png\">\n",
    "\n",
    "some simple tree with integer values\n",
    "<img src=\"imgs/tree1.png\">\n",
    "\n",
    "\n",
    "Tree is everywhere.\n",
    "<img src=\"imgs/html.png\">\n"
   ]
  },
  {
   "cell_type": "markdown",
   "metadata": {},
   "source": [
    "## Vocabulary\n",
    "\n",
    "1. Node\n",
    "2. Edge\n",
    "3. Root\n",
    "4. Path\n",
    "5. Children\n",
    "6. Parent\n",
    "7. Sibling\n",
    "8. Subtree\n",
    "9. Leaf Node\n",
    "10. Level\n",
    "11. Height"
   ]
  },
  {
   "cell_type": "markdown",
   "metadata": {},
   "source": [
    "## Definitions\n",
    "\n",
    "What is a tree? Formal definition\n",
    "\n",
    "Consists a set of nodes and a set of edge which connect pairs of nodes: root, parent->child, root->node unique path\n",
    "    \n",
    "Recursive define (think about 3 laws): \n",
    "    1. Either empty or a root and 0-n subtrees (tree)\n",
    "    2. Each subtree connect with root (parent) with edge. \n",
    "    "
   ]
  },
  {
   "cell_type": "markdown",
   "metadata": {},
   "source": [
    "### Binary Tree\n",
    "Set the n to 2 in recursive define\n",
    "\n",
    "Some math with binary tree\n",
    "\n",
    "Max nodes in level i: 2^(i-1)\n",
    "Max nodes with height k: 2^k - 1\n",
    "\n",
    "Full binary tree\n",
    "\n",
    "Full binary tree with n nodes, height is log2(n)+1\n"
   ]
  },
  {
   "cell_type": "markdown",
   "metadata": {},
   "source": [
    "## Binary Tree basic operations\n",
    "\n",
    "- Create binary tree\n",
    "- Get left/right child\n",
    "- Get node value\n",
    "- Set node value\n",
    "- insert left/right child\n"
   ]
  },
  {
   "cell_type": "markdown",
   "metadata": {},
   "source": [
    "### Some Python implement of binary tree\n",
    "\n",
    "List of List\n"
   ]
  },
  {
   "cell_type": "code",
   "execution_count": 9,
   "metadata": {},
   "outputs": [
    {
     "name": "stdout",
     "output_type": "stream",
     "text": [
      "['a', ['b', ['d', [], []], ['e', [], []]], ['c', ['f', [], []], []]]\n",
      "left subtree =  ['b', ['d', [], []], ['e', [], []]]\n",
      "root =  a\n",
      "right subtree =  ['c', ['f', [], []], []]\n",
      "left subtree =  ['d', [], []]\n",
      "root =  b\n",
      "right subtree =  ['e', [], []]\n"
     ]
    }
   ],
   "source": [
    "my_tree = ['a', #root\n",
    "    ['b', #left subtree\n",
    "        ['d', [], []],\n",
    "        ['e', [], []] ],\n",
    "    ['c', #right subtree\n",
    "        ['f', [], []],\n",
    "        [] ]\n",
    "    ]\n",
    "\n",
    "print(my_tree)\n",
    "print('left subtree = ', my_tree[1])\n",
    "print('root = ', my_tree[0])\n",
    "print('right subtree = ', my_tree[2])\n",
    "\n",
    "left = my_tree[1]\n",
    "print('left subtree = ', left[1])\n",
    "print('root = ', left[0])\n",
    "print('right subtree = ', left[2])\n"
   ]
  },
  {
   "cell_type": "markdown",
   "metadata": {},
   "source": [
    "Here is full implement of operation against list of list structure"
   ]
  },
  {
   "cell_type": "code",
   "execution_count": 11,
   "metadata": {},
   "outputs": [
    {
     "name": "stdout",
     "output_type": "stream",
     "text": [
      "[5, [4, [], []], []]\n",
      "[3, [9, [4, [], []], []], [7, [], [6, [], []]]]\n",
      "[3, [9, [11, [4, [], []], []], []], [7, [], [6, [], []]]]\n",
      "[6, [], []]\n"
     ]
    }
   ],
   "source": [
    "def binary_tree(r):\n",
    "    return [r, [], []]\n",
    "\n",
    "def insert_left(root, new_branch):\n",
    "    t = root.pop(1)\n",
    "    if len(t) > 1:\n",
    "        root.insert(1, [new_branch, t, []])\n",
    "    else:\n",
    "        root.insert(1, [new_branch, [], []])\n",
    "    return root\n",
    "\n",
    "def insert_right(root, new_branch):\n",
    "    t = root.pop(2)\n",
    "    if len(t) > 1:\n",
    "        root.insert(2, [new_branch, [], t])\n",
    "    else:\n",
    "        root.insert(2, [new_branch, [], []])\n",
    "    return root\n",
    "\n",
    "def get_root_val(root):\n",
    "    return root[0]\n",
    "\n",
    "def set_root_val(root, new_val):\n",
    "    root[0] = new_val\n",
    "\n",
    "def get_left_child(root):\n",
    "    return root[1]\n",
    "\n",
    "def get_right_child(root):\n",
    "    return root[2]\n",
    "\n",
    "r = binary_tree(3)\n",
    "insert_left(r, 4)\n",
    "insert_left(r, 5)\n",
    "insert_right(r, 6)\n",
    "insert_right(r, 7)\n",
    "l = get_left_child(r)\n",
    "print(l)\n",
    "set_root_val(l, 9)\n",
    "print(r)\n",
    "insert_left(l, 11)\n",
    "print(r)\n",
    "print(get_right_child(get_right_child(r)))"
   ]
  },
  {
   "cell_type": "code",
   "execution_count": null,
   "metadata": {},
   "outputs": [],
   "source": [
    "OOP implement\n",
    "\n",
    "A object represent the node with its properties: value, left child, right child"
   ]
  },
  {
   "cell_type": "code",
   "execution_count": 19,
   "metadata": {},
   "outputs": [
    {
     "name": "stdout",
     "output_type": "stream",
     "text": [
      "a\n",
      "None\n",
      "<__main__.Node object at 0x0000017002170B08>\n",
      "b\n",
      "<__main__.Node object at 0x0000017001EA2B08>\n",
      "c\n",
      "hello\n"
     ]
    }
   ],
   "source": [
    "class Node:\n",
    "    def __init__(self, data):\n",
    "        self.left = None\n",
    "        self.right = None\n",
    "        self.val = data\n",
    "\n",
    "    def insert_left(self, new_node):\n",
    "        if self.left == None:\n",
    "            self.left = Node(new_node)\n",
    "        else:\n",
    "            t = Node(new_node)\n",
    "            t.left = self.left\n",
    "            self.left = t\n",
    "\n",
    "    def insert_right(self, new_node):\n",
    "        if self.right == None:\n",
    "            self.right = Node(new_node)\n",
    "        else:\n",
    "            t = Node(new_node)\n",
    "            t.right = self.right\n",
    "            self.right = t\n",
    "        \n",
    "    def get_right(self):\n",
    "        return self.right\n",
    "    \n",
    "    def get_left(self):\n",
    "        return self.left\n",
    "\n",
    "    def set_root_val(self, val):\n",
    "        self.val = val\n",
    "        \n",
    "    def get_root_val(self):\n",
    "        return self.val\n",
    "    \n",
    "r = Node('a')\n",
    "print(r.get_root_val())\n",
    "print(r.get_left())\n",
    "r.insert_left('b')\n",
    "print(r.get_left())\n",
    "print(r.get_left().get_root_val())\n",
    "r.insert_right('c')\n",
    "print(r.get_right())\n",
    "print(r.get_right().get_root_val())\n",
    "r.get_right().set_root_val('hello')\n",
    "print(r.get_right().get_root_val())"
   ]
  },
  {
   "cell_type": "markdown",
   "metadata": {},
   "source": [
    "### An example use Binary\n",
    "\n",
    "Parse the math expression. Why?\n",
    "\n",
    "Parse tree for ((7 + 3) * (5 - 2))\n",
    "<img src=\"imgs/express.png\"> \n",
    "\n",
    "We can define four rules as follows:\n",
    "- If the current token is a '(', add a new node as the left child of the current node, and descend to the left child.\n",
    "- If the current token is in the list ['+','-','/','*'], set the root value of the current node to the operator represented by the current token. Add a new node as the right child of the current node and descend to the right child.\n",
    "- If the current token is a number, set the root value of the current node to the number and return to the parent.\n",
    "- If the current token is a ')', go to the parent of the current node."
   ]
  },
  {
   "cell_type": "code",
   "execution_count": 26,
   "metadata": {},
   "outputs": [
    {
     "data": {
      "text/plain": [
       "<__main__.Node at 0x17001fa5088>"
      ]
     },
     "execution_count": 26,
     "metadata": {},
     "output_type": "execute_result"
    }
   ],
   "source": [
    "class Node:\n",
    "    def __init__(self, data):\n",
    "        self.left = None\n",
    "        self.right = None\n",
    "        self.val = data\n",
    "    \n",
    "    def insert_left(self, data):\n",
    "        t = Node(data)\n",
    "        self.left = t\n",
    "    \n",
    "    def insert_right(self, data):\n",
    "        t = Node(data)\n",
    "        self.right = t\n",
    "    \n",
    "    def get_left(self):\n",
    "        return self.left\n",
    "    \n",
    "    def get_right(self):\n",
    "        return self.right\n",
    "        \n",
    "    def set_root_val(self, val):\n",
    "        self.val = val\n",
    "        \n",
    "    def get_root_val(self):\n",
    "        return self.val\n",
    "    \n",
    "def build_Parse_Tree(fpexp):\n",
    "    fplist = fpexp.split()\n",
    "    pStack = []\n",
    "    eTree = Node('')\n",
    "    pStack.append(eTree)\n",
    "    currentTree = eTree\n",
    "\n",
    "    for i in fplist:\n",
    "        if i == '(':\n",
    "            currentTree.insert_left('')\n",
    "            pStack.append(currentTree)\n",
    "            currentTree = currentTree.get_left()\n",
    "\n",
    "        elif i in ['+', '-', '*', '/']:\n",
    "            currentTree.set_root_val(i)\n",
    "            currentTree.insert_right('')\n",
    "            pStack.append(currentTree)\n",
    "            currentTree = currentTree.get_right()\n",
    "\n",
    "        elif i == ')':\n",
    "            currentTree = pStack.pop()\n",
    "\n",
    "        elif i not in ['+', '-', '*', '/', ')']:\n",
    "            try:\n",
    "                currentTree.set_root_val(int(i))\n",
    "                parent = pStack.pop()\n",
    "                currentTree = parent\n",
    "\n",
    "            except ValueError:\n",
    "                raise ValueError(\"token '{}' is not a valid integer\".format(i))\n",
    "\n",
    "    return eTree\n",
    "\n",
    "pt = build_Parse_Tree(\"( ( 10 + 5 ) * 3 )\")\n"
   ]
  },
  {
   "cell_type": "markdown",
   "metadata": {},
   "source": [
    "## Tree Traversals\n",
    "\n",
    "- in order\n",
    "- pre order\n",
    "- post order"
   ]
  },
  {
   "cell_type": "code",
   "execution_count": 30,
   "metadata": {},
   "outputs": [
    {
     "name": "stdout",
     "output_type": "stream",
     "text": [
      "a\n",
      "d\n",
      "b\n",
      "c\n"
     ]
    }
   ],
   "source": [
    "class Node:\n",
    "    def __init__(self, data):\n",
    "        self.left = None\n",
    "        self.right = None\n",
    "        self.val = data\n",
    "\n",
    "    def insert_left(self, new_node):\n",
    "        if self.left == None:\n",
    "            self.left = Node(new_node)\n",
    "        else:\n",
    "            t = Node(new_node)\n",
    "            t.left = self.left\n",
    "            self.left = t\n",
    "\n",
    "    def insert_right(self, new_node):\n",
    "        if self.right == None:\n",
    "            self.right = Node(new_node)\n",
    "        else:\n",
    "            t = Node(new_node)\n",
    "            t.right = self.right\n",
    "            self.right = t\n",
    "        \n",
    "    def get_right(self):\n",
    "        return self.right\n",
    "    \n",
    "    def get_left(self):\n",
    "        return self.left\n",
    "\n",
    "    def set_root_val(self, val):\n",
    "        self.val = val\n",
    "        \n",
    "    def get_root_val(self):\n",
    "        return self.val\n",
    "\n",
    "    def preorder(self):\n",
    "        print(self.val)\n",
    "        if self.left:\n",
    "            self.left.preorder()\n",
    "        if self.right:\n",
    "            self.right.preorder()\n",
    "            \n",
    "def preorder(tree):\n",
    "    if tree:\n",
    "        print(tree.get_root_val())\n",
    "        preorder(tree.get_left())\n",
    "        preorder (tree.get_right())\n",
    "\n",
    "r = Node('a')\n",
    "r.insert_left('b')\n",
    "r.insert_right('c')\n",
    "r.insert_left('d')\n",
    "\n",
    "preorder(r)\n"
   ]
  },
  {
   "cell_type": "code",
   "execution_count": null,
   "metadata": {},
   "outputs": [],
   "source": [
    "def postorder(tree):\n",
    "    if tree:\n",
    "        postorder(tree.get_left())\n",
    "        postorder(tree.get_right())\n",
    "        print(tree.get_root_val())\n",
    "        \n",
    "def postorder_eval(tree):\n",
    "    opers = {'+':operator.add, '-':operator.sub, '*':operator.mul, '/':operator.truediv}\n",
    "    res1 = None\n",
    "    res2 = None\n",
    "    if tree:\n",
    "        res1 = postorder_eval(tree.get_left())\n",
    "        res2 = postorder_eval(tree.get_right())\n",
    "        if res1 and res2:\n",
    "            return opers[tree.get_root_val()](res1, res2)\n",
    "        else:\n",
    "            return tree.get_root_val()"
   ]
  },
  {
   "cell_type": "code",
   "execution_count": null,
   "metadata": {},
   "outputs": [],
   "source": [
    "def inorder(tree):\n",
    "    if tree:\n",
    "        inorder(tree.get_left())\n",
    "        print(tree.get_root_val())\n",
    "        inorder(tree.get_right())\n"
   ]
  },
  {
   "cell_type": "markdown",
   "metadata": {},
   "source": [
    "## Binary Search Tree\n",
    "\n",
    "1. What is BST\n",
    "2. Search with BST\n",
    "3. Building BST\n",
    "4. BST operation (add new node, remove node, traversal)\n",
    "5. Check BST\n",
    "6. Balance BST\n"
   ]
  },
  {
   "cell_type": "code",
   "execution_count": null,
   "metadata": {},
   "outputs": [],
   "source": [
    "def search(root,key): \n",
    "      \n",
    "    # Base Cases: root is null or key is present at root \n",
    "    if root is None or root.val == key: \n",
    "        return root \n",
    "  \n",
    "    # Key is greater than root's key \n",
    "    if root.val < key: \n",
    "        return search(root.right,key) \n",
    "    \n",
    "    # Key is smaller than root's key \n",
    "    return search(root.left,key)"
   ]
  },
  {
   "cell_type": "code",
   "execution_count": null,
   "metadata": {},
   "outputs": [],
   "source": [
    "def insert(root,node): \n",
    "    if root is None: \n",
    "        root = node \n",
    "    else: \n",
    "        if root.val < node.val: \n",
    "            if root.right is None: \n",
    "                root.right = node \n",
    "            else: \n",
    "                insert(root.right, node) \n",
    "        else: \n",
    "            if root.left is None: \n",
    "                root.left = node \n",
    "            else: \n",
    "                insert(root.left, node) "
   ]
  },
  {
   "cell_type": "markdown",
   "metadata": {},
   "source": [
    "## Binary search tree applications\n",
    "\n",
    "* used to implement dictionary.\n",
    "* used to implement multilevel indexing in DATABASE.\n",
    "* To implement Huffman Coding Algorithm.\n",
    "* used to implement searching Algorithm."
   ]
  },
  {
   "cell_type": "markdown",
   "metadata": {},
   "source": [
    "## Heap Tree\n",
    "\n",
    "1. Complete binary tree\n",
    "2. Max heap/Min heap : parent must >= / <= children\n",
    "<img src=\"imgs/MinHeapAndMaxHeap.png\">\n",
    "3. Mathmatic with complete tree represent in array. The array is the inorder traversal of the tree\n",
    "                   root   -> A[0]\n",
    "                   parent -> A[(i-1)/2]\n",
    "                   left   -> A[(2*i)+1]\n",
    "                   right  -> A[(2*i)+2]\n",
    "\n"
   ]
  },
  {
   "cell_type": "markdown",
   "metadata": {},
   "source": [
    "### Heap tree operation\n",
    "\n",
    "1. Heapify\n",
    "2. Build heap\n",
    "\n",
    "    * Create a new node at the end of heap.\n",
    "    * Assign new value to the node.\n",
    "    * Compare the value of this child node with its parent.\n",
    "    * If value of parent is less than child, then swap them.\n",
    "    * Repeat previous steps until Heap property holds.\n",
    "\n",
    "<img src=\"imgs/max_heap_animation.gif\"/>\n",
    "\n",
    "\n",
    "3. Find min/max\n",
    "\n",
    "    * The root is result\n",
    "\n",
    "4. Delete min/max\n",
    "\n",
    "    * Remove root node.\n",
    "    * Move the last element of last level to root.\n",
    "    * Compare the value of this child node with its parent.\n",
    "    * If value of parent is less than child, then swap them.\n",
    "    * Repeat previous steps until Heap property holds.\n",
    "\n",
    "<img src=\"imgs/max_heap_deletion_animation.gif\"/>"
   ]
  },
  {
   "cell_type": "code",
   "execution_count": null,
   "metadata": {},
   "outputs": [],
   "source": [
    "Combine the build heap tree and delete min/max is kind of sorting"
   ]
  },
  {
   "cell_type": "code",
   "execution_count": 33,
   "metadata": {},
   "outputs": [
    {
     "name": "stdout",
     "output_type": "stream",
     "text": [
      "13\n",
      "11\n",
      "12\n",
      "5\n",
      "6\n",
      "7\n"
     ]
    }
   ],
   "source": [
    "# To heapify subtree rooted at index i. \n",
    "# n is size of heap \n",
    "def heapify(arr, n, i): \n",
    "    largest = i # Initialize largest as root \n",
    "    l = 2 * i + 1     # left = 2*i + 1 \n",
    "    r = 2 * i + 2     # right = 2*i + 2 \n",
    "  \n",
    "    # See if left child of root exists and is \n",
    "    # greater than root \n",
    "    if l < n and arr[i] < arr[l]: \n",
    "        largest = l \n",
    "  \n",
    "    # See if right child of root exists and is \n",
    "    # greater than root \n",
    "    if r < n and arr[largest] < arr[r]: \n",
    "        largest = r \n",
    "  \n",
    "    # Change root, if needed \n",
    "    if largest != i: \n",
    "        arr[i],arr[largest] = arr[largest],arr[i] # swap \n",
    "  \n",
    "        # Heapify the root. \n",
    "        heapify(arr, n, largest)\n",
    "        \n",
    "def build_max_heap(arr):\n",
    "    n = len(arr) \n",
    "  \n",
    "    # Build a maxheap. \n",
    "    for i in range(n, -1, -1): \n",
    "        heapify(arr, n, i)\n",
    "        \n",
    "arr = [ 12, 11, 13, 5, 6, 7] \n",
    "build_max_heap(arr) \n",
    "for i in range(len(arr)): \n",
    "    print(\"%d\" %arr[i])"
   ]
  },
  {
   "cell_type": "markdown",
   "metadata": {},
   "source": [
    "### Heap Application\n",
    "\n",
    "* Heap Sort: Heap Sort uses Binary Heap to sort an array in O(nLogn) time.\n",
    "* Priority Queue: Priority queues can be efficiently implemented using Binary Heap because it supports insert(), delete() and extractmax(), decreaseKey() operations in O(logn) time. Binomoial Heap and Fibonacci Heap are variations of Binary Heap. These variations perform union also efficiently.\n",
    "* Graph Algorithms: The priority queues are especially used in Graph Algorithms like Dijkstra’s Shortest Path and Prim’s Minimum Spanning Tree.\n",
    "* Many problems can be efficiently solved using Heaps. See following for example.\n",
    "    * K’th Largest Element in an array.\n",
    "    * Sort an almost sorted array/\n",
    "    * Merge K Sorted Arrays."
   ]
  },
  {
   "cell_type": "code",
   "execution_count": null,
   "metadata": {},
   "outputs": [],
   "source": [
    "## Priority Queue\n",
    "\n",
    "What is priority queue?\n",
    "Use heap for priority queue."
   ]
  }
 ],
 "metadata": {
  "kernelspec": {
   "display_name": "Python 3",
   "language": "python",
   "name": "python3"
  },
  "language_info": {
   "codemirror_mode": {
    "name": "ipython",
    "version": 3
   },
   "file_extension": ".py",
   "mimetype": "text/x-python",
   "name": "python",
   "nbconvert_exporter": "python",
   "pygments_lexer": "ipython3",
   "version": "3.7.4"
  }
 },
 "nbformat": 4,
 "nbformat_minor": 2
}
