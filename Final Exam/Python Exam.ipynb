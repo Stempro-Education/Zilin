{
 "cells": [
  {
   "cell_type": "code",
   "execution_count": 1,
   "metadata": {},
   "outputs": [],
   "source": [
    "import re "
   ]
  },
  {
   "cell_type": "code",
   "execution_count": null,
   "metadata": {},
   "outputs": [],
   "source": [
    "#1 and 2 combined"
   ]
  },
  {
   "cell_type": "code",
   "execution_count": 22,
   "metadata": {},
   "outputs": [],
   "source": [
    "def milerun():\n",
    "    print(\"\\033[1;31;10mWhen done enter the word \\\"finish\\\", for maximum mile enter \\\"max\\\", for minimum mile enter \\\"min\\\", for average mile enter \\\"avg\\\", for number of runs enter \\\"runs\\\", for total number of miles ran enter \\\"total\\\".\\033[1;39;10m\")\n",
    "    distance = []\n",
    "    inputs = \"\"\n",
    "    week = 0\n",
    "    while inputs!=\"finish\":\n",
    "        week=week+1\n",
    "        inputs = input(\"week\"+str(week)+ \" miles ran: \")\n",
    "        if inputs!=\"finished\" and inputs!=\"max\" and inputs!=\"avg\" and inputs!=\"min\" and inputs!=\"runs\" and inputs!=\"total\":\n",
    "            distance.append((\"week\"+str(week),inputs))\n",
    "        elif inputs==\"min\" or inputs==\"max\" or inputs==\"avg\" or inputs==\"runs\" or inputs==\"total\":\n",
    "            temp=[]\n",
    "            for i,j in distance:\n",
    "                temp.append(int(j))\n",
    "            week=week-1\n",
    "            if inputs==\"max\":\n",
    "                print(\"\\033[1;32;10m current maximum mile is \"+str(max(temp))+\" miles \\033[1;39;10m\")            \n",
    "            if inputs==\"min\":\n",
    "                print(\"\\033[1;33;10m current minimum mile is \"+str(min(temp))+\" miles \\033[1;39;10m\")\n",
    "            if inputs==\"avg\":\n",
    "                print(\"\\033[1;34;10m current average mile is \"+str(sum(temp)/len(temp))+\" miles \\033[1;39;10m\")\n",
    "            if inputs==\"runs\":\n",
    "                print(\"\\033[1;35;10m current number of runs is \"+str(week)+\" runs \\033[1;39;10m\")\n",
    "            if inputs==\"total\":\n",
    "                print(\"\\033[1;36;10m current total number of miles ran is \"+str(sum(temp))+\" miles \\033[1;39;10m\")\n",
    "    if inputs==\"finish\":\n",
    "        distance.pop(len(distance)-1)\n",
    "        print(\"\\033[1;31;10m\")\n",
    "        print(distance)      \n"
   ]
  },
  {
   "cell_type": "markdown",
   "metadata": {},
   "source": [
    "### milerun()"
   ]
  },
  {
   "cell_type": "code",
   "execution_count": null,
   "metadata": {},
   "outputs": [
    {
     "name": "stdout",
     "output_type": "stream",
     "text": [
      "\u001b[1;31;10mWhen done enter the word \"finish\", for maximum mile enter \"max\", for minimum mile enter \"min\", for average mile enter \"avg\", for number of runs enter \"runs\", for total number of miles ran enter \"total\".\u001b[1;39;10m\n",
      "week1 miles ran: 4\n",
      "week2 miles ran: 5\n",
      "week3 miles ran: 6\n",
      "week4 miles ran: min\n",
      "\u001b[1;33;10m current minimum mile is 4 miles \u001b[1;39;10m\n"
     ]
    }
   ],
   "source": [
    "milerun()"
   ]
  },
  {
   "cell_type": "code",
   "execution_count": null,
   "metadata": {},
   "outputs": [],
   "source": [
    "#3"
   ]
  },
  {
   "cell_type": "code",
   "execution_count": 8,
   "metadata": {},
   "outputs": [],
   "source": [
    "def colorInput():\n",
    "    c = []\n",
    "    dup = False\n",
    "    current=\"\"\n",
    "    while (current!=\"exit\"):\n",
    "        inputs=input(\"enter a color: \")\n",
    "        for i in c: \n",
    "            if(i == inputs):\n",
    "                dup = True\n",
    "        if dup==True:\n",
    "            print(\"We’re sorry, but you’ve already added the color \"+inputs)\n",
    "            dup=False\n",
    "        else:\n",
    "            c.append(inputs)\n",
    "    print(c)"
   ]
  },
  {
   "cell_type": "code",
   "execution_count": null,
   "metadata": {},
   "outputs": [
    {
     "name": "stdout",
     "output_type": "stream",
     "text": [
      "enter a color: yellow\n",
      "enter a color: red\n",
      "enter a color: yellow\n",
      "We’re sorry, but you’ve already added the color yellow\n"
     ]
    }
   ],
   "source": [
    "colorInput()"
   ]
  },
  {
   "cell_type": "code",
   "execution_count": null,
   "metadata": {},
   "outputs": [],
   "source": [
    "#4"
   ]
  },
  {
   "cell_type": "code",
   "execution_count": 3,
   "metadata": {},
   "outputs": [],
   "source": [
    "from random import randint\n",
    "def generate_bingo_letter():\n",
    "    a=[\"B\", \"I\", \"N\", \"G\", \"O\"]\n",
    "    index = randint(0, 4)\n",
    "    return a[index]"
   ]
  },
  {
   "cell_type": "code",
   "execution_count": 7,
   "metadata": {},
   "outputs": [
    {
     "name": "stdout",
     "output_type": "stream",
     "text": [
      "O\n"
     ]
    }
   ],
   "source": [
    "x = generate_bingo_letter() \n",
    "print (x)"
   ]
  },
  {
   "cell_type": "code",
   "execution_count": null,
   "metadata": {},
   "outputs": [],
   "source": [
    "#5"
   ]
  },
  {
   "cell_type": "code",
   "execution_count": 12,
   "metadata": {},
   "outputs": [],
   "source": [
    "def fraction(fstring):\n",
    "    divide=fstring.split(\"/\")\n",
    "    return float(int(divide[0])/int(divide[1]))"
   ]
  },
  {
   "cell_type": "code",
   "execution_count": 14,
   "metadata": {},
   "outputs": [
    {
     "data": {
      "text/plain": [
       "0.3333333333333333"
      ]
     },
     "execution_count": 14,
     "metadata": {},
     "output_type": "execute_result"
    }
   ],
   "source": [
    "fraction(\"1/3\")"
   ]
  },
  {
   "cell_type": "code",
   "execution_count": null,
   "metadata": {},
   "outputs": [],
   "source": [
    "#6 Bonus"
   ]
  },
  {
   "cell_type": "code",
   "execution_count": 18,
   "metadata": {},
   "outputs": [],
   "source": [
    "def balance_parens(astring):\n",
    "    Lparens=[]\n",
    "    Rparens=[]\n",
    "    for i in astring:\n",
    "        if i==\"(\":\n",
    "            Lparens.append(i)\n",
    "        if i==\")\":\n",
    "            Rparens.append(i)\n",
    "    return len(Lparens)==len(Rparens)      "
   ]
  },
  {
   "cell_type": "code",
   "execution_count": 21,
   "metadata": {},
   "outputs": [
    {
     "data": {
      "text/plain": [
       "False"
      ]
     },
     "execution_count": 21,
     "metadata": {},
     "output_type": "execute_result"
    }
   ],
   "source": [
    "balance_parens(\"A * ( (B + C) – (D – E) )\")"
   ]
  },
  {
   "cell_type": "code",
   "execution_count": null,
   "metadata": {},
   "outputs": [],
   "source": []
  }
 ],
 "metadata": {
  "kernelspec": {
   "display_name": "Python 3",
   "language": "python",
   "name": "python3"
  }
 },
 "nbformat": 4,
 "nbformat_minor": 2
}
