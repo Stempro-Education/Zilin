{
 "cells": [
  {
   "cell_type": "code",
   "execution_count": null,
   "metadata": {
    "ExecuteTime": {
     "end_time": "2020-02-06T04:24:50.816735Z",
     "start_time": "2020-02-06T04:24:50.812733Z"
    }
   },
   "outputs": [],
   "source": [
    "from IPython.display import display, Markdown, HTML\n",
    "from IPython.core.magic import register_cell_magic\n",
    "import  numpy as np\n",
    "\n",
    "def set_background(color):    \n",
    "    script = (\n",
    "        \"var cell = this.closest('.jp-CodeCell');\"\n",
    "        \"var editor = cell.querySelector('.jp-Editor');\"\n",
    "        \"editor.style.background='{}';\"\n",
    "        \"this.parentNode.removeChild(this)\"\n",
    "    ).format(color)\n",
    "\n",
    "    display(HTML('<img src onerror=\"{}\">'.format(script))) "
   ]
  },
  {
   "cell_type": "code",
   "execution_count": null,
   "metadata": {
    "ExecuteTime": {
     "end_time": "2020-02-06T04:25:25.617628Z",
     "start_time": "2020-02-06T04:25:25.612661Z"
    }
   },
   "outputs": [],
   "source": [
    "set_background('rgb(200, 0,2,0.2)')"
   ]
  },
  {
   "cell_type": "code",
   "execution_count": null,
   "metadata": {},
   "outputs": [],
   "source": [
    "import re "
   ]
  },
  {
   "cell_type": "code",
   "execution_count": null,
   "metadata": {},
   "outputs": [],
   "source": [
    "#1 and 2 combined"
   ]
  },
  {
   "cell_type": "code",
   "execution_count": null,
   "metadata": {
    "ExecuteTime": {
     "end_time": "2020-02-06T03:40:01.134514Z",
     "start_time": "2020-02-06T03:40:01.120533Z"
    }
   },
   "outputs": [],
   "source": [
    "def milerun():\n",
    "    print(\"\\033[1;31;10mWhen done enter the word \\\"finish\\\", for maximum mile enter \\\"max\\\", for minimum mile enter \\\"min\\\", for average mile enter \\\"avg\\\", for number of runs enter \\\"runs\\\", for total number of miles ran enter \\\"total\\\".\\033[1;39;10m\")\n",
    "    distance = []\n",
    "    inputs = \"\"\n",
    "    week = 0\n",
    "    while inputs!=\"finish\":\n",
    "        week=week+1\n",
    "        inputs = input(\"week\"+str(week)+ \" miles ran: \")\n",
    "        if inputs!=\"finished\" and inputs!=\"max\" and inputs!=\"avg\" and inputs!=\"min\" and inputs!=\"runs\" and inputs!=\"total\":\n",
    "            distance.append((\"week\"+str(week),inputs))\n",
    "        elif inputs==\"min\" or inputs==\"max\" or inputs==\"avg\" or inputs==\"runs\" or inputs==\"total\":\n",
    "            temp=[]\n",
    "            for i,j in distance:\n",
    "                temp.append(int(j))\n",
    "            week=week-1\n",
    "            if inputs==\"max\":\n",
    "                print(\"\\033[1;32;10m current maximum mile is \"+str(max(temp))+\" miles \\033[1;39;10m\")            \n",
    "            if inputs==\"min\":\n",
    "                print(\"\\033[1;33;10m current minimum mile is \"+str(min(temp))+\" miles \\033[1;39;10m\")\n",
    "            if inputs==\"avg\":\n",
    "                print(\"\\033[1;34;10m current average mile is \"+str(sum(temp)/len(temp))+\" miles \\033[1;39;10m\")\n",
    "            if inputs==\"runs\":\n",
    "                print(\"\\033[1;35;10m current number of runs is \"+str(week)+\" runs \\033[1;39;10m\")\n",
    "            if inputs==\"total\":\n",
    "                print(\"\\033[1;36;10m current total number of miles ran is \"+str(sum(temp))+\" miles \\033[1;39;10m\")\n",
    "    if inputs==\"finish\":\n",
    "        distance.pop(len(distance)-1)\n",
    "        print(\"\\033[1;31;10m\")\n",
    "        print(distance)      \n"
   ]
  },
  {
   "cell_type": "markdown",
   "metadata": {
    "ExecuteTime": {
     "end_time": "2020-02-06T04:44:19.935179Z",
     "start_time": "2020-02-06T04:44:19.931178Z"
    }
   },
   "source": [
    "<div class=\"alert alert-info\">\n",
    "The following are feedback for Q1 and Q2\n",
    "Combining Q1 and Q2 into one is a good thinking. \n",
    "\n",
    "Comments: \n",
    "1.  error handling: \n",
    "    you may add a separate function to validate whether input is number or not, something like: \n",
    "        def IsNumber(inputs):\n",
    "            try:\n",
    "                _=float(an)\n",
    "                return True\n",
    "            except: \n",
    "                return False\n",
    "2. max, min, total etc. \n",
    "    you may also return the \"distance\" and return the aggregations \n",
    "</div "
   ]
  },
  {
   "cell_type": "code",
   "execution_count": null,
   "metadata": {
    "ExecuteTime": {
     "end_time": "2020-02-06T04:58:52.360353Z",
     "start_time": "2020-02-06T04:58:52.352381Z"
    }
   },
   "outputs": [],
   "source": [
    "############################ Q1  ############################ \n",
    "distance=[]\n",
    "def milerun():\n",
    "    week=1\n",
    "    while True:\n",
    "        inputs=input(f'Enter miles for week {week}:')\n",
    "        if IsNumber(inputs):\n",
    "            distance.append((f'Week {week}',float(inputs)))\n",
    "            week+=1\n",
    "        else:\n",
    "            print(f\"Week {week} input is invalid, please enter another number\")\n",
    "        \n",
    "        if inputs==\"finish\":\n",
    "            break\n",
    "    return distance\n",
    "     \n",
    "def IsNumber(inputs):\n",
    "    try:\n",
    "        float(inputs)\n",
    "        return True\n",
    "    except: \n",
    "        return False            "
   ]
  },
  {
   "cell_type": "code",
   "execution_count": null,
   "metadata": {
    "ExecuteTime": {
     "end_time": "2020-02-06T05:03:14.451376Z",
     "start_time": "2020-02-06T05:03:14.447376Z"
    }
   },
   "outputs": [],
   "source": [
    "############################ Q2 ############################ \n",
    "miles=[d[1] for d in distance]\n",
    "maxmile, minmile, summile, avgmile, runs=max(miles), min(miles), sum(miles), np.mean(miles), len(miles)\n",
    "print(f'max:{maxmile}, min:{minmile}, sum:{summile}, runs:{runs}')"
   ]
  },
  {
   "cell_type": "markdown",
   "metadata": {},
   "source": [
    "### milerun()"
   ]
  },
  {
   "cell_type": "code",
   "execution_count": null,
   "metadata": {
    "ExecuteTime": {
     "end_time": "2020-02-06T03:53:09.910679Z",
     "start_time": "2020-02-06T03:52:56.387285Z"
    }
   },
   "outputs": [],
   "source": [
    "milerun()"
   ]
  },
  {
   "cell_type": "code",
   "execution_count": null,
   "metadata": {},
   "outputs": [],
   "source": [
    "#3"
   ]
  },
  {
   "cell_type": "code",
   "execution_count": null,
   "metadata": {
    "ExecuteTime": {
     "end_time": "2020-02-06T05:04:02.179818Z",
     "start_time": "2020-02-06T05:04:02.174825Z"
    }
   },
   "outputs": [],
   "source": [
    "def colorInput():\n",
    "    c = []\n",
    "    dup = False\n",
    "    current=\"\"\n",
    "    while (current!=\"exit\"):\n",
    "        inputs=input(\"enter a color: \")\n",
    "        for i in c: \n",
    "            if(i == inputs):\n",
    "                dup = True\n",
    "        if dup==True:\n",
    "            print(\"We’re sorry, but you’ve already added the color \"+inputs)\n",
    "            dup=False\n",
    "        else:\n",
    "            c.append(inputs)\n",
    "    print(c)"
   ]
  },
  {
   "cell_type": "code",
   "execution_count": null,
   "metadata": {
    "ExecuteTime": {
     "start_time": "2020-02-06T05:05:23.654Z"
    },
    "scrolled": true
   },
   "outputs": [],
   "source": [
    "colorInput()"
   ]
  },
  {
   "cell_type": "markdown",
   "metadata": {
    "ExecuteTime": {
     "end_time": "2020-02-06T05:06:36.063517Z",
     "start_time": "2020-02-06T05:06:36.055482Z"
    }
   },
   "source": [
    "<div class=\"alert alert-info\">\n",
    "The following are feedback for Q3\n",
    " \n",
    "Comments: \n",
    "1. the code will not exit, i.e., the loop wont terminate, even if you enter \"exit\"\n",
    "   you may add a separate function to validate whether input is number or not, something like: \n",
    "2. even if the code exit, the list is not sorted. \n",
    "3. use dictionary is another option: it will be a O(1) notation, instead of O(n)\n",
    "        \n",
    "</div>"
   ]
  },
  {
   "cell_type": "code",
   "execution_count": null,
   "metadata": {
    "ExecuteTime": {
     "end_time": "2020-02-06T05:16:47.561682Z",
     "start_time": "2020-02-06T05:16:47.556659Z"
    }
   },
   "outputs": [],
   "source": [
    "def colorInput():\n",
    "    c =dict()\n",
    "    while True:\n",
    "        inputs=input(\"enter a color: \")\n",
    "        if inputs.lower()==\"exit\":\n",
    "            break\n",
    "        if inputs in c:\n",
    "            print(\"We’re sorry, but you’ve already added the color \"+inputs)\n",
    "        else:\n",
    "            c[inputs]=1 \n",
    "    print(sorted(c.keys()))"
   ]
  },
  {
   "cell_type": "code",
   "execution_count": null,
   "metadata": {},
   "outputs": [],
   "source": []
  },
  {
   "cell_type": "markdown",
   "metadata": {},
   "source": [
    "#4"
   ]
  },
  {
   "cell_type": "code",
   "execution_count": null,
   "metadata": {
    "ExecuteTime": {
     "end_time": "2020-02-06T05:35:06.559765Z",
     "start_time": "2020-02-06T05:35:06.553800Z"
    }
   },
   "outputs": [],
   "source": [
    "from random import randint\n",
    "def generate_bingo_letter():\n",
    "    a=[\"B\", \"I\", \"N\", \"G\", \"O\"]\n",
    "    index = randint(0, 4)\n",
    "    return a[index]"
   ]
  },
  {
   "cell_type": "code",
   "execution_count": null,
   "metadata": {
    "ExecuteTime": {
     "end_time": "2020-02-06T05:36:24.550949Z",
     "start_time": "2020-02-06T05:36:24.543949Z"
    }
   },
   "outputs": [],
   "source": [
    "x = generate_bingo_letter() \n",
    "print (x)"
   ]
  },
  {
   "cell_type": "markdown",
   "metadata": {
    "ExecuteTime": {
     "end_time": "2020-02-06T05:40:09.017155Z",
     "start_time": "2020-02-06T05:40:09.013192Z"
    }
   },
   "source": [
    "<div class=\"alert alert-info\">\n",
    "The following are feedback for Q4 \n",
    "<br>Comments: \n",
    "<br>correct\n",
    "<br> may also consider more pythonic one: \n",
    "</div>"
   ]
  },
  {
   "cell_type": "code",
   "execution_count": null,
   "metadata": {
    "ExecuteTime": {
     "end_time": "2020-02-06T05:44:35.217771Z",
     "start_time": "2020-02-06T05:44:35.214781Z"
    }
   },
   "outputs": [],
   "source": [
    "from random import randint\n",
    "def generate_bingo_letter():\n",
    "    a='BINGO'\n",
    "    return a[randint(0,4)]"
   ]
  },
  {
   "cell_type": "code",
   "execution_count": null,
   "metadata": {},
   "outputs": [],
   "source": [
    "#5"
   ]
  },
  {
   "cell_type": "code",
   "execution_count": null,
   "metadata": {
    "ExecuteTime": {
     "end_time": "2020-02-06T05:48:06.119243Z",
     "start_time": "2020-02-06T05:48:06.116242Z"
    }
   },
   "outputs": [],
   "source": [
    "def fraction(fstring):\n",
    "    divide=fstring.split(\"/\")\n",
    "    return float(int(divide[0])/int(divide[1]))"
   ]
  },
  {
   "cell_type": "code",
   "execution_count": null,
   "metadata": {
    "ExecuteTime": {
     "end_time": "2020-02-06T05:48:21.669582Z",
     "start_time": "2020-02-06T05:48:21.663578Z"
    }
   },
   "outputs": [],
   "source": [
    "fraction(\"1/3\")"
   ]
  },
  {
   "cell_type": "markdown",
   "metadata": {},
   "source": [
    "<div class=\"alert alert-info\">\n",
    "The following are feedback for Q5 \n",
    "<br>Comments: \n",
    "<br>1. very nice solution. \n",
    "<br>3. consider exception\n",
    "<br> may also consider more pythonic one: \n",
    "</div>"
   ]
  },
  {
   "cell_type": "code",
   "execution_count": null,
   "metadata": {
    "ExecuteTime": {
     "end_time": "2020-02-06T05:54:42.177093Z",
     "start_time": "2020-02-06T05:54:42.173095Z"
    }
   },
   "outputs": [],
   "source": [
    "import re\n",
    "def fraction(fstring):\n",
    "    if not re.match('\\d+/\\d+', fstring):\n",
    "        return 'not a valid fraction'\n",
    "    divide=fstring.split(\"/\")\n",
    "    return 'denominator cannot be zeor' if  int(divide[1])==0 else '{:.3f}'.format(int(divide[0])/int(divide[1])) "
   ]
  },
  {
   "cell_type": "code",
   "execution_count": null,
   "metadata": {
    "ExecuteTime": {
     "end_time": "2020-02-06T05:55:05.876198Z",
     "start_time": "2020-02-06T05:55:05.871225Z"
    }
   },
   "outputs": [],
   "source": [
    " "
   ]
  },
  {
   "cell_type": "code",
   "execution_count": null,
   "metadata": {},
   "outputs": [],
   "source": [
    "#6 Bonus"
   ]
  },
  {
   "cell_type": "code",
   "execution_count": 106,
   "metadata": {
    "ExecuteTime": {
     "end_time": "2020-02-06T05:56:19.679359Z",
     "start_time": "2020-02-06T05:56:19.675393Z"
    }
   },
   "outputs": [],
   "source": [
    "def balance_parens(astring):\n",
    "    Lparens=[]\n",
    "    Rparens=[]\n",
    "    for i in astring:\n",
    "        if i==\"(\":\n",
    "            Lparens.append(i)\n",
    "        if i==\")\":\n",
    "            Rparens.append(i)\n",
    "    return len(Lparens)==len(Rparens)      "
   ]
  },
  {
   "cell_type": "code",
   "execution_count": 107,
   "metadata": {
    "ExecuteTime": {
     "end_time": "2020-02-06T05:56:20.362932Z",
     "start_time": "2020-02-06T05:56:20.355932Z"
    }
   },
   "outputs": [
    {
     "data": {
      "text/plain": [
       "True"
      ]
     },
     "execution_count": 107,
     "metadata": {},
     "output_type": "execute_result"
    }
   ],
   "source": [
    "balance_parens(\"A *  ((B + C) – (D – E) )\")"
   ]
  },
  {
   "cell_type": "markdown",
   "metadata": {
    "ExecuteTime": {
     "end_time": "2020-02-06T05:56:41.712982Z",
     "start_time": "2020-02-06T05:56:41.708946Z"
    }
   },
   "source": [
    "<div class=\"alert alert-info\">\n",
    "The following are feedback for Q6 \n",
    "<br>Comments: \n",
    "<br>1.nice solution. \n",
    "<br>2. what if has { [ etc.?\n",
    "<br> may also consider more pythonic one: \n",
    "</div>"
   ]
  },
  {
   "cell_type": "code",
   "execution_count": null,
   "metadata": {},
   "outputs": [],
   "source": []
  }
 ],
 "metadata": {
  "kernelspec": {
   "display_name": "Python 3",
   "language": "python",
   "name": "python3"
  },
  "language_info": {
   "codemirror_mode": {
    "name": "ipython",
    "version": 3
   },
   "file_extension": ".py",
   "mimetype": "text/x-python",
   "name": "python",
   "nbconvert_exporter": "python",
   "pygments_lexer": "ipython3",
   "version": "3.7.5"
  },
  "toc": {
   "base_numbering": 1,
   "nav_menu": {},
   "number_sections": true,
   "sideBar": true,
   "skip_h1_title": false,
   "title_cell": "Table of Contents",
   "title_sidebar": "Contents",
   "toc_cell": false,
   "toc_position": {},
   "toc_section_display": true,
   "toc_window_display": true
  }
 },
 "nbformat": 4,
 "nbformat_minor": 2
}
