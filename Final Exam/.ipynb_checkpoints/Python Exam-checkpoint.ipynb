{
 "cells": [
  {
   "cell_type": "markdown",
   "metadata": {},
   "source": [
    "<font size=6 color=Olive>600/800</font>\n",
    "<br><font size=6> Well done! Please review notes for each question</font>\n"
   ]
  },
  {
   "cell_type": "code",
   "execution_count": 146,
   "metadata": {
    "ExecuteTime": {
     "end_time": "2020-02-07T03:52:01.182754Z",
     "start_time": "2020-02-07T03:52:01.179748Z"
    }
   },
   "outputs": [],
   "source": [
    "from IPython.display import display, Markdown, HTML\n",
    "from IPython.core.magic import register_cell_magic\n",
    "import  numpy as np "
   ]
  },
  {
   "cell_type": "code",
   "execution_count": null,
   "metadata": {
    "ExecuteTime": {
     "end_time": "2020-02-06T04:25:25.617628Z",
     "start_time": "2020-02-06T04:25:25.612661Z"
    }
   },
   "outputs": [],
   "source": [
    "set_background('rgb(200, 0,2,0.2)')"
   ]
  },
  {
   "cell_type": "code",
   "execution_count": null,
   "metadata": {},
   "outputs": [],
   "source": [
    "import re "
   ]
  },
  {
   "cell_type": "code",
   "execution_count": null,
   "metadata": {},
   "outputs": [],
   "source": [
    "#1 and 2 combined"
   ]
  },
  {
   "cell_type": "code",
   "execution_count": null,
   "metadata": {
    "ExecuteTime": {
     "end_time": "2020-02-06T03:40:01.134514Z",
     "start_time": "2020-02-06T03:40:01.120533Z"
    }
   },
   "outputs": [],
   "source": [
    "def milerun():\n",
    "    print(\"\\033[1;31;10mWhen done enter the word \\\"finish\\\", for maximum mile enter \\\"max\\\", for minimum mile enter \\\"min\\\", for average mile enter \\\"avg\\\", for number of runs enter \\\"runs\\\", for total number of miles ran enter \\\"total\\\".\\033[1;39;10m\")\n",
    "    distance = []\n",
    "    inputs = \"\"\n",
    "    week = 0\n",
    "    while inputs!=\"finish\":\n",
    "        week=week+1\n",
    "        inputs = input(\"week\"+str(week)+ \" miles ran: \")\n",
    "        if inputs!=\"finished\" and inputs!=\"max\" and inputs!=\"avg\" and inputs!=\"min\" and inputs!=\"runs\" and inputs!=\"total\":\n",
    "            distance.append((\"week\"+str(week),inputs))\n",
    "        elif inputs==\"min\" or inputs==\"max\" or inputs==\"avg\" or inputs==\"runs\" or inputs==\"total\":\n",
    "            temp=[]\n",
    "            for i,j in distance:\n",
    "                temp.append(int(j))\n",
    "            week=week-1\n",
    "            if inputs==\"max\":\n",
    "                print(\"\\033[1;32;10m current maximum mile is \"+str(max(temp))+\" miles \\033[1;39;10m\")            \n",
    "            if inputs==\"min\":\n",
    "                print(\"\\033[1;33;10m current minimum mile is \"+str(min(temp))+\" miles \\033[1;39;10m\")\n",
    "            if inputs==\"avg\":\n",
    "                print(\"\\033[1;34;10m current average mile is \"+str(sum(temp)/len(temp))+\" miles \\033[1;39;10m\")\n",
    "            if inputs==\"runs\":\n",
    "                print(\"\\033[1;35;10m current number of runs is \"+str(week)+\" runs \\033[1;39;10m\")\n",
    "            if inputs==\"total\":\n",
    "                print(\"\\033[1;36;10m current total number of miles ran is \"+str(sum(temp))+\" miles \\033[1;39;10m\")\n",
    "    if inputs==\"finish\":\n",
    "        distance.pop(len(distance)-1)\n",
    "        print(\"\\033[1;31;10m\")\n",
    "        print(distance)      \n"
   ]
  },
  {
   "cell_type": "markdown",
   "metadata": {
    "ExecuteTime": {
     "end_time": "2020-02-06T04:44:19.935179Z",
     "start_time": "2020-02-06T04:44:19.931178Z"
    }
   },
   "source": [
    "<font size=6 color=green> Q1 and Q2: 160/200</font><div class=\"alert alert-info\">\n",
    "The following are feedback for Q1 and Q2\n",
    "Combining Q1 and Q2 into one is a good thinking. \n",
    "\n",
    "Comments: \n",
    "1.  error handling: \n",
    "    you may add a separate function to validate whether input is number or not, something like: \n",
    "        def IsNumber(inputs):\n",
    "            try:\n",
    "                _=float(an)\n",
    "                return True\n",
    "            except: \n",
    "                return False\n",
    "2. max, min, total etc. \n",
    "    you may also return the \"distance\" and return the aggregations \n",
    "</div "
   ]
  },
  {
   "cell_type": "code",
   "execution_count": 141,
   "metadata": {
    "ExecuteTime": {
     "end_time": "2020-02-07T03:50:01.882778Z",
     "start_time": "2020-02-07T03:50:01.876750Z"
    }
   },
   "outputs": [],
   "source": [
    "############################ Q1  ############################ \n",
    "distance=[]\n",
    "def milerun():\n",
    "    week=1\n",
    "    while True:\n",
    "        inputs=input(f'Enter miles for week {week}:')\n",
    "        if IsNumber(inputs):\n",
    "            distance.append((f'Week {week}',float(inputs)))\n",
    "            week+=1\n",
    "        else:\n",
    "            print(f\"Week {week} input is invalid, please enter another number\")\n",
    "        \n",
    "        if inputs==\"finish\":\n",
    "            break\n",
    "    return distance\n",
    "     \n",
    "def IsNumber(inputs):\n",
    "    try:\n",
    "        float(inputs)\n",
    "        return True\n",
    "    except: \n",
    "        return False            "
   ]
  },
  {
   "cell_type": "code",
   "execution_count": null,
   "metadata": {
    "ExecuteTime": {
     "end_time": "2020-02-07T03:52:09.635529Z",
     "start_time": "2020-02-07T03:52:09.629559Z"
    }
   },
   "outputs": [],
   "source": [
    "milerun()\n",
    "############################ Q2 ############################ \n",
    "miles=[d[1] for d in distance]\n",
    "maxmile, minmile, summile, avgmile, runs=max(miles), min(miles), sum(miles), np.mean(miles), len(miles)\n",
    "print(f'max:{maxmile}, min:{minmile}, sum:{summile}, runs:{runs}')"
   ]
  },
  {
   "cell_type": "markdown",
   "metadata": {},
   "source": [
    "### milerun()"
   ]
  },
  {
   "cell_type": "code",
   "execution_count": null,
   "metadata": {
    "ExecuteTime": {
     "end_time": "2020-02-06T03:53:09.910679Z",
     "start_time": "2020-02-06T03:52:56.387285Z"
    }
   },
   "outputs": [],
   "source": [
    "milerun()"
   ]
  },
  {
   "cell_type": "code",
   "execution_count": null,
   "metadata": {},
   "outputs": [],
   "source": [
    "#3"
   ]
  },
  {
   "cell_type": "code",
   "execution_count": null,
   "metadata": {
    "ExecuteTime": {
     "end_time": "2020-02-06T05:04:02.179818Z",
     "start_time": "2020-02-06T05:04:02.174825Z"
    }
   },
   "outputs": [],
   "source": [
    "def colorInput():\n",
    "    c = []\n",
    "    dup = False\n",
    "    current=\"\"\n",
    "    while (current!=\"exit\"):\n",
    "        inputs=input(\"enter a color: \")\n",
    "        for i in c: \n",
    "            if(i == inputs):\n",
    "                dup = True\n",
    "        if dup==True:\n",
    "            print(\"We’re sorry, but you’ve already added the color \"+inputs)\n",
    "            dup=False\n",
    "        else:\n",
    "            c.append(inputs)\n",
    "    print(c)"
   ]
  },
  {
   "cell_type": "code",
   "execution_count": null,
   "metadata": {
    "ExecuteTime": {
     "start_time": "2020-02-06T05:05:23.654Z"
    },
    "scrolled": true
   },
   "outputs": [],
   "source": [
    "colorInput()"
   ]
  },
  {
   "cell_type": "markdown",
   "metadata": {
    "ExecuteTime": {
     "end_time": "2020-02-06T05:06:36.063517Z",
     "start_time": "2020-02-06T05:06:36.055482Z"
    }
   },
   "source": [
    "<font size=6 color=green> Q3: 60/100</font><div class=\"alert alert-info\">\n",
    "The following are feedback for Q3\n",
    " \n",
    "Comments: \n",
    "1. the code will not exit, i.e., the loop wont terminate, even if you enter \"exit\"\n",
    "   you may add a separate function to validate whether input is number or not, something like: \n",
    "2. even if the code exit, the list is not sorted. \n",
    "3. use dictionary is another option: it will be a O(1) notation, instead of O(n)\n",
    "        \n",
    "</div>"
   ]
  },
  {
   "cell_type": "code",
   "execution_count": null,
   "metadata": {
    "ExecuteTime": {
     "end_time": "2020-02-06T05:16:47.561682Z",
     "start_time": "2020-02-06T05:16:47.556659Z"
    }
   },
   "outputs": [],
   "source": [
    "def colorInput():\n",
    "    c =dict()\n",
    "    while True:\n",
    "        inputs=input(\"enter a color: \")\n",
    "        if inputs.lower()==\"exit\":\n",
    "            break\n",
    "        if inputs in c:\n",
    "            print(\"We’re sorry, but you’ve already added the color \"+inputs)\n",
    "        else:\n",
    "            c[inputs]=1 \n",
    "    print(sorted(c.keys()))"
   ]
  },
  {
   "cell_type": "code",
   "execution_count": null,
   "metadata": {},
   "outputs": [],
   "source": []
  },
  {
   "cell_type": "markdown",
   "metadata": {},
   "source": [
    "#4"
   ]
  },
  {
   "cell_type": "code",
   "execution_count": null,
   "metadata": {
    "ExecuteTime": {
     "end_time": "2020-02-06T05:35:06.559765Z",
     "start_time": "2020-02-06T05:35:06.553800Z"
    }
   },
   "outputs": [],
   "source": [
    "from random import randint\n",
    "def generate_bingo_letter():\n",
    "    a=[\"B\", \"I\", \"N\", \"G\", \"O\"]\n",
    "    index = randint(0, 4)\n",
    "    return a[index]"
   ]
  },
  {
   "cell_type": "code",
   "execution_count": null,
   "metadata": {
    "ExecuteTime": {
     "end_time": "2020-02-06T05:36:24.550949Z",
     "start_time": "2020-02-06T05:36:24.543949Z"
    }
   },
   "outputs": [],
   "source": [
    "x = generate_bingo_letter() \n",
    "print (x)"
   ]
  },
  {
   "cell_type": "markdown",
   "metadata": {
    "ExecuteTime": {
     "end_time": "2020-02-06T05:40:09.017155Z",
     "start_time": "2020-02-06T05:40:09.013192Z"
    }
   },
   "source": [
    "<font size=6 color=green> Q4: 90/100</font><div class=\"alert alert-info\">\n",
    "The following are feedback for Q4 \n",
    "<br>Comments: \n",
    "<br>correct\n",
    "<br> may also consider more pythonic one: \n",
    "</div>"
   ]
  },
  {
   "cell_type": "code",
   "execution_count": 148,
   "metadata": {
    "ExecuteTime": {
     "end_time": "2020-02-07T03:57:15.736517Z",
     "start_time": "2020-02-07T03:57:15.732516Z"
    }
   },
   "outputs": [],
   "source": [
    "from random import randint\n",
    "def generate_bingo_letter():\n",
    "    a='BINGO'\n",
    "    return a[randint(0,4)]"
   ]
  },
  {
   "cell_type": "code",
   "execution_count": 149,
   "metadata": {
    "ExecuteTime": {
     "end_time": "2020-02-07T03:57:16.486478Z",
     "start_time": "2020-02-07T03:57:16.483482Z"
    }
   },
   "outputs": [],
   "source": [
    "#5"
   ]
  },
  {
   "cell_type": "code",
   "execution_count": 150,
   "metadata": {
    "ExecuteTime": {
     "end_time": "2020-02-07T03:57:17.033595Z",
     "start_time": "2020-02-07T03:57:17.028596Z"
    }
   },
   "outputs": [],
   "source": [
    "def fraction(fstring):\n",
    "    divide=fstring.split(\"/\")\n",
    "    return float(int(divide[0])/int(divide[1]))"
   ]
  },
  {
   "cell_type": "code",
   "execution_count": 151,
   "metadata": {
    "ExecuteTime": {
     "end_time": "2020-02-07T03:57:20.005827Z",
     "start_time": "2020-02-07T03:57:20.000825Z"
    }
   },
   "outputs": [
    {
     "data": {
      "text/plain": [
       "0.3333333333333333"
      ]
     },
     "execution_count": 151,
     "metadata": {},
     "output_type": "execute_result"
    }
   ],
   "source": [
    "fraction(\"1/3\")"
   ]
  },
  {
   "cell_type": "markdown",
   "metadata": {},
   "source": [
    "<font size=6 color=green> Q5: 90/100</font><div class=\"alert alert-info\">\n",
    "The following are feedback for Q5 \n",
    "<br>Comments: \n",
    "<br>1. simple nice solution\n",
    "<br>3. consider exception\n",
    "<br> may also consider more pythonic one: \n",
    "</div>"
   ]
  },
  {
   "cell_type": "code",
   "execution_count": null,
   "metadata": {
    "ExecuteTime": {
     "end_time": "2020-02-06T05:54:42.177093Z",
     "start_time": "2020-02-06T05:54:42.173095Z"
    }
   },
   "outputs": [],
   "source": [
    "import re\n",
    "def fraction(fstring):\n",
    "    if not re.match('\\d+/\\d+', fstring):\n",
    "        return 'not a valid fraction'\n",
    "    divide=fstring.split(\"/\")\n",
    "    return 'denominator cannot be zeor' if  int(divide[1])==0 else '{:.3f}'.format(int(divide[0])/int(divide[1])) "
   ]
  },
  {
   "cell_type": "code",
   "execution_count": null,
   "metadata": {
    "ExecuteTime": {
     "end_time": "2020-02-06T05:55:05.876198Z",
     "start_time": "2020-02-06T05:55:05.871225Z"
    }
   },
   "outputs": [],
   "source": [
    " "
   ]
  },
  {
   "cell_type": "code",
   "execution_count": null,
   "metadata": {},
   "outputs": [],
   "source": [
    "#6 Bonus"
   ]
  },
  {
   "cell_type": "code",
<<<<<<< HEAD
   "execution_count": 1,
   "metadata": {},
=======
   "execution_count": 138,
   "metadata": {
    "ExecuteTime": {
     "end_time": "2020-02-07T03:48:29.908269Z",
     "start_time": "2020-02-07T03:48:29.902270Z"
    }
   },
>>>>>>> 5d9f61e14f15983bc46b607cae813b47eb052880
   "outputs": [],
   "source": [
    "def balance_parens(astring):\n",
    "    Lparens=[]\n",
    "    Rparens=[]\n",
    "    for i in astring:\n",
    "        if i==\"(\":\n",
    "            Lparens.append(i)\n",
    "        if i==\")\":\n",
    "            Rparens.append(i)\n",
    "    return len(Lparens)==len(Rparens)      "
   ]
  },
  {
   "cell_type": "code",
<<<<<<< HEAD
   "execution_count": 3,
   "metadata": {},
=======
   "execution_count": 139,
   "metadata": {
    "ExecuteTime": {
     "end_time": "2020-02-07T03:48:30.352316Z",
     "start_time": "2020-02-07T03:48:30.348337Z"
    }
   },
   "outputs": [
    {
     "data": {
      "text/plain": [
       "True"
      ]
     },
     "execution_count": 139,
     "metadata": {},
     "output_type": "execute_result"
    }
   ],
   "source": [
    "balance_parens(\"A *  ((B + C) – (D – E) )\")"
   ]
  },
  {
   "cell_type": "markdown",
   "metadata": {
    "ExecuteTime": {
     "end_time": "2020-02-06T05:56:41.712982Z",
     "start_time": "2020-02-06T05:56:41.708946Z"
    }
   },
   "source": [
    "<font size=6 color=green> Q6: 200/300</font><div class=\"alert alert-info\">\n",
    "The following are feedback for Q6 \n",
    "<br>Comments: \n",
    "<br>1.the solution works in most cases. But how about \"this is ()) not a balanced( string\"?\n",
    "<br>2. what if has { [ etc.?\n",
    "<br> may also consider more pythonic one: \n",
    "</div>"
   ]
  },
  {
   "cell_type": "code",
   "execution_count": 133,
   "metadata": {
    "ExecuteTime": {
     "end_time": "2020-02-06T06:20:44.278975Z",
     "start_time": "2020-02-06T06:20:44.272977Z"
    }
   },
   "outputs": [],
   "source": [
    "from collections import deque\n",
    "\n",
    "def balance_parens(astring):\n",
    "    stack=deque()\n",
    "    pairs={'(':')', '[':']', '{':'}'}\n",
    "    for i in astring: \n",
    "        if i in [\"(\", \"[\", \"{\"]:\n",
    "            stack.append(i)\n",
    "        elif i in [\")\", \"]\", \"}\"]:\n",
    "            if len(stack)==0:\n",
    "                return False \n",
    "            p=stack.pop() \n",
    "            if pairs[p]!=i:\n",
    "                return False  \n",
    "    return len(stack)==0"
   ]
  },
  {
   "cell_type": "code",
   "execution_count": 135,
   "metadata": {
    "ExecuteTime": {
     "end_time": "2020-02-06T06:20:48.925964Z",
     "start_time": "2020-02-06T06:20:48.919962Z"
    }
   },
>>>>>>> 5d9f61e14f15983bc46b607cae813b47eb052880
   "outputs": [
    {
     "data": {
      "text/plain": [
       "True"
      ]
     },
<<<<<<< HEAD
     "execution_count": 3,
=======
     "execution_count": 135,
>>>>>>> 5d9f61e14f15983bc46b607cae813b47eb052880
     "metadata": {},
     "output_type": "execute_result"
    }
   ],
   "source": [
<<<<<<< HEAD
    "balance_parens(\"A *  ((B + C) – (D – E) )\")"
=======
    "balance_parens('()f;a[fj{}ff')"
>>>>>>> 5d9f61e14f15983bc46b607cae813b47eb052880
   ]
  },
  {
   "cell_type": "code",
   "execution_count": null,
   "metadata": {},
   "outputs": [],
   "source": []
  },
  {
   "cell_type": "code",
   "execution_count": null,
   "metadata": {},
   "outputs": [],
   "source": []
  }
 ],
 "metadata": {
  "kernelspec": {
   "display_name": "Python 3",
   "language": "python",
   "name": "python3"
  },
  "language_info": {
   "codemirror_mode": {
    "name": "ipython",
    "version": 3
   },
   "file_extension": ".py",
   "mimetype": "text/x-python",
   "name": "python",
   "nbconvert_exporter": "python",
   "pygments_lexer": "ipython3",
<<<<<<< HEAD
   "version": "3.7.4"
=======
   "version": "3.7.5"
  },
  "toc": {
   "base_numbering": 1,
   "nav_menu": {},
   "number_sections": true,
   "sideBar": true,
   "skip_h1_title": false,
   "title_cell": "Table of Contents",
   "title_sidebar": "Contents",
   "toc_cell": false,
   "toc_position": {},
   "toc_section_display": true,
   "toc_window_display": true
>>>>>>> 5d9f61e14f15983bc46b607cae813b47eb052880
  }
 },
 "nbformat": 4,
 "nbformat_minor": 2
}
