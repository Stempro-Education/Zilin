{
 "cells": [
  {
   "cell_type": "markdown",
   "metadata": {},
   "source": [
    "<font size=6 bold=true>Jan 12, 2020 -- Part B DataFrame\n",
    "<br><br>Content Digestion</font>  "
   ]
  },
  {
   "cell_type": "code",
   "execution_count": 4,
   "metadata": {
    "ExecuteTime": {
     "end_time": "2020-01-11T20:12:26.312884Z",
     "start_time": "2020-01-11T20:12:26.306891Z"
    },
    "code_folding": []
   },
   "outputs": [],
   "source": [
    "import re\n",
    "import spacy \n",
    "from spacy import displacy\n",
    "import en_core_web_sm\n",
    "from pathlib import Path\n",
    "from IPython.display import display, Markdown, Latex \n",
    "import sys\n",
    "import csv\n",
    "import pandas as pd\n",
    "import numpy as np\n",
    "import os\n",
    "from os import path, listdir\n",
    "from datetime import datetime\n",
    "from urllib.parse import urlparse, urljoin\n",
    "import requests\n",
    "import ntpath\n",
    "from bs4 import BeautifulSoup, Comment\n",
    "import time\n",
    "from pprint import pprint \n",
    "import shutil\n",
    "#!pip install tldextract\n",
    "import tldextract\n",
    "from pathlib import Path\n",
    " "
   ]
  },
  {
   "cell_type": "code",
   "execution_count": 5,
   "metadata": {
    "ExecuteTime": {
     "end_time": "2020-01-12T14:55:58.288759Z",
     "start_time": "2020-01-12T14:55:58.281759Z"
    }
   },
   "outputs": [
    {
     "data": {
      "text/markdown": [
       "\n",
       "# Pandas DataFrame\n",
       "### 1). Why Clean up Data? Why Pandas DataFrame?\n",
       "### 2). Pandas Series Recap\n",
       "### 3). Pandas DataFrame Introduction\n",
       "### 4). Our Data \n"
      ],
      "text/plain": [
       "<IPython.core.display.Markdown object>"
      ]
     },
     "metadata": {},
     "output_type": "display_data"
    }
   ],
   "source": [
    "display(Markdown(\n",
    "\"\"\"\n",
    "# Pandas DataFrame\n",
    "### 1). Why Clean up Data? Why Pandas DataFrame?\n",
    "### 2). Pandas Series Recap\n",
    "### 3). Pandas DataFrame Introduction\n",
    "### 4). Our Data \n",
    "\"\"\" ))    "
   ]
  },
  {
   "cell_type": "code",
   "execution_count": 6,
   "metadata": {
    "ExecuteTime": {
     "end_time": "2020-01-11T20:10:44.244339Z",
     "start_time": "2020-01-11T20:10:44.239306Z"
    }
   },
   "outputs": [
    {
     "data": {
      "text/markdown": [
       "\n",
       "# 1). Why clean up? Why Pandas DataFrame\n"
      ],
      "text/plain": [
       "<IPython.core.display.Markdown object>"
      ]
     },
     "metadata": {},
     "output_type": "display_data"
    }
   ],
   "source": [
    "display(Markdown(\n",
    "\"\"\"\n",
    "# 1). Why clean up? Why Pandas DataFrame\n",
    "\"\"\"\n",
    "))"
   ]
  },
  {
   "cell_type": "code",
   "execution_count": 7,
   "metadata": {
    "ExecuteTime": {
     "end_time": "2020-01-12T16:40:48.476226Z",
     "start_time": "2020-01-12T16:40:48.433188Z"
    }
   },
   "outputs": [
    {
     "data": {
      "text/markdown": [
       "\n",
       "<font size=4 color=\"black\">Some stats</font>\n"
      ],
      "text/plain": [
       "<IPython.core.display.Markdown object>"
      ]
     },
     "metadata": {},
     "output_type": "display_data"
    },
    {
     "ename": "FileNotFoundError",
     "evalue": "[Errno 2] No such file or directory: 'C:\\\\Coding\\\\utility_git\\\\Notebooks\\\\data'",
     "output_type": "error",
     "traceback": [
      "\u001b[0;31m---------------------------------------------------------------------------\u001b[0m",
      "\u001b[0;31mFileNotFoundError\u001b[0m                         Traceback (most recent call last)",
      "\u001b[0;32m<ipython-input-7-816408a4976c>\u001b[0m in \u001b[0;36m<module>\u001b[0;34m\u001b[0m\n\u001b[1;32m      5\u001b[0m )))\n\u001b[1;32m      6\u001b[0m \u001b[0mdatafolder\u001b[0m\u001b[0;34m=\u001b[0m\u001b[0;34m'C:\\\\Coding\\\\utility_git\\\\Notebooks\\\\data'\u001b[0m\u001b[0;34m\u001b[0m\u001b[0;34m\u001b[0m\u001b[0m\n\u001b[0;32m----> 7\u001b[0;31m \u001b[0mfiles\u001b[0m\u001b[0;34m=\u001b[0m\u001b[0mlistdir\u001b[0m\u001b[0;34m(\u001b[0m\u001b[0mdatafolder\u001b[0m\u001b[0;34m)\u001b[0m\u001b[0;34m\u001b[0m\u001b[0;34m\u001b[0m\u001b[0m\n\u001b[0m\u001b[1;32m      8\u001b[0m \u001b[0mdatafiles\u001b[0m\u001b[0;34m=\u001b[0m\u001b[0;34m[\u001b[0m\u001b[0;34m(\u001b[0m\u001b[0mf\u001b[0m\u001b[0;34m.\u001b[0m\u001b[0mstat\u001b[0m\u001b[0;34m(\u001b[0m\u001b[0;34m)\u001b[0m\u001b[0;34m.\u001b[0m\u001b[0mst_size\u001b[0m\u001b[0;34m,\u001b[0m \u001b[0mf\u001b[0m\u001b[0;34m.\u001b[0m\u001b[0mname\u001b[0m\u001b[0;34m)\u001b[0m \u001b[0;32mfor\u001b[0m \u001b[0mf\u001b[0m \u001b[0;32min\u001b[0m \u001b[0mos\u001b[0m\u001b[0;34m.\u001b[0m\u001b[0mscandir\u001b[0m\u001b[0;34m(\u001b[0m\u001b[0mdatafolder\u001b[0m\u001b[0;34m)\u001b[0m \u001b[0;32mif\u001b[0m \u001b[0mre\u001b[0m\u001b[0;34m.\u001b[0m\u001b[0mmatch\u001b[0m\u001b[0;34m(\u001b[0m\u001b[0;34m'^A_\\d+.csv'\u001b[0m\u001b[0;34m,\u001b[0m \u001b[0mf\u001b[0m\u001b[0;34m.\u001b[0m\u001b[0mname\u001b[0m\u001b[0;34m)\u001b[0m \u001b[0;32mand\u001b[0m \u001b[0mf\u001b[0m\u001b[0;34m.\u001b[0m\u001b[0mis_file\u001b[0m\u001b[0;34m(\u001b[0m\u001b[0;34m)\u001b[0m\u001b[0;34m]\u001b[0m\u001b[0;34m\u001b[0m\u001b[0;34m\u001b[0m\u001b[0m\n\u001b[1;32m      9\u001b[0m \u001b[0murlfiles\u001b[0m\u001b[0;34m=\u001b[0m\u001b[0;34m[\u001b[0m\u001b[0;34m(\u001b[0m\u001b[0mf\u001b[0m\u001b[0;34m.\u001b[0m\u001b[0mstat\u001b[0m\u001b[0;34m(\u001b[0m\u001b[0;34m)\u001b[0m\u001b[0;34m.\u001b[0m\u001b[0mst_size\u001b[0m\u001b[0;34m,\u001b[0m \u001b[0mf\u001b[0m\u001b[0;34m.\u001b[0m\u001b[0mname\u001b[0m\u001b[0;34m)\u001b[0m \u001b[0;32mfor\u001b[0m \u001b[0mf\u001b[0m \u001b[0;32min\u001b[0m \u001b[0mos\u001b[0m\u001b[0;34m.\u001b[0m\u001b[0mscandir\u001b[0m\u001b[0;34m(\u001b[0m\u001b[0mdatafolder\u001b[0m\u001b[0;34m)\u001b[0m \u001b[0;32mif\u001b[0m \u001b[0mre\u001b[0m\u001b[0;34m.\u001b[0m\u001b[0mmatch\u001b[0m\u001b[0;34m(\u001b[0m\u001b[0;34m'^A_\\d+url.csv'\u001b[0m\u001b[0;34m,\u001b[0m \u001b[0mf\u001b[0m\u001b[0;34m.\u001b[0m\u001b[0mname\u001b[0m\u001b[0;34m)\u001b[0m \u001b[0;32mand\u001b[0m \u001b[0mf\u001b[0m\u001b[0;34m.\u001b[0m\u001b[0mis_file\u001b[0m\u001b[0;34m(\u001b[0m\u001b[0;34m)\u001b[0m\u001b[0;34m]\u001b[0m\u001b[0;34m\u001b[0m\u001b[0;34m\u001b[0m\u001b[0m\n",
      "\u001b[0;31mFileNotFoundError\u001b[0m: [Errno 2] No such file or directory: 'C:\\\\Coding\\\\utility_git\\\\Notebooks\\\\data'"
     ]
    }
   ],
   "source": [
    "display(Markdown((\n",
    "\"\"\"\n",
    "<font size=4 color=\"black\">Some stats</font>\n",
    "\"\"\"\n",
    ")))\n",
    "datafolder='C:\\\\Coding\\\\utility_git\\\\Notebooks\\\\data'\n",
    "files=listdir(datafolder)\n",
    "datafiles=[(f.stat().st_size, f.name) for f in os.scandir(datafolder) if re.match('^A_\\d+.csv', f.name) and f.is_file()]\n",
    "urlfiles=[(f.stat().st_size, f.name) for f in os.scandir(datafolder) if re.match('^A_\\d+url.csv', f.name) and f.is_file()]\n",
    "collegesunreachable=len(urlfiles)-len(datafiles)\n",
    "print('Raw data volume: \\n{:^10.2f} GB Data.\\nRaw data files:\\n{:^11,.0f}\\nUrl files:\\n{:^11,.0f}\\nColleges unreachable:\\n{:^11,.0f}'.format(sum([i[0] for i in datafiles])/1000000000, len(datafiles),len(durlfiles), collegesunreachable))"
   ]
  },
  {
   "cell_type": "code",
   "execution_count": null,
   "metadata": {
    "ExecuteTime": {
     "end_time": "2020-01-12T16:40:50.195395Z",
     "start_time": "2020-01-12T16:40:50.190363Z"
    }
   },
   "outputs": [],
   "source": [
    "display(Markdown((\n",
    "\"\"\"\n",
    "### Why clean up?\n",
    "\n",
    "It is all because computers are not intelligent enough. \n",
    "Feed proper data to machine learning algorithms. \n",
    "<br>Depends on goals and algorithms, sually data cleaning includes: \n",
    "    1. missing\n",
    "    2. duplicates\n",
    "    3. mis-aligned, i.e., structure mis-match\n",
    "\n",
    "### Why Pandas DataFrame?   \n",
    "lots of wheels invented for us.\n",
    "<br>easy to attach our wheels\n",
    "\"\"\"\n",
    ")))"
   ]
  },
  {
   "cell_type": "code",
   "execution_count": null,
   "metadata": {
    "ExecuteTime": {
     "end_time": "2020-01-12T01:20:50.848542Z",
     "start_time": "2020-01-12T01:20:50.844506Z"
    }
   },
   "outputs": [],
   "source": [
    "display(Markdown((\n",
    "\"\"\"\n",
    "### 2). Pandas Series Recap\n",
    "Pandas Series is a one-dimensional labeled array capable of holding data of any type (integer, string, float, python objects, etc.). The axis labels are collectively called index. \n",
    "<br>Pandas Series is nothing but a column in an excel sheet.\n",
    "\"\"\"\n",
    "))) "
   ]
  },
  {
   "cell_type": "code",
   "execution_count": null,
   "metadata": {
    "ExecuteTime": {
     "end_time": "2020-01-12T01:20:11.240223Z",
     "start_time": "2020-01-12T01:20:11.188224Z"
    }
   },
   "outputs": [],
   "source": [
    "help(pd.Series)"
   ]
  },
  {
   "cell_type": "code",
   "execution_count": null,
   "metadata": {
    "ExecuteTime": {
     "end_time": "2020-01-12T02:03:03.849778Z",
     "start_time": "2020-01-12T02:03:03.838772Z"
    }
   },
   "outputs": [],
   "source": [
    "display(Markdown(\"\"\"#### Without Index\"\"\"))\n",
    "ps=pd.Series(data=[212,2,22,2,2], name='rad')\n",
    "print(ps)\n",
    "print(ps.index)\n",
    "display(Markdown(\"\"\"#### With Index\"\"\"))\n",
    "ps2=pd.Series(data=[212,2,22,2,2], index=[1,2,3,5,9], name='rad2')\n",
    "print(ps2)\n",
    "print(ps2.index)\n",
    "print(ps3.axes)"
   ]
  },
  {
   "cell_type": "code",
   "execution_count": null,
   "metadata": {
    "ExecuteTime": {
     "end_time": "2020-01-12T02:04:19.375482Z",
     "start_time": "2020-01-12T02:04:19.366481Z"
    }
   },
   "outputs": [],
   "source": [
    "display(Markdown(\"\"\"#### create series from scalar and dic \"\"\"))\n",
    "ass=pd.Series(data=299, index=[1,2,3,4,567,])\n",
    "print(ass[567])\n",
    "print(ass.values)\n",
    "print(ass.agg(['min', 'max']))\n",
    "print('\\n')\n",
    "dd={'a':543,'b':32, 'cd':99}\n",
    "dss=pd.Series(dd, name='dd')\n",
    "print(dss)\n",
    "print(dss.index)"
   ]
  },
  {
   "cell_type": "code",
   "execution_count": null,
   "metadata": {
    "ExecuteTime": {
     "end_time": "2020-01-12T01:27:34.411531Z",
     "start_time": "2020-01-12T01:27:34.403497Z"
    }
   },
   "outputs": [],
   "source": [
    "ps3=pd.Series(data=[1,2,3,4,5,6,7,8,43], index=[1,1,1,1,3,4,5,66,66], name=\"ps3\")\n",
    "display(Markdown(\"#### index == label for pandas series. \"))\n",
    "print(ps3[1])\n",
    "print('\\nlength of a series :{:^10}\\nshape: {:}'.format(len(ps3), ps3.shape))"
   ]
  },
  {
   "cell_type": "code",
   "execution_count": null,
   "metadata": {
    "ExecuteTime": {
     "end_time": "2020-01-12T02:05:51.179982Z",
     "start_time": "2020-01-12T02:05:51.165940Z"
    }
   },
   "outputs": [],
   "source": [
    "display(Markdown(\"\"\"#### Operations on series\"\"\"))\n",
    "print(ps3.agg(['max', 'min']))\n",
    "print(\"largest N:\", ps3.nlargest)\n",
    "print(\"apply:\", ps3.apply(lambda x: x**2))\n",
    "print('\\n')\n",
    "print('argmax replaced by idxmax:', ps3.idxmax()) #ps3.argmax()\n",
    "print('\\n') \n",
    "print(\"is in: \", ps3.isin([299, 2333]))"
   ]
  },
  {
   "cell_type": "code",
   "execution_count": null,
   "metadata": {
    "ExecuteTime": {
     "end_time": "2020-01-12T02:19:21.434715Z",
     "start_time": "2020-01-12T02:19:21.425714Z"
    }
   },
   "outputs": [],
   "source": [
    "display(Markdown(\"\"\"### cumsum, cummax, cummin\"\"\"))\n",
    "ps=pd.Series(data=[1,2,3,4,5,6,7,-9,-8, 3,2,111,1,-5,0])\n",
    "print(\"Cumulative Sum:\\n\", ps.cumsum())\n",
    "print(\"Cumulative Max:\\n\", ps.cummax())\n",
    "print(\"Cumulative Min:\\n\", ps.cummin())"
   ]
  },
  {
   "cell_type": "code",
   "execution_count": null,
   "metadata": {
    "ExecuteTime": {
     "end_time": "2020-01-12T05:03:49.004562Z",
     "start_time": "2020-01-12T05:03:48.995578Z"
    }
   },
   "outputs": [],
   "source": [
    "display(Markdown(\"\"\"# 3). Pandas DataFrame Introduction \"\"\"))\n",
    "display(Markdown(\"\"\"# Pandas DataFrame = $\\sum_{i=0}^N$ Pandas Series \"\"\"))"
   ]
  },
  {
   "cell_type": "code",
   "execution_count": null,
   "metadata": {
    "ExecuteTime": {
     "end_time": "2020-01-12T05:04:24.738926Z",
     "start_time": "2020-01-12T05:04:24.727923Z"
    }
   },
   "outputs": [],
   "source": [
    "display(Markdown(\"\"\"### <font color='green'>A.  Create a dataframe</font> \"\"\"))\n",
    "display(Markdown(\"\"\"### a. random one \"\"\"))\n",
    "dates = pd.date_range('20200112', periods=6, freq='H') #D, M, H, Y\n",
    "df = pd.DataFrame(np.random.randn(6, 4), index=dates, columns=list('ABCD'))\n",
    "print(df)"
   ]
  },
  {
   "cell_type": "code",
   "execution_count": null,
   "metadata": {
    "ExecuteTime": {
     "end_time": "2020-01-12T02:27:20.734007Z",
     "start_time": "2020-01-12T02:27:20.730006Z"
    }
   },
   "outputs": [],
   "source": [
    "help(pd.date_range)"
   ]
  },
  {
   "cell_type": "code",
   "execution_count": null,
   "metadata": {
    "ExecuteTime": {
     "end_time": "2020-01-12T04:37:53.895583Z",
     "start_time": "2020-01-12T04:37:53.879618Z"
    }
   },
   "outputs": [],
   "source": [
    "display(Markdown(\"\"\"### 2. ours \"\"\"))\n",
    "df=pd.DataFrame({'Student': 'John Smith',\n",
    "'Date': pd.Timestamp('20130102'),\n",
    "'School': 'Interlake',              \n",
    "'GPA': pd.Series(3.88, index=list(range(4)), dtype='float32'),\n",
    "'Exam Length': np.array([3] * 4, dtype='int32'),\n",
    "'Test Type': pd.Categorical([\"final\", \"train\", \"final\", \"train\"])\n",
    " })\n",
    "print(\"data types:\\n\", df.dtypes)\n",
    "df"
   ]
  },
  {
   "cell_type": "code",
   "execution_count": null,
   "metadata": {
    "ExecuteTime": {
     "end_time": "2020-01-12T04:48:41.125898Z",
     "start_time": "2020-01-12T04:48:41.101902Z"
    }
   },
   "outputs": [],
   "source": [
    "display(Markdown(\"\"\"### 3. from csv: College Textual Data \\n Get the largest file\"\"\"))\n",
    "datafiles=[(f.stat().st_size, f.name) for f in os.scandir(datafolder) if re.match('^A_\\d+.csv', f.name) and f.is_file()]\n",
    "datafiles.sort(key = lambda x: x[0], reverse=True)\n",
    "print(datafolder) \n",
    "print(datafiles[0])\n",
    "print('')\n",
    "print(help(pd.read_csv))"
   ]
  },
  {
   "cell_type": "code",
   "execution_count": null,
   "metadata": {
    "ExecuteTime": {
     "end_time": "2020-01-12T04:55:25.417685Z",
     "start_time": "2020-01-12T04:55:25.412727Z"
    }
   },
   "outputs": [],
   "source": [
    "help(pd.set_option)"
   ]
  },
  {
   "cell_type": "code",
   "execution_count": null,
   "metadata": {
    "ExecuteTime": {
     "end_time": "2020-01-12T05:00:33.451122Z",
     "start_time": "2020-01-12T05:00:33.434095Z"
    }
   },
   "outputs": [],
   "source": [
    "display(Markdown(\"\"\"#### <font color='blue'> peek run</font> \"\"\"))\n",
    "pd.get_option(\"display.max_rows\")\n",
    "#pd.set_option('display.width',1000)\n",
    "pd.set_option('display.max_colwidth', -1)\n",
    "file=path.join('C:\\\\Coding\\\\utility_git\\\\Notebooks\\\\data','A_100002.csv')\n",
    "names=['url','parent','ps','ns','text']\n",
    "sep='\\t'\n",
    "#df_csv=pd.read_csv(file,   nrows=1000, sep=sep)\n",
    "df_csv=pd.read_csv(file, skiprows=1, names=names,  nrows=3, sep=sep) \n",
    "df_csv"
   ]
  },
  {
   "cell_type": "code",
   "execution_count": null,
   "metadata": {
    "ExecuteTime": {
     "end_time": "2020-01-12T05:01:47.774854Z",
     "start_time": "2020-01-12T05:01:47.306899Z"
    }
   },
   "outputs": [],
   "source": [
    "file=path.join('C:\\\\Coding\\\\utility_git\\\\Notebooks\\\\data','A_100002.csv')\n",
    "names=['url','parent','ps','ns','text']\n",
    "sep='\\t'\n",
    "#df_csv=pd.read_csv(file,   nrows=1000, sep=sep)\n",
    "df_csv=pd.read_csv(file, skiprows=1, names=names,  nrows=None, sep=sep)  \n",
    "df_csv.head(5)"
   ]
  },
  {
   "cell_type": "code",
   "execution_count": null,
   "metadata": {
    "ExecuteTime": {
     "end_time": "2020-01-12T05:36:02.079142Z",
     "start_time": "2020-01-12T05:36:01.660110Z"
    }
   },
   "outputs": [],
   "source": [
    "display(Markdown(\"\"\"### <font color='green'>B.  view a dataframe</font> \"\"\"))\n",
    "display(Markdown(\"\"\"####  df_csv.shape \"\"\"))\n",
    "display(Markdown(\"\"\"####  df_csv.columns \"\"\"))\n",
    "display(Markdown(\"\"\"####  df_csv.dtypes \"\"\"))\n",
    "display(Markdown(\"\"\"####  df_csv.values \"\"\"))\n",
    "display(Markdown(\"\"\"####  df_csv.head() \"\"\"))\n",
    "display(Markdown(\"\"\"####  df_csv.tail() \"\"\"))\n",
    "display(Markdown(\"\"\"####  df_csv.index \"\"\"))\n",
    "display(Markdown(\"\"\"####  df_csv.describe() \"\"\")) \n",
    "display(Markdown(\"\"\"####  df_csv.sort_index(axis=1, ascending=False) \"\"\")) \n",
    "display(Markdown(\"\"\"####  df_csv.sort_values(by='url', ascending=False) \"\"\"))   \n",
    "print('')\n",
    "display(Markdown(\"\"\"####  what if i want to change data type \"\"\"))  \n",
    "df_csv['readtimes']=df_csv['url'].apply(lambda x: len(x))\n",
    "df_csv['readtimes'].astype('str')\n",
    "df_csv.head()"
   ]
  },
  {
   "cell_type": "code",
   "execution_count": 8,
   "metadata": {
    "ExecuteTime": {
     "end_time": "2020-01-12T05:19:25.256154Z",
     "start_time": "2020-01-12T05:19:25.224791Z"
    }
   },
   "outputs": [
    {
     "ename": "NameError",
     "evalue": "name 'df_csv' is not defined",
     "output_type": "error",
     "traceback": [
      "\u001b[0;31m---------------------------------------------------------------------------\u001b[0m",
      "\u001b[0;31mNameError\u001b[0m                                 Traceback (most recent call last)",
      "\u001b[0;32m<ipython-input-8-ec40c2b611d1>\u001b[0m in \u001b[0;36m<module>\u001b[0;34m\u001b[0m\n\u001b[1;32m      1\u001b[0m \u001b[0;31m#reset dataframe\u001b[0m\u001b[0;34m\u001b[0m\u001b[0;34m\u001b[0m\u001b[0;34m\u001b[0m\u001b[0m\n\u001b[0;32m----> 2\u001b[0;31m \u001b[0mdf_csv\u001b[0m\u001b[0;34m.\u001b[0m\u001b[0mdrop\u001b[0m\u001b[0;34m(\u001b[0m\u001b[0mcolumns\u001b[0m\u001b[0;34m=\u001b[0m\u001b[0;34m{\u001b[0m\u001b[0;34m'readtimes'\u001b[0m\u001b[0;34m}\u001b[0m\u001b[0;34m,\u001b[0m \u001b[0minplace\u001b[0m\u001b[0;34m=\u001b[0m\u001b[0;32mTrue\u001b[0m\u001b[0;34m)\u001b[0m\u001b[0;34m\u001b[0m\u001b[0;34m\u001b[0m\u001b[0m\n\u001b[0m",
      "\u001b[0;31mNameError\u001b[0m: name 'df_csv' is not defined"
     ]
    }
   ],
   "source": [
    "#reset dataframe\n",
    "df_csv.drop(columns={'readtimes'}, inplace=True)"
   ]
  },
  {
   "cell_type": "code",
   "execution_count": 9,
   "metadata": {
    "ExecuteTime": {
     "end_time": "2020-01-12T05:33:55.875671Z",
     "start_time": "2020-01-12T05:33:55.859701Z"
    }
   },
   "outputs": [
    {
     "data": {
      "text/markdown": [
       "### <font color='green'>C.  Inspect and Select</font> "
      ],
      "text/plain": [
       "<IPython.core.display.Markdown object>"
      ]
     },
     "metadata": {},
     "output_type": "display_data"
    },
    {
     "data": {
      "text/markdown": [
       "#### <font color ='red'> recommend to use optimized method: .at, .iat, .loc and .iloc. </font> "
      ],
      "text/plain": [
       "<IPython.core.display.Markdown object>"
      ]
     },
     "metadata": {},
     "output_type": "display_data"
    },
    {
     "data": {
      "text/markdown": [
       "#### Select By Columns:\n",
       " df_csv['url'] . equals to df_csv.url "
      ],
      "text/plain": [
       "<IPython.core.display.Markdown object>"
      ]
     },
     "metadata": {},
     "output_type": "display_data"
    },
    {
     "data": {
      "text/markdown": [
       "#### Select By Rows:\n",
       " df_csv[3:5]  "
      ],
      "text/plain": [
       "<IPython.core.display.Markdown object>"
      ]
     },
     "metadata": {},
     "output_type": "display_data"
    },
    {
     "data": {
      "text/markdown": [
       "#### Select By Rows and Columns:\n",
       " df_csv.loc[:, ['url', 'text']]  "
      ],
      "text/plain": [
       "<IPython.core.display.Markdown object>"
      ]
     },
     "metadata": {},
     "output_type": "display_data"
    },
    {
     "data": {
      "text/markdown": [
       " \n",
       " df_csv.loc[1:50, ['url', 'text']] "
      ],
      "text/plain": [
       "<IPython.core.display.Markdown object>"
      ]
     },
     "metadata": {},
     "output_type": "display_data"
    },
    {
     "data": {
      "text/markdown": [
       "#### Select By Position:\n",
       " df_csv.iloc[3]  "
      ],
      "text/plain": [
       "<IPython.core.display.Markdown object>"
      ]
     },
     "metadata": {},
     "output_type": "display_data"
    },
    {
     "data": {
      "text/markdown": [
       " \n",
       " df_csv.iloc[3:5, 0:2] "
      ],
      "text/plain": [
       "<IPython.core.display.Markdown object>"
      ]
     },
     "metadata": {},
     "output_type": "display_data"
    },
    {
     "data": {
      "text/markdown": [
       " \n",
       "of course this always works: df_csv.iloc[3:5,:], df_csv.iloc[:,1:3]  "
      ],
      "text/plain": [
       "<IPython.core.display.Markdown object>"
      ]
     },
     "metadata": {},
     "output_type": "display_data"
    },
    {
     "data": {
      "text/markdown": [
       "#### Get a scalar: \n",
       "df_csv.iloc[5,0]. a faster way: df_csv.iat[5,0] "
      ],
      "text/plain": [
       "<IPython.core.display.Markdown object>"
      ]
     },
     "metadata": {},
     "output_type": "display_data"
    }
   ],
   "source": [
    "display(Markdown(\"\"\"### <font color='green'>C.  Inspect and Select</font> \"\"\"))   \n",
    "display(Markdown(\"\"\"#### <font color ='red'> recommend to use optimized method: .at, .iat, .loc and .iloc. </font> \"\"\"))\n",
    "display(Markdown(\"\"\"#### Select By Columns:\\n df_csv['url'] . equals to df_csv.url \"\"\"))\n",
    "display(Markdown(\"\"\"#### Select By Rows:\\n df_csv[3:5]  \"\"\"))\n",
    "display(Markdown(\"\"\"#### Select By Rows and Columns:\\n df_csv.loc[:, ['url', 'text']]  \"\"\"))\n",
    "display(Markdown(\"\"\" \\n df_csv.loc[1:50, ['url', 'text']] \"\"\")) \n",
    "display(Markdown(\"\"\"#### Select By Position:\\n df_csv.iloc[3]  \"\"\"))\n",
    "display(Markdown(\"\"\" \\n df_csv.iloc[3:5, 0:2] \"\"\"))  \n",
    "display(Markdown(\"\"\" \\nof course this always works: df_csv.iloc[3:5,:], df_csv.iloc[:,1:3]  \"\"\")) \n",
    "display(Markdown(\"\"\"#### Get a scalar: \\ndf_csv.iloc[5,0]. a faster way: df_csv.iat[5,0] \"\"\"))"
   ]
  },
  {
   "cell_type": "code",
   "execution_count": 10,
   "metadata": {
    "ExecuteTime": {
     "end_time": "2020-01-12T05:53:42.870854Z",
     "start_time": "2020-01-12T05:53:42.861820Z"
    }
   },
   "outputs": [
    {
     "data": {
      "text/markdown": [
       "### <font color='green'>D.  Boolean indexing</font> "
      ],
      "text/plain": [
       "<IPython.core.display.Markdown object>"
      ]
     },
     "metadata": {},
     "output_type": "display_data"
    },
    {
     "data": {
      "text/markdown": [
       "#### True or false. df_csv "
      ],
      "text/plain": [
       "<IPython.core.display.Markdown object>"
      ]
     },
     "metadata": {},
     "output_type": "display_data"
    },
    {
     "data": {
      "text/markdown": [
       "#### Lambda apply: \n",
       "df_csv[df_csv['url'].apply(lambda x: 'navbar' in x)]\n",
       "#### Compare: \n",
       "df_csv[df_csv['readtimes']==234]\n",
       "#### isin: \n",
       "df_csv[df_csv['parent'].isin(['span', 'abc'])].head()\n",
       "#### str contains: \n",
       "df_csv[df_csv['parent'].str.contains('span')].head()\n",
       "#### True/False: \n",
       "df_csv['Long']=df_csv['readtimes']>123\n"
      ],
      "text/plain": [
       "<IPython.core.display.Markdown object>"
      ]
     },
     "metadata": {},
     "output_type": "display_data"
    }
   ],
   "source": [
    "display(Markdown(\"\"\"### <font color='green'>D.  Boolean indexing</font> \"\"\"))   \n",
    "display(Markdown(\"\"\"#### True or false. df_csv \"\"\"))\n",
    "display(Markdown(\"\"\"#### Lambda apply: \\ndf_csv[df_csv['url'].apply(lambda x: 'navbar' in x)]\n",
    "#### Compare: \\ndf_csv[df_csv['readtimes']==234]\n",
    "#### isin: \\ndf_csv[df_csv['parent'].isin(['span', 'abc'])].head()\n",
    "#### str contains: \\ndf_csv[df_csv['parent'].str.contains('span')].head()\n",
    "#### True/False: \\ndf_csv['Long']=df_csv['readtimes']>123\n",
    "\"\"\"))"
   ]
  },
  {
   "cell_type": "code",
   "execution_count": 11,
   "metadata": {
    "ExecuteTime": {
     "end_time": "2020-01-12T05:43:22.698286Z",
     "start_time": "2020-01-12T05:43:22.507196Z"
    }
   },
   "outputs": [
    {
     "ename": "NameError",
     "evalue": "name 'df_csv' is not defined",
     "output_type": "error",
     "traceback": [
      "\u001b[0;31m---------------------------------------------------------------------------\u001b[0m",
      "\u001b[0;31mNameError\u001b[0m                                 Traceback (most recent call last)",
      "\u001b[0;32m<ipython-input-11-cd5372da94e5>\u001b[0m in \u001b[0;36m<module>\u001b[0;34m\u001b[0m\n\u001b[0;32m----> 1\u001b[0;31m \u001b[0;32mif\u001b[0m \u001b[0;34m'readtimes'\u001b[0m  \u001b[0;32min\u001b[0m \u001b[0mlist\u001b[0m\u001b[0;34m(\u001b[0m\u001b[0mdf_csv\u001b[0m\u001b[0;34m.\u001b[0m\u001b[0mcolumns\u001b[0m\u001b[0;34m)\u001b[0m\u001b[0;34m:\u001b[0m\u001b[0;34m\u001b[0m\u001b[0;34m\u001b[0m\u001b[0m\n\u001b[0m\u001b[1;32m      2\u001b[0m     \u001b[0mdf_csv\u001b[0m\u001b[0;34m.\u001b[0m\u001b[0mdrop\u001b[0m\u001b[0;34m(\u001b[0m\u001b[0mcolumns\u001b[0m\u001b[0;34m=\u001b[0m\u001b[0;34m[\u001b[0m\u001b[0;34m'readtimes'\u001b[0m\u001b[0;34m]\u001b[0m\u001b[0;34m,\u001b[0m \u001b[0minplace\u001b[0m\u001b[0;34m=\u001b[0m\u001b[0;32mTrue\u001b[0m\u001b[0;34m)\u001b[0m\u001b[0;34m\u001b[0m\u001b[0;34m\u001b[0m\u001b[0m\n\u001b[1;32m      3\u001b[0m \u001b[0mdf_csv\u001b[0m\u001b[0;34m.\u001b[0m\u001b[0mhead\u001b[0m\u001b[0;34m(\u001b[0m\u001b[0;34m)\u001b[0m\u001b[0;34m\u001b[0m\u001b[0;34m\u001b[0m\u001b[0m\n\u001b[1;32m      4\u001b[0m \u001b[0;32mif\u001b[0m \u001b[0;34m'readtimes'\u001b[0m \u001b[0;32mnot\u001b[0m \u001b[0;32min\u001b[0m \u001b[0mlist\u001b[0m\u001b[0;34m(\u001b[0m\u001b[0mdf_csv\u001b[0m\u001b[0;34m.\u001b[0m\u001b[0mcolumns\u001b[0m\u001b[0;34m)\u001b[0m\u001b[0;34m:\u001b[0m\u001b[0;34m\u001b[0m\u001b[0;34m\u001b[0m\u001b[0m\n\u001b[1;32m      5\u001b[0m     \u001b[0mdf_csv\u001b[0m\u001b[0;34m[\u001b[0m\u001b[0;34m'readtimes'\u001b[0m\u001b[0;34m]\u001b[0m\u001b[0;34m=\u001b[0m\u001b[0mdf_csv\u001b[0m\u001b[0;34m[\u001b[0m\u001b[0;34m'url'\u001b[0m\u001b[0;34m]\u001b[0m\u001b[0;34m.\u001b[0m\u001b[0mapply\u001b[0m\u001b[0;34m(\u001b[0m\u001b[0;32mlambda\u001b[0m \u001b[0mx\u001b[0m\u001b[0;34m:\u001b[0m \u001b[0mlen\u001b[0m\u001b[0;34m(\u001b[0m\u001b[0mx\u001b[0m\u001b[0;34m)\u001b[0m\u001b[0;34m)\u001b[0m\u001b[0;34m\u001b[0m\u001b[0;34m\u001b[0m\u001b[0m\n",
      "\u001b[0;31mNameError\u001b[0m: name 'df_csv' is not defined"
     ]
    }
   ],
   "source": [
    "if 'readtimes'  in list(df_csv.columns):\n",
    "    df_csv.drop(columns=['readtimes'], inplace=True)\n",
    "df_csv.head()\n",
    "if 'readtimes' not in list(df_csv.columns):\n",
    "    df_csv['readtimes']=df_csv['url'].apply(lambda x: len(x)) "
   ]
  },
  {
   "cell_type": "code",
   "execution_count": 12,
   "metadata": {
    "ExecuteTime": {
     "end_time": "2020-01-12T06:02:56.860577Z",
     "start_time": "2020-01-12T06:02:56.854574Z"
    }
   },
   "outputs": [
    {
     "data": {
      "text/markdown": [
       "### <font color='green'>E.  Setting</font> "
      ],
      "text/plain": [
       "<IPython.core.display.Markdown object>"
      ]
     },
     "metadata": {},
     "output_type": "display_data"
    },
    {
     "data": {
      "text/markdown": [
       "#### Set New Column \n",
       "\n",
       "ff=pd.DataFrame()\n",
       "s1 = pd.Series([1, 2, 3, 4, 5, 6], index=pd.date_range('20130102', periods=6))\n",
       "ff['S'] = s1\n",
       "#### Set a new values to a \"cell\"\n",
       "df_csv.iat[0,2] ='Test' \n",
       "\n",
       "df_csv.at[0,'ns'] ='Test' \n",
       "\n",
       "#### Set a new values to a column \n",
       "df_csv.loc[:, 'ns'] =np.array(['empty']*len(df_csv))\n"
      ],
      "text/plain": [
       "<IPython.core.display.Markdown object>"
      ]
     },
     "metadata": {},
     "output_type": "display_data"
    }
   ],
   "source": [
    "display(Markdown(\"\"\"### <font color='green'>E.  Setting</font> \"\"\"))   \n",
    "display(Markdown(\"\"\"#### Set New Column \\n\n",
    "ff=pd.DataFrame()\n",
    "s1 = pd.Series([1, 2, 3, 4, 5, 6], index=pd.date_range('20130102', periods=6))\n",
    "ff['S'] = s1\n",
    "#### Set a new values to a \"cell\"\n",
    "df_csv.iat[0,2] ='Test' \\n\n",
    "df_csv.at[0,'ns'] ='Test' \\n\n",
    "#### Set a new values to a column \\ndf_csv.loc[:, 'ns'] =np.array(['empty']*len(df_csv))\n",
    "\"\"\"))    \n",
    "    "
   ]
  },
  {
   "cell_type": "code",
   "execution_count": 13,
   "metadata": {
    "ExecuteTime": {
     "end_time": "2020-01-12T06:10:54.697748Z",
     "start_time": "2020-01-12T06:10:54.691746Z"
    }
   },
   "outputs": [
    {
     "data": {
      "text/markdown": [
       "### <font color='green'>E. Missing Data</font> "
      ],
      "text/plain": [
       "<IPython.core.display.Markdown object>"
      ]
     },
     "metadata": {},
     "output_type": "display_data"
    },
    {
     "data": {
      "text/markdown": [
       "#### Drop any rows that have missing data. NaN \n",
       "\n",
       "df_csv.dropna(how='any') #it is safe. since inplace is default to False\n",
       "#### Drop any rows that have missing data with specific columns.  \n",
       "\n",
       "df_csv.dropna(axis=0, subset=['parent', 'ps']) #it is safe. since inplace is default to False\n",
       "#### Fill missing data:\n",
       "\n",
       "df_csv.fillna(value='n/a')\n",
       "#### Get Boolean Mask:\n",
       "\n",
       "pd.isna(df_csv)\n"
      ],
      "text/plain": [
       "<IPython.core.display.Markdown object>"
      ]
     },
     "metadata": {},
     "output_type": "display_data"
    }
   ],
   "source": [
    "display(Markdown(\"\"\"### <font color='green'>E. Missing Data</font> \"\"\"))   \n",
    "display(Markdown(\"\"\"#### Drop any rows that have missing data. NaN \\n\n",
    "df_csv.dropna(how='any') #it is safe. since inplace is default to False\n",
    "#### Drop any rows that have missing data with specific columns.  \\n\n",
    "df_csv.dropna(axis=0, subset=['parent', 'ps']) #it is safe. since inplace is default to False\n",
    "#### Fill missing data:\\n\n",
    "df_csv.fillna(value='n/a')\n",
    "#### Get Boolean Mask:\\n\n",
    "pd.isna(df_csv)\n",
    "\"\"\"  ))                 "
   ]
  },
  {
   "cell_type": "code",
   "execution_count": null,
   "metadata": {
    "ExecuteTime": {
     "end_time": "2020-01-12T06:09:11.083898Z",
     "start_time": "2020-01-12T06:09:11.021860Z"
    }
   },
   "outputs": [],
   "source": []
  },
  {
   "cell_type": "code",
   "execution_count": 14,
   "metadata": {
    "ExecuteTime": {
     "end_time": "2020-01-12T06:15:45.714002Z",
     "start_time": "2020-01-12T06:15:45.707995Z"
    }
   },
   "outputs": [
    {
     "data": {
      "text/markdown": [
       "### <font color='green'>F. Operations</font> "
      ],
      "text/plain": [
       "<IPython.core.display.Markdown object>"
      ]
     },
     "metadata": {},
     "output_type": "display_data"
    },
    {
     "data": {
      "text/markdown": [
       "#### Stats.   \n",
       "\n",
       "df_csv.describe()   #only numeric columns. missing data are excluded\n",
       "\n",
       "df_csv.info() \n",
       "\n",
       "df_csv.mean() \n",
       "\n",
       "df_csv.mean(1) \n",
       "\n",
       " \n"
      ],
      "text/plain": [
       "<IPython.core.display.Markdown object>"
      ]
     },
     "metadata": {},
     "output_type": "display_data"
    }
   ],
   "source": [
    "display(Markdown(\"\"\"### <font color='green'>F. Operations</font> \"\"\"))   \n",
    "display(Markdown(\"\"\"#### Stats.   \\n\n",
    "df_csv.describe()   #only numeric columns. missing data are excluded\\n\n",
    "df_csv.info() \\n\n",
    "df_csv.mean() \\n\n",
    "df_csv.mean(1) \\n\n",
    " \n",
    "\"\"\"  ))           \n"
   ]
  },
  {
   "cell_type": "code",
   "execution_count": null,
   "metadata": {
    "ExecuteTime": {
     "end_time": "2020-01-12T06:13:41.173315Z",
     "start_time": "2020-01-12T06:13:41.148313Z"
    }
   },
   "outputs": [],
   "source": []
  },
  {
   "cell_type": "code",
   "execution_count": 15,
   "metadata": {
    "ExecuteTime": {
     "end_time": "2020-01-12T06:23:02.819796Z",
     "start_time": "2020-01-12T06:23:02.813827Z"
    }
   },
   "outputs": [
    {
     "data": {
      "text/markdown": [
       "### <font color='green'>F. Apply</font> "
      ],
      "text/plain": [
       "<IPython.core.display.Markdown object>"
      ]
     },
     "metadata": {},
     "output_type": "display_data"
    },
    {
     "data": {
      "text/markdown": [
       "#### simple apply \n",
       "df_csv.apply(np.cumsum)\n",
       "####  lambda. advanced. \n",
       "\n",
       "if 'readtimes' not in list(df_csv.columns):\n",
       "    df_csv['readtimes']=df_csv['url'].apply(lambda x: len(x)) \n"
      ],
      "text/plain": [
       "<IPython.core.display.Markdown object>"
      ]
     },
     "metadata": {},
     "output_type": "display_data"
    }
   ],
   "source": [
    "display(Markdown(\"\"\"### <font color='green'>F. Apply</font> \"\"\"))   \n",
    "display(Markdown(\"\"\"#### simple apply \n",
    "df_csv.apply(np.cumsum)\n",
    "####  lambda. advanced. \\n\n",
    "if 'readtimes' not in list(df_csv.columns):\n",
    "    df_csv['readtimes']=df_csv['url'].apply(lambda x: len(x)) \n",
    "\"\"\"  ))           \n"
   ]
  },
  {
   "cell_type": "code",
   "execution_count": 16,
   "metadata": {
    "ExecuteTime": {
     "end_time": "2020-01-12T06:26:02.351730Z",
     "start_time": "2020-01-12T06:26:02.344718Z"
    }
   },
   "outputs": [
    {
     "data": {
      "text/markdown": [
       "### <font color='green'>G. Other Advanced Opreations (next week)</font> "
      ],
      "text/plain": [
       "<IPython.core.display.Markdown object>"
      ]
     },
     "metadata": {},
     "output_type": "display_data"
    },
    {
     "data": {
      "text/markdown": [
       "####  Merge, concat, append, aggregation, reshaping (stack, unstack), pivot tables, and visualization\n"
      ],
      "text/plain": [
       "<IPython.core.display.Markdown object>"
      ]
     },
     "metadata": {},
     "output_type": "display_data"
    }
   ],
   "source": [
    "display(Markdown(\"\"\"### <font color='green'>G. Other Advanced Opreations (next week)</font> \"\"\"))   \n",
    "display(Markdown(\"\"\"####  Merge, concat, append, aggregation, reshaping (stack, unstack), pivot tables, and visualization\n",
    "\"\"\"  ))           \n"
   ]
  },
  {
   "cell_type": "code",
   "execution_count": null,
   "metadata": {},
   "outputs": [],
   "source": []
  },
  {
   "cell_type": "code",
   "execution_count": 17,
   "metadata": {
    "ExecuteTime": {
     "end_time": "2020-01-12T06:27:48.743345Z",
     "start_time": "2020-01-12T06:27:48.738339Z"
    }
   },
   "outputs": [
    {
     "data": {
      "text/markdown": [
       "### <font color='green'>H. Output (next week)</font> "
      ],
      "text/plain": [
       "<IPython.core.display.Markdown object>"
      ]
     },
     "metadata": {},
     "output_type": "display_data"
    },
    {
     "data": {
      "text/markdown": [
       "####  to csv, Hierarchical Data Format (HDF)\n"
      ],
      "text/plain": [
       "<IPython.core.display.Markdown object>"
      ]
     },
     "metadata": {},
     "output_type": "display_data"
    }
   ],
   "source": [
    "display(Markdown(\"\"\"### <font color='green'>H. Output (next week)</font> \"\"\"))   \n",
    "display(Markdown(\"\"\"####  to csv, Hierarchical Data Format (HDF)\n",
    "\"\"\"  ))         "
   ]
  },
  {
   "cell_type": "code",
   "execution_count": null,
   "metadata": {},
   "outputs": [],
   "source": []
  },
  {
   "cell_type": "code",
   "execution_count": null,
   "metadata": {},
   "outputs": [],
   "source": []
  }
 ],
 "metadata": {
  "kernelspec": {
   "display_name": "Python 3",
   "language": "python",
   "name": "python3"
  },
  "language_info": {
   "codemirror_mode": {
    "name": "ipython",
    "version": 3
   },
   "file_extension": ".py",
   "mimetype": "text/x-python",
   "name": "python",
   "nbconvert_exporter": "python",
   "pygments_lexer": "ipython3",
   "version": "3.7.4"
  },
  "toc": {
   "base_numbering": 1,
   "nav_menu": {},
   "number_sections": true,
   "sideBar": true,
   "skip_h1_title": false,
   "title_cell": "Table of Contents",
   "title_sidebar": "Contents",
   "toc_cell": false,
   "toc_position": {
    "height": "calc(100% - 180px)",
    "left": "10px",
    "top": "150px",
    "width": "165px"
   },
   "toc_section_display": true,
   "toc_window_display": true
  }
 },
 "nbformat": 4,
 "nbformat_minor": 2
}
