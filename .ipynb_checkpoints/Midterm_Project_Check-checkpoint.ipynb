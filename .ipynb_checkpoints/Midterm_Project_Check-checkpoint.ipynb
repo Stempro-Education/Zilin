{
 "cells": [
  {
   "cell_type": "code",
   "execution_count": 123,
   "metadata": {
    "ExecuteTime": {
     "end_time": "2020-01-19T20:12:53.891471Z",
     "start_time": "2020-01-19T20:12:53.871473Z"
    }
   },
   "outputs": [
    {
     "data": {
      "text/markdown": [
       "\n",
       "# Midterm Project Learning Status Check\n",
       "## Open Book Midterm:\n",
       "<ol>\n",
       "    <li><b>(200 Points)Project Statement</b><br>: What are we doing? and in high level, how we are doing it <br>You may review Phase I/II PowerPoints.<br>Words limit: 500 \n",
       "    <br></li>\n",
       "    <br><li><b>(200 Points)Impersonate and Search</b><br>:Sign in US News Compass and conduct 3 to 5 searches. <br> Save the results to HTML files (one file per search) \n",
       "    <br><a href=\"https://premium.usnews.com/best-colleges/myfit?gpa=4.0&mode=table&sat-composite=1580\">Compass Search</a>\n",
       "    <br>A sample file from search may look like this: <br>\n",
       "    <a href='./img/OneSampleCompassHtml.html'> One Sample file</a>\n",
       "    </li>\n",
       "    <br><li><b>(800 Points)Python and Content</b><br>Design and Implement a Class to extrat result from pages generated from questions. <br>Ideal output format should reflect at the following information:  </li>\n",
       "    <br> Search Criteria: <br><img src=\"./img/CompassSearchFields.PNG\" width=\"500\"/>\n",
       "    <br> Search Results: <br><img src=\"./img/CompassSearchResults.PNG\" width=\"500\"/></li>\n",
       "    <br><li><b>(400 Points)Scratching NLTK</b><br>Crawl the following page<br>\n",
       "    <a href=\"https://www.nme.com/features/greta-thunberg-full-speech-to-the-un-2019-climate-change-summit-2550824\">Greta Thunberg UN Speech</a></li>\n",
       "    <br> Tasks: \n",
       "    <br><ul>\n",
       "        <li>Get the content of her speech</li>\n",
       "        <li>Build a dataset that list all words in this speech and how many times each word appears</li>\n",
       "        <li>Sort the list of words by <br>a).Alphabetically. <br> b). by frequency\n",
       "        <li>Lemmatize all words</li>\n",
       "        <li>Choose ~30 \"difficult\" words and get the synonyms and antoyms for them.</li> \n",
       "    </ul>\n",
       "    </li>\n",
       "</ol>\n"
      ],
      "text/plain": [
       "<IPython.core.display.Markdown object>"
      ]
     },
     "metadata": {},
     "output_type": "display_data"
    }
   ],
   "source": [
    "from IPython.display import display, Markdown, Image\n",
    "display(Markdown(\n",
    "\"\"\"\n",
    "# Midterm Project Learning Status Check\n",
    "## Open Book Midterm:\n",
    "<ol>\n",
    "    <li><b>(200 Points)Project Statement</b><br>: What are we doing? and in high level, how we are doing it <br>You may review Phase I/II PowerPoints.<br>Words limit: 500 \n",
    "    <br></li>\n",
    "    <br><li><b>(200 Points)Impersonate and Search</b><br>:Sign in US News Compass and conduct 3 to 5 searches. <br> Save the results to HTML files (one file per search) \n",
    "    <br><a href=\"https://premium.usnews.com/best-colleges/myfit?gpa=4.0&mode=table&sat-composite=1580\">Compass Search</a>\n",
    "    <br>A sample file from search may look like this: <br>\n",
    "    <a href='./img/OneSampleCompassHtml.html'> One Sample file</a>\n",
    "    </li>\n",
    "    <br><li><b>(800 Points)Python and Content</b><br>Design and Implement a Class to extrat result from pages generated from questions. <br>Ideal output format should reflect at the following information:  </li>\n",
    "    <br> Search Criteria: <br><img src=\"./img/CompassSearchFields.PNG\" width=\"500\"/>\n",
    "    <br> Search Results: <br><img src=\"./img/CompassSearchResults.PNG\" width=\"500\"/></li>\n",
    "    <br><li><b>(400 Points)Scratching NLTK</b><br>Crawl the following page<br>\n",
    "    <a href=\"https://www.nme.com/features/greta-thunberg-full-speech-to-the-un-2019-climate-change-summit-2550824\">Greta Thunberg UN Speech</a></li>\n",
    "    <br> Tasks: \n",
    "    <br><ul>\n",
    "        <li>Get the content of her speech</li>\n",
    "        <li>Build a dataset that list all words in this speech and how many times each word appears</li>\n",
    "        <li>Sort the list of words by <br>a).Alphabetically. <br> b). by frequency\n",
    "        <li>Lemmatize all words</li>\n",
    "        <li>Choose ~30 \"difficult\" words and get the synonyms and antoyms for them.</li> \n",
    "    </ul>\n",
    "    </li>\n",
    "</ol>\n",
    "\"\"\"\n",
    "))   "
   ]
  },
  {
   "cell_type": "code",
   "execution_count": 124,
   "metadata": {
    "ExecuteTime": {
     "end_time": "2020-01-19T20:13:22.503472Z",
     "start_time": "2020-01-19T20:13:22.497469Z"
    }
   },
   "outputs": [
    {
     "data": {
      "text/markdown": [
       "\n",
       "## You may use the following libraries\n"
      ],
      "text/plain": [
       "<IPython.core.display.Markdown object>"
      ]
     },
     "metadata": {},
     "output_type": "display_data"
    }
   ],
   "source": []
  },
  {
   "cell_type": "code",
   "execution_count": 129,
   "metadata": {
    "ExecuteTime": {
     "end_time": "2020-01-19T20:38:19.558091Z",
     "start_time": "2020-01-19T20:38:19.550090Z"
    }
   },
   "outputs": [
    {
     "data": {
      "text/markdown": [
       "\n",
       "# Python Exam (For Python students):\n",
       "<ol>\n",
       "<li>(100 points)Write a program that contains a while loop that repeatedly asks the user to enter numeric miles they run each week.  Append each run to a list called “distance”. You may use this format [(“week1”, 23.1), (“week2”, 12.2)…]  \n",
       "</li><br><li>(100 points)Write a program that get the max, min, average, number of runs etc. \n",
       "</li><br><li>(100 points)Write a program that prompts the user to enter in an unlimited number of colors. Test to make sure that the user did not already enter a color before storing it (i.e. “We’re sorry, but you’ve already added the color ‘yellow’”). When the user types the string “exit” you should stop collecting colors. The print out the colors entered in alphabetical order.  \n",
       "</li><br><li>(100 points)Write a function that generates a random letter from the string ‘BINGO’. Here is a sample running of this program: x = generate_bingo_letter() print (x) \n",
       "</li><br><li>(100 points)Define a function fraction(fstring), where the argument passed in stores a fraction as a string. The function should return a floating point number that is the value of the fraction. \n",
       " \n",
       "Examples of using the function: <br>\n",
       "         print(fraction(“3/4”))  # prints  .750 <br>\n",
       "         print(fraction(“1/3”))  # prints   0.333 <br>\n",
       "     \n",
       " \n",
       "</li><br><li>(Bonus. 300 Points) Write a function balance_parens(astring) that inputs a string with parenthesized sub-­‐strings, which may be nested (e.g., could be a Python arithmetic expression). The function returns True if all of the parentheses that are opened are properly closed, otherwise it returns False. \n",
       "<br>\n",
       "For example, the following string is balanced: \n",
       "<br>\n",
       "“ A * ( (B + C) – (D – E) )” \n",
       "<br>\n",
       "And the following string is not balanced: \n",
       "<br> \n",
       "“  A ((B * C)  + (D      \n",
       "</li>\n",
       "</ol>\n",
       "\n"
      ],
      "text/plain": [
       "<IPython.core.display.Markdown object>"
      ]
     },
     "metadata": {},
     "output_type": "display_data"
    }
   ],
   "source": [
    "display(Markdown(\n",
    "\"\"\"\n",
    "# Python Exam (For Python students):\n",
    "<ol>\n",
    "<li>(100 points)Write a program that contains a while loop that repeatedly asks the user to enter numeric miles they run each week.  Append each run to a list called “distance”. You may use this format [(“week1”, 23.1), (“week2”, 12.2)…]  \n",
    "</li><br><li>(100 points)Write a program that get the max, min, average, number of runs etc. \n",
    "</li><br><li>(100 points)Write a program that prompts the user to enter in an unlimited number of colors. Test to make sure that the user did not already enter a color before storing it (i.e. “We’re sorry, but you’ve already added the color ‘yellow’”). When the user types the string “exit” you should stop collecting colors. The print out the colors entered in alphabetical order.  \n",
    "</li><br><li>(100 points)Write a function that generates a random letter from the string ‘BINGO’. Here is a sample running of this program: x = generate_bingo_letter() print (x) \n",
    "</li><br><li>(100 points)Define a function fraction(fstring), where the argument passed in stores a fraction as a string. The function should return a floating point number that is the value of the fraction. \n",
    " \n",
    "Examples of using the function: <br>\n",
    "         print(fraction(“3/4”))  # prints  .750 <br>\n",
    "         print(fraction(“1/3”))  # prints   0.333 <br>\n",
    "     \n",
    " \n",
    "</li><br><li>(Bonus. 300 Points) Write a function balance_parens(astring) that inputs a string with parenthesized sub-­‐strings, which may be nested (e.g., could be a Python arithmetic expression). The function returns True if all of the parentheses that are opened are properly closed, otherwise it returns False. \n",
    "<br>\n",
    "For example, the following string is balanced: \n",
    "<br>\n",
    "“ A * ( (B + C) – (D – E) )” \n",
    "<br>\n",
    "And the following string is not balanced: \n",
    "<br> \n",
    "“  A ((B * C)  + (D      \n",
    "</li>\n",
    "</ol>\n",
    "\n",
    "\"\"\"\n",
    "))"
   ]
  },
  {
   "cell_type": "code",
   "execution_count": 132,
   "metadata": {
    "ExecuteTime": {
     "end_time": "2020-01-19T20:39:29.373093Z",
     "start_time": "2020-01-19T20:39:29.367092Z"
    }
   },
   "outputs": [
    {
     "data": {
      "text/markdown": [
       "\n",
       "## You may use the following libraries for the exams. \n",
       "import re <br>\n",
       "import spacy  <br>\n",
       "from spacy import displacy <br>\n",
       "import en_core_web_sm <br>\n",
       "from pathlib import Path <br>\n",
       "from IPython.display import display, Markdown, Latex  <br>\n",
       "import sys <br>\n",
       "import csv <br>\n",
       "import pandas as pd <br>\n",
       "import numpy as np <br>\n",
       "import os <br>\n",
       "from os import path <br>\n",
       "from datetime import datetime <br>\n",
       "from urllib.parse import urlparse, urljoin <br>\n",
       "import requests <br>\n",
       "import ntpath <br>\n",
       "from bs4 import BeautifulSoup, Comment <br>\n",
       "import time <br>\n",
       "from pprint import pprint  <br>\n",
       "import shutil <br>\n",
       "#!pip install tldextract <br>\n",
       "import tldextract <br>\n",
       "import multiprocessing <br>\n",
       "from multiprocessing import Process, Queue, cpu_count <br>\n",
       "import os <br>\n",
       "from os import path, listdir  <br>\n"
      ],
      "text/plain": [
       "<IPython.core.display.Markdown object>"
      ]
     },
     "metadata": {},
     "output_type": "display_data"
    }
   ],
   "source": [
    "display(Markdown(\n",
    "\"\"\"\n",
    "## You may use the following libraries for the exams. \n",
    "import re <br>\n",
    "import spacy  <br>\n",
    "from spacy import displacy <br>\n",
    "import en_core_web_sm <br>\n",
    "from pathlib import Path <br>\n",
    "from IPython.display import display, Markdown, Latex  <br>\n",
    "import sys <br>\n",
    "import csv <br>\n",
    "import pandas as pd <br>\n",
    "import numpy as np <br>\n",
    "import os <br>\n",
    "from os import path <br>\n",
    "from datetime import datetime <br>\n",
    "from urllib.parse import urlparse, urljoin <br>\n",
    "import requests <br>\n",
    "import ntpath <br>\n",
    "from bs4 import BeautifulSoup, Comment <br>\n",
    "import time <br>\n",
    "from pprint import pprint  <br>\n",
    "import shutil <br>\n",
    "#!pip install tldextract <br>\n",
    "import tldextract <br>\n",
    "import multiprocessing <br>\n",
    "from multiprocessing import Process, Queue, cpu_count <br>\n",
    "import os <br>\n",
    "from os import path, listdir  <br>\n",
    "\"\"\"\n",
    "))\n"
   ]
  },
  {
   "cell_type": "code",
   "execution_count": null,
   "metadata": {},
   "outputs": [],
   "source": []
  },
  {
   "cell_type": "code",
   "execution_count": null,
   "metadata": {},
   "outputs": [],
   "source": []
  },
  {
   "cell_type": "code",
   "execution_count": null,
   "metadata": {},
   "outputs": [],
   "source": []
  }
 ],
 "metadata": {
  "kernelspec": {
   "display_name": "Python 3",
   "language": "python",
   "name": "python3"
  },
  "language_info": {
   "codemirror_mode": {
    "name": "ipython",
    "version": 3
   },
   "file_extension": ".py",
   "mimetype": "text/x-python",
   "name": "python",
   "nbconvert_exporter": "python",
   "pygments_lexer": "ipython3",
   "version": "3.7.5"
  },
  "toc": {
   "base_numbering": 1,
   "nav_menu": {},
   "number_sections": true,
   "sideBar": true,
   "skip_h1_title": false,
   "title_cell": "Table of Contents",
   "title_sidebar": "Contents",
   "toc_cell": false,
   "toc_position": {},
   "toc_section_display": true,
   "toc_window_display": true
  }
 },
 "nbformat": 4,
 "nbformat_minor": 2
}
