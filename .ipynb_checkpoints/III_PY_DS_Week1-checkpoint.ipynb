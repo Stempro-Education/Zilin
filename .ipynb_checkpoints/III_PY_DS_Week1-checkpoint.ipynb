{
 "cells": [
  {
   "cell_type": "markdown",
   "metadata": {},
   "source": [
    "<font size=5><b>Please check back and forth between this notebook and these chapters in the book: </b></font>\n",
    "<ul><li>Chatper 2 Variables, expressions, and statements</li> \n",
    "<li>Chapter 6 Strings </li>\n",
    "<li>Chapter 8 Lists</li>\n",
    "<li>Chapter 4.2 Built-in functions</li></ul>\n",
    "<br>\n",
    "<font size=5><b>Read and explore this web page: </b></font><br>\n",
    "<b><a href=\"http://www.compjour.org/tutorials/elements-of-a-webpage/\">http://www.compjour.org/tutorials/elements-of-a-webpage/</a></b>\n",
    "\n",
    "<br><b>Please note that: </b>\n",
    "<ol><li>You don't need to read every  page in these chapters. We will periodically come back for deeper dive</li><li>Homework in another notebook</li></ol>\n"
   ]
  },
  {
   "cell_type": "markdown",
   "metadata": {},
   "source": [
    "# Python Preview\n",
    "<font size=5>Please read and run the code carefully. </font>"
   ]
  },
  {
   "cell_type": "markdown",
   "metadata": {},
   "source": [
    "\"Vocabulary\" of Python:"
   ]
  },
  {
   "cell_type": "code",
   "execution_count": null,
   "metadata": {
    "ExecuteTime": {
     "end_time": "2019-12-10T01:08:01.533055Z",
     "start_time": "2019-12-10T01:08:01.528087Z"
    }
   },
   "outputs": [],
   "source": [
    "import pprint as p\n",
    "vocab=['and',\t'del',\t'from',\t'None',\t'TRUE','as',\t'elif',\t'global',\t'nonlocal',\t'try','assert',\t'else',\t'if',\t'not',\t'while','break',\t'except',\t'import',\t'or',\t'with','class',\t'FALSE',\t'in',\t'pass',\t'yield','continue',\t'finally',\t'is',\t'raise',\t'async','def',\t'for',\t'lambda',\t'return',\t'await']\n",
    "p.pprint(vocab)"
   ]
  },
  {
   "cell_type": "markdown",
   "metadata": {},
   "source": [
    "<font size=5><b> About this lesson:</b></font>\n",
    "<br>Use Chrom Devtools (or similar) to explore pages\n",
    "<ul><b>Packages we use here: </b>\n",
    "<li>bs4</li>\n",
    "<li>requests</li>\n",
    "<li>pandas</li>\n",
    "<li>csv</li></ul>\n",
    "\n",
    "<font size=5><b>This lesson briefly covers the following learning points: </b></font>\n",
    "<ul><li>Basics of Python Programming - Expressions, Variables, and Printing Output </li>\n",
    "<li>Python Operators - Python Assignment Operator, Relational and Logical Operators, Short Circuit Operators</li>\n",
    "<li>Python Data Structures In-depth - List, Set, Dictionary and Tuples</li>\n",
    "<li>Built-in And User-Defined Modules</li>\n",
    "    <li>Advanced Use of Packages: NLTK, BS4, Tweepy, Scrapy, Tkinter, Pandas, Numpy etc. </li></ul>    "
   ]
  },
  {
   "cell_type": "markdown",
   "metadata": {},
   "source": [
    "## Popular html tags\n",
    "<br>a and p are extremely common html tags. Here are a few others:\n",
    "\n",
    "<br>div — indicates a division, or area, of the page.\n",
    "<br>b — bolds any text inside.\n",
    "<br>i — italicizes any text inside.\n",
    "<br>table — creates a table.\n",
    "<br>form — creates an input form.\n",
    "<br>For a full list of tags, look <a href=\"https://www.w3schools.com/html/\">W3Schools</a> </p>."
   ]
  },
  {
   "cell_type": "markdown",
   "metadata": {},
   "source": [
    "# Read a web page\n",
    "\n",
    "do caltech\n",
    "## check elements of a college web page"
   ]
  },
  {
   "cell_type": "code",
   "execution_count": null,
   "metadata": {
    "ExecuteTime": {
     "end_time": "2019-12-10T01:22:04.319240Z",
     "start_time": "2019-12-10T01:22:03.813990Z"
    }
   },
   "outputs": [],
   "source": [
    "import requests \n",
    "\n",
    "url='https://www.deans.caltech.edu/Grants_Funding'\n",
    "page = requests.get(url)\n",
    "\n",
    "page"
   ]
  },
  {
   "cell_type": "code",
   "execution_count": null,
   "metadata": {
    "ExecuteTime": {
     "end_time": "2019-12-10T01:27:50.660304Z",
     "start_time": "2019-12-10T01:27:50.657298Z"
    }
   },
   "outputs": [],
   "source": [
    "import pprint \n",
    "print(page.content.decode(\"utf-8\"))"
   ]
  },
  {
   "cell_type": "code",
   "execution_count": null,
   "metadata": {
    "ExecuteTime": {
     "end_time": "2019-12-10T00:28:10.773878Z",
     "start_time": "2019-12-10T00:28:10.747885Z"
    }
   },
   "outputs": [],
   "source": [
    "from bs4 import BeautifulSoup\n",
    "soup = BeautifulSoup(page.content, 'html.parser')"
   ]
  },
  {
   "cell_type": "code",
   "execution_count": null,
   "metadata": {
    "ExecuteTime": {
     "end_time": "2019-12-10T00:28:10.816884Z",
     "start_time": "2019-12-10T00:28:10.805885Z"
    }
   },
   "outputs": [],
   "source": [
    "print(soup.prettify())"
   ]
  },
  {
   "cell_type": "code",
   "execution_count": null,
   "metadata": {
    "ExecuteTime": {
     "end_time": "2019-12-10T00:28:10.976879Z",
     "start_time": "2019-12-10T00:28:10.959881Z"
    }
   },
   "outputs": [],
   "source": [
    "list(soup.children)"
   ]
  },
  {
   "cell_type": "code",
   "execution_count": null,
   "metadata": {
    "ExecuteTime": {
     "end_time": "2019-12-10T00:28:11.134178Z",
     "start_time": "2019-12-10T00:28:11.127170Z"
    }
   },
   "outputs": [],
   "source": [
    "[type(item) for item in list(soup.children)]"
   ]
  },
  {
   "cell_type": "code",
   "execution_count": null,
   "metadata": {
    "ExecuteTime": {
     "end_time": "2019-12-10T00:28:11.295366Z",
     "start_time": "2019-12-10T00:28:11.292401Z"
    }
   },
   "outputs": [],
   "source": [
    "html = list(soup.children)[2]"
   ]
  },
  {
   "cell_type": "code",
   "execution_count": null,
   "metadata": {
    "ExecuteTime": {
     "end_time": "2019-12-10T01:30:25.268053Z",
     "start_time": "2019-12-10T01:30:25.258088Z"
    }
   },
   "outputs": [],
   "source": [
    "list(html.children)"
   ]
  },
  {
   "cell_type": "code",
   "execution_count": null,
   "metadata": {
    "ExecuteTime": {
     "end_time": "2019-12-10T00:28:11.814632Z",
     "start_time": "2019-12-10T00:28:11.811661Z"
    }
   },
   "outputs": [],
   "source": [
    "body = list(html.children)[3]"
   ]
  },
  {
   "cell_type": "code",
   "execution_count": null,
   "metadata": {
    "ExecuteTime": {
     "end_time": "2019-12-10T00:28:12.053280Z",
     "start_time": "2019-12-10T00:28:11.994304Z"
    }
   },
   "outputs": [],
   "source": [
    "body"
   ]
  },
  {
   "cell_type": "code",
   "execution_count": null,
   "metadata": {
    "ExecuteTime": {
     "end_time": "2019-12-10T00:28:12.178229Z",
     "start_time": "2019-12-10T00:28:12.165230Z"
    }
   },
   "outputs": [],
   "source": [
    "list(body.children)"
   ]
  },
  {
   "cell_type": "code",
   "execution_count": null,
   "metadata": {
    "ExecuteTime": {
     "end_time": "2019-12-10T00:28:12.351469Z",
     "start_time": "2019-12-10T00:28:12.347469Z"
    }
   },
   "outputs": [],
   "source": [
    "p = list(body.children)[1]"
   ]
  },
  {
   "cell_type": "code",
   "execution_count": null,
   "metadata": {
    "ExecuteTime": {
     "end_time": "2019-12-10T00:28:12.668751Z",
     "start_time": "2019-12-10T00:28:12.540556Z"
    }
   },
   "outputs": [],
   "source": [
    "alist=[1,2,3,4,5,6,7,8,9,1]\n",
    "alist[10]"
   ]
  },
  {
   "cell_type": "markdown",
   "metadata": {},
   "source": [
    "## A little more complicated -- involving list"
   ]
  },
  {
   "cell_type": "code",
   "execution_count": null,
   "metadata": {
    "ExecuteTime": {
     "end_time": "2019-12-10T01:35:10.515790Z",
     "start_time": "2019-12-10T01:35:10.497789Z"
    }
   },
   "outputs": [],
   "source": [
    "soup = BeautifulSoup(page.content, 'html.parser')\n",
    "soup.find_all('p')\n"
   ]
  },
  {
   "cell_type": "code",
   "execution_count": 115,
   "metadata": {
    "ExecuteTime": {
     "end_time": "2019-12-10T01:35:39.805943Z",
     "start_time": "2019-12-10T01:35:39.800979Z"
    }
   },
   "outputs": [
    {
     "data": {
      "text/plain": [
       "'Options for additional financial resources for undergraduate students are available in a variety of forms beyond aid from the Financial Aid office. In most cases, financial resources are available on an annual basis.For additional questions or assistance related to financial resources in the Dean of Undergraduate Deans office, please contact the office at deansoffice@caltech.edu or see the links in the left column.Inquiries regarding financial aid student loans or types of aid and work-study should be directed to the Financial Aid Office.'"
      ]
     },
     "execution_count": 115,
     "metadata": {},
     "output_type": "execute_result"
    }
   ],
   "source": [
    "soup.find_all('p')[0].get_text()"
   ]
  },
  {
   "cell_type": "code",
   "execution_count": null,
   "metadata": {
    "ExecuteTime": {
     "end_time": "2019-12-10T00:28:13.323918Z",
     "start_time": "2019-12-10T00:28:13.317879Z"
    }
   },
   "outputs": [],
   "source": [
    "te='\\n afdajfd;la jfdjafd\\n afdadfalkj;l              \\n ajeraoj;ljdfajs\\\\n' \n",
    "print(te.strip().replace('\\n', '').replace('  ', ''))"
   ]
  },
  {
   "cell_type": "code",
   "execution_count": null,
   "metadata": {
    "ExecuteTime": {
     "end_time": "2019-12-10T00:28:13.550665Z",
     "start_time": "2019-12-10T00:28:13.540672Z"
    }
   },
   "outputs": [],
   "source": [
    "soup.find_all('p')[1].get_text()"
   ]
  },
  {
   "cell_type": "code",
   "execution_count": null,
   "metadata": {
    "ExecuteTime": {
     "end_time": "2019-12-10T00:28:13.900726Z",
     "start_time": "2019-12-10T00:28:13.892720Z"
    }
   },
   "outputs": [],
   "source": [
    "divs=soup.find_all(class_=\"slide-menu__level-1__link\")[0].get_text().strip()\n",
    "divs"
   ]
  },
  {
   "cell_type": "code",
   "execution_count": null,
   "metadata": {
    "ExecuteTime": {
     "end_time": "2019-12-10T00:28:14.187723Z",
     "start_time": "2019-12-10T00:28:14.181721Z"
    }
   },
   "outputs": [],
   "source": [
    "soup.find_all('div', class_='slide-menu__level-1__item d-flex')[0].get_text().strip().replace('\\n', '').replace('  ', '')"
   ]
  },
  {
   "cell_type": "markdown",
   "metadata": {},
   "source": [
    "## Save for Mr. Xu"
   ]
  },
  {
   "cell_type": "code",
   "execution_count": null,
   "metadata": {
    "ExecuteTime": {
     "end_time": "2019-12-10T00:28:14.567764Z",
     "start_time": "2019-12-10T00:28:14.564753Z"
    }
   },
   "outputs": [],
   "source": [
    "import pandas as pd\n",
    "text=[]"
   ]
  },
  {
   "cell_type": "code",
   "execution_count": null,
   "metadata": {
    "ExecuteTime": {
     "end_time": "2019-12-10T00:28:14.779725Z",
     "start_time": "2019-12-10T00:28:14.772742Z"
    }
   },
   "outputs": [],
   "source": [
    "for onedevi in soup.find_all('div', class_='slide-menu__level-1__item d-flex'):\n",
    "   text.append(onedevi.get_text().strip().replace('\\n', '').replace('  ', ''))\n",
    "text.append(\"i can't find anything\")"
   ]
  },
  {
   "cell_type": "code",
   "execution_count": null,
   "metadata": {
    "ExecuteTime": {
     "end_time": "2019-12-10T00:28:14.995754Z",
     "start_time": "2019-12-10T00:28:14.990722Z"
    }
   },
   "outputs": [],
   "source": [
    "len(text)"
   ]
  },
  {
   "cell_type": "code",
   "execution_count": null,
   "metadata": {
    "ExecuteTime": {
     "end_time": "2019-12-10T00:28:15.196742Z",
     "start_time": "2019-12-10T00:28:15.181754Z"
    }
   },
   "outputs": [],
   "source": [
    "filename='textss.txt'\n",
    "df_text=pd.DataFrame(text, columns=['text_abc'])\n",
    "df_text"
   ]
  },
  {
   "cell_type": "code",
   "execution_count": null,
   "metadata": {
    "ExecuteTime": {
     "end_time": "2019-12-10T00:28:15.371721Z",
     "start_time": "2019-12-10T00:28:15.366755Z"
    }
   },
   "outputs": [],
   "source": [
    "df_text.to_csv(filename)"
   ]
  },
  {
   "cell_type": "code",
   "execution_count": null,
   "metadata": {
    "ExecuteTime": {
     "end_time": "2019-12-10T00:28:15.546759Z",
     "start_time": "2019-12-10T00:28:15.540754Z"
    }
   },
   "outputs": [],
   "source": [
    "filename='text.csv'\n",
    "import csv\n",
    "with open(filename, 'w', newline='') as csvfile:\n",
    "    writer = csv.writer(csvfile, delimiter=' ',quotechar='|', quoting=csv.QUOTE_MINIMAL)\n",
    "    for lll in text:\n",
    "        writer.writerow([lll]) "
   ]
  },
  {
   "cell_type": "code",
   "execution_count": null,
   "metadata": {},
   "outputs": [],
   "source": []
  },
  {
   "cell_type": "code",
   "execution_count": null,
   "metadata": {},
   "outputs": [],
   "source": []
  }
 ],
 "metadata": {
  "kernelspec": {
   "display_name": "Python 3",
   "language": "python",
   "name": "python3"
  },
  "language_info": {
   "codemirror_mode": {
    "name": "ipython",
    "version": 3
   },
   "file_extension": ".py",
   "mimetype": "text/x-python",
   "name": "python",
   "nbconvert_exporter": "python",
   "pygments_lexer": "ipython3",
   "version": "3.7.5"
  },
  "toc": {
   "base_numbering": 1,
   "nav_menu": {},
   "number_sections": true,
   "sideBar": true,
   "skip_h1_title": false,
   "title_cell": "Table of Contents",
   "title_sidebar": "Contents",
   "toc_cell": false,
   "toc_position": {
    "height": "calc(100% - 180px)",
    "left": "10px",
    "top": "150px",
    "width": "165px"
   },
   "toc_section_display": true,
   "toc_window_display": true
  }
 },
 "nbformat": 4,
 "nbformat_minor": 2
}
