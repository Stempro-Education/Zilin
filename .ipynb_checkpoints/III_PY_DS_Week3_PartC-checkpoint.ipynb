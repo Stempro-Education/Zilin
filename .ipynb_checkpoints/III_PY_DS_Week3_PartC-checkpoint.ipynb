{
 "cells": [
  {
   "cell_type": "markdown",
   "metadata": {},
   "source": [
    "<font size=6 bold=true>Dec 21 -- Part C\n",
    "<br><br>Data Structure</font>\n",
    "\n",
    "<font size=5 color='Olive'>For the first 5 lessons, DS will be combined with Python due to insufficiencies of Concepts</font>"
   ]
  },
  {
   "cell_type": "code",
   "execution_count": 1,
   "metadata": {
    "ExecuteTime": {
     "end_time": "2019-12-22T05:27:41.294420Z",
     "start_time": "2019-12-22T05:27:40.477399Z"
    }
   },
   "outputs": [],
   "source": [
    "import re\n",
    "import sys\n",
    "import os\n",
    "from os import path\n",
    "from datetime import datetime"
   ]
  },
  {
   "cell_type": "markdown",
   "metadata": {},
   "source": [
    "# Data types and functions. We were there. "
   ]
  },
  {
   "cell_type": "markdown",
   "metadata": {},
   "source": [
    "Numbers<br>\n",
    "String<br>\n",
    "List<br>\n",
    "Tuple<br>\n",
    "Set<br>\n",
    "Dictionary"
   ]
  },
  {
   "cell_type": "markdown",
   "metadata": {},
   "source": [
    "<br><font size=5>Functions Revisit</font>"
   ]
  },
  {
   "cell_type": "code",
   "execution_count": 24,
   "metadata": {
    "ExecuteTime": {
     "end_time": "2019-12-22T15:19:50.731585Z",
     "start_time": "2019-12-22T15:19:50.725580Z"
    }
   },
   "outputs": [],
   "source": [
    "#1: \n",
    "import os\n",
    "from datetime import datetime\n",
    "\n",
    "def generate_defaultfilename():\n",
    "    folder=os.getcwd()\n",
    "    filename=datetime.now().strftime(\"%b\")+'_'+datetime.now().strftime(\"%m_%d_%Y_%H_%M_%S\")+'.csv' \n",
    "    return path.join(folder, filename) \n",
    "\n",
    "#generate_defaultfilename()   "
   ]
  },
  {
   "cell_type": "code",
   "execution_count": 26,
   "metadata": {
    "ExecuteTime": {
     "end_time": "2019-12-22T15:20:27.990990Z",
     "start_time": "2019-12-22T15:20:27.984988Z"
    }
   },
   "outputs": [],
   "source": [
    "# 2\n",
    "def read_oneurl(url):  \n",
    "    response=requests.get(url)  \n",
    "    if response.status_code==200: \n",
    "        return get_pagetext(response)\n",
    "    else: \n",
    "        return [[None, None, None, None]]"
   ]
  },
  {
   "cell_type": "code",
   "execution_count": 62,
   "metadata": {
    "ExecuteTime": {
     "end_time": "2019-12-22T15:41:35.570710Z",
     "start_time": "2019-12-22T15:41:35.557698Z"
    }
   },
   "outputs": [
    {
     "data": {
      "text/html": [
       "<div>\n",
       "<style scoped>\n",
       "    .dataframe tbody tr th:only-of-type {\n",
       "        vertical-align: middle;\n",
       "    }\n",
       "\n",
       "    .dataframe tbody tr th {\n",
       "        vertical-align: top;\n",
       "    }\n",
       "\n",
       "    .dataframe thead th {\n",
       "        text-align: right;\n",
       "    }\n",
       "</style>\n",
       "<table border=\"1\" class=\"dataframe\">\n",
       "  <thead>\n",
       "    <tr style=\"text-align: right;\">\n",
       "      <th></th>\n",
       "      <th>InstitutionName</th>\n",
       "      <th>UnitID</th>\n",
       "      <th>ParentID</th>\n",
       "      <th>OPEID</th>\n",
       "      <th>InstitutionType</th>\n",
       "      <th>Address</th>\n",
       "      <th>City</th>\n",
       "      <th>State</th>\n",
       "      <th>HasHistory</th>\n",
       "    </tr>\n",
       "  </thead>\n",
       "  <tbody>\n",
       "    <tr>\n",
       "      <th>119</th>\n",
       "      <td>Kirkland Beauty School</td>\n",
       "      <td>179317</td>\n",
       "      <td>0</td>\n",
       "      <td>NaN</td>\n",
       "      <td>Institution</td>\n",
       "      <td>17311 140th Avenue N.E.</td>\n",
       "      <td>Woodinville</td>\n",
       "      <td>WA</td>\n",
       "      <td>False</td>\n",
       "    </tr>\n",
       "  </tbody>\n",
       "</table>\n",
       "</div>"
      ],
      "text/plain": [
       "            InstitutionName  UnitID  ParentID OPEID InstitutionType  \\\n",
       "119  Kirkland Beauty School  179317         0   NaN     Institution   \n",
       "\n",
       "                     Address         City State  HasHistory  \n",
       "119  17311 140th Avenue N.E.  Woodinville    WA       False  "
      ]
     },
     "execution_count": 62,
     "metadata": {},
     "output_type": "execute_result"
    }
   ],
   "source": [
    "#3:  \n",
    "import pandas as pd\n",
    "df_coll=pd.read_csv('C:\\\\Coding\\\\utility_git\\\\Notebooks\\\\WAColleges.csv')\n",
    " \n",
    "def get_universitylist(df_coll, namelike, state='WA'):\n",
    "    return df_coll[(df_coll['InstitutionName'].str.contains(namelike)) & (df_coll['State']==state)]\n",
    "\n",
    "get_universitylist(df_coll, namelike='Kirk')"
   ]
  },
  {
   "cell_type": "code",
   "execution_count": 71,
   "metadata": {
    "ExecuteTime": {
     "end_time": "2019-12-22T15:45:09.936929Z",
     "start_time": "2019-12-22T15:45:09.931936Z"
    }
   },
   "outputs": [
    {
     "data": {
      "text/plain": [
       "3.3333333333333335"
      ]
     },
     "execution_count": 71,
     "metadata": {},
     "output_type": "execute_result"
    }
   ],
   "source": [
    "#4\n",
    "def avg_gpa(*reportcards):\n",
    "    n=len(reportcards)\n",
    "    total=0.0\n",
    "    for sub in reportcards:\n",
    "        total+=sub\n",
    "    return total/n if n>0 else 1\n",
    "\n",
    "avg_gpa(4,4,4,3,2,3)\n",
    "\n"
   ]
  },
  {
   "cell_type": "code",
   "execution_count": 80,
   "metadata": {
    "ExecuteTime": {
     "end_time": "2019-12-22T15:50:01.130980Z",
     "start_time": "2019-12-22T15:50:01.126978Z"
    }
   },
   "outputs": [],
   "source": [
    "#5\n",
    "def school_pga(**data): \n",
    "    for key, value in data.items():  \n",
    "        print(\"school: {} avg gpa: {}\\n\".format(key,value))\n",
    "school_pga(UIUC=3.75, UFlorida = 3.66)"
   ]
  },
  {
   "cell_type": "markdown",
   "metadata": {},
   "source": [
    "# Object Oriented Programming: Define Classes"
   ]
  },
  {
   "cell_type": "markdown",
   "metadata": {},
   "source": [
    "Class is a class \n",
    "<br>constructor"
   ]
  },
  {
   "cell_type": "code",
   "execution_count": 83,
   "metadata": {
    "ExecuteTime": {
     "end_time": "2019-12-22T16:17:16.409694Z",
     "start_time": "2019-12-22T16:17:16.404727Z"
    }
   },
   "outputs": [],
   "source": [
    "class Describe_College(object):\n",
    "    \n",
    "    def __init__(self,col_name, avg_gpa, avg_act, avg_sat, addr): \n",
    "        self.col_name=col_name\n",
    "        self.avg_gpa=avg_gpa\n",
    "        self.avg_act=avg_act\n",
    "        self.avg_sat=avg_sat\n",
    "        self.addr=addr \n",
    "    def basic_info(self):\n",
    "        print(\"College: {} avg gpa requirement is {}\".format(self.col_name,self.avg_gpa))\n",
    "\n",
    "    def get_avggpa(self):\n",
    "        return self.avg_gpa\n",
    "\n",
    "c=Describe_College('Stanford', 3.0, 33.0, 1500, 'CA')\n",
    "c.basic_info()\n",
    "c.get_avggpa()"
   ]
  },
  {
   "cell_type": "code",
   "execution_count": null,
   "metadata": {},
   "outputs": [],
   "source": [
    "\n"
   ]
  },
  {
   "cell_type": "code",
   "execution_count": null,
   "metadata": {},
   "outputs": [],
   "source": []
  },
  {
   "cell_type": "code",
   "execution_count": null,
   "metadata": {},
   "outputs": [],
   "source": [
    " "
   ]
  }
 ],
 "metadata": {
  "kernelspec": {
   "display_name": "Python 3",
   "language": "python",
   "name": "python3"
  },
  "language_info": {
   "codemirror_mode": {
    "name": "ipython",
    "version": 3
   },
   "file_extension": ".py",
   "mimetype": "text/x-python",
   "name": "python",
   "nbconvert_exporter": "python",
   "pygments_lexer": "ipython3",
   "version": "3.7.4"
  },
  "toc": {
   "base_numbering": 1,
   "nav_menu": {},
   "number_sections": true,
   "sideBar": true,
   "skip_h1_title": false,
   "title_cell": "Table of Contents",
   "title_sidebar": "Contents",
   "toc_cell": false,
   "toc_position": {
    "height": "calc(100% - 180px)",
    "left": "10px",
    "top": "150px",
    "width": "165px"
   },
   "toc_section_display": true,
   "toc_window_display": true
  }
 },
 "nbformat": 4,
 "nbformat_minor": 2
}
